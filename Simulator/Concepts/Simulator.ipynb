{
 "cells": [
  {
   "cell_type": "markdown",
   "metadata": {},
   "source": [
    "## Outline"
   ]
  },
  {
   "cell_type": "markdown",
   "metadata": {},
   "source": [
    "Following features of impulse response simulator have been implemented in this notebook.\n",
    "\n",
    "1- Find lag-frequency spectrum of a simple delta impulse response.\n",
    "\n",
    "2- Find lag-frequency spectrum of a _more_ realistic impulse response based on real physical principles.\n",
    "\n",
    "3- Compute lag-frequency spectrum of delta impulse responses with same intensities and varying positions at different energy levels.\n",
    "\n",
    "4- Compute lag-frequency spectrum of delta impulse responses with same positions and varying intensities at different energy levels."
   ]
  },
  {
   "cell_type": "markdown",
   "metadata": {},
   "source": [
    "Import libraries and obtain data."
   ]
  },
  {
   "cell_type": "code",
   "execution_count": 1,
   "metadata": {
    "collapsed": false
   },
   "outputs": [],
   "source": [
    "from __future__ import print_function, division, with_statement, absolute_import, generators, nested_scopes\n",
    "from stingray import Crossspectrum, Lightcurve, sampledata\n",
    "import numpy as np\n",
    "from scipy import signal\n",
    "from matplotlib import pyplot as plt\n",
    "\n",
    "%matplotlib inline"
   ]
  },
  {
   "cell_type": "markdown",
   "metadata": {},
   "source": [
    "Define variability signal."
   ]
  },
  {
   "cell_type": "code",
   "execution_count": 16,
   "metadata": {
    "collapsed": false
   },
   "outputs": [],
   "source": [
    "lc = sampledata.sample_data()\n",
    "s = lc.counts"
   ]
  },
  {
   "cell_type": "markdown",
   "metadata": {},
   "source": [
    "## Lag-frequency Spectrum"
   ]
  },
  {
   "cell_type": "markdown",
   "metadata": {},
   "source": [
    "### Simple Delta Impulse Response"
   ]
  },
  {
   "cell_type": "markdown",
   "metadata": {},
   "source": [
    "Define a delta impulse response with a delay of 10."
   ]
  },
  {
   "cell_type": "code",
   "execution_count": 17,
   "metadata": {
    "collapsed": true
   },
   "outputs": [],
   "source": [
    "delay = int(10/lc.dt)\n",
    "h_zeros = np.zeros(delay)\n",
    "h = np.append(h_zeros, 1)"
   ]
  },
  {
   "cell_type": "markdown",
   "metadata": {},
   "source": [
    "Find output signal by taking convolution of variability signal and impulse response."
   ]
  },
  {
   "cell_type": "code",
   "execution_count": 18,
   "metadata": {
    "collapsed": false
   },
   "outputs": [],
   "source": [
    "output = signal.fftconvolve(s, h)\n",
    "# To make two counts of equal size, remove last 'delay' entries and avoid first zeros\n",
    "output = output[delay:-delay]\n",
    "s_mod = s[delay:]"
   ]
  },
  {
   "cell_type": "markdown",
   "metadata": {},
   "source": [
    "Visualize input and output signals."
   ]
  },
  {
   "cell_type": "code",
   "execution_count": 19,
   "metadata": {
    "collapsed": false
   },
   "outputs": [
    {
     "data": {
      "image/png": "[encoded data removed]",
      "text/plain": [
       "<matplotlib.figure.Figure at 0x115123950>"
      ]
     },
     "metadata": {},
     "output_type": "display_data"
    }
   ],
   "source": [
    "plt.figure()\n",
    "plt.plot(s_mod[-80:],'r',output[-80:],'g')\n",
    "plt.show()"
   ]
  },
  {
   "cell_type": "markdown",
   "metadata": {},
   "source": [
    "Make lightcurves using `Lightcurve` class."
   ]
  },
  {
   "cell_type": "code",
   "execution_count": 598,
   "metadata": {
    "collapsed": false
   },
   "outputs": [],
   "source": [
    "time = lc.time[delay:]\n",
    "lc1 = Lightcurve(time, s_mod)\n",
    "lc2 = Lightcurve(time, output)"
   ]
  },
  {
   "cell_type": "markdown",
   "metadata": {},
   "source": [
    "Compute crossspectrum."
   ]
  },
  {
   "cell_type": "code",
   "execution_count": 599,
   "metadata": {
    "collapsed": false
   },
   "outputs": [],
   "source": [
    "cross = Crossspectrum(lc1, lc2)\n",
    "# Rebin the cross spectrum for ease of visualization\n",
    "cross = cross.rebin(0.0075)"
   ]
  },
  {
   "cell_type": "markdown",
   "metadata": {},
   "source": [
    "Calculate time lag."
   ]
  },
  {
   "cell_type": "code",
   "execution_count": 600,
   "metadata": {
    "collapsed": true
   },
   "outputs": [],
   "source": [
    "lag = np.angle(cross.cs)/ (2 * np.pi * cross.freq)"
   ]
  },
  {
   "cell_type": "markdown",
   "metadata": {},
   "source": [
    "Plot lag."
   ]
  },
  {
   "cell_type": "code",
   "execution_count": 601,
   "metadata": {
    "collapsed": false
   },
   "outputs": [
    {
     "data": {
      "image/png": "[encoded data removed]",
      "text/plain": [
       "<matplotlib.figure.Figure at 0x113fce550>"
      ]
     },
     "metadata": {},
     "output_type": "display_data"
    }
   ],
   "source": [
    "plt.figure()\n",
    "\n",
    "# Plot lag-frequency spectrum.\n",
    "plt.plot(cross.freq, lag, 'r')\n",
    "\n",
    "# Find cutoff points\n",
    "v_cutoff = 1.0/(2*10.0)\n",
    "h_cutoff = lag[int((v_cutoff-0.0075)*1/0.0075)]\n",
    "\n",
    "plt.axvline(v_cutoff, color='g',linestyle='--')\n",
    "plt.axhline(h_cutoff, color='g', linestyle='-.')\n",
    "\n",
    "# Define axis\n",
    "plt.axis([0,0.2,-15,15])\n",
    "plt.show()"
   ]
  },
  {
   "cell_type": "markdown",
   "metadata": {},
   "source": [
    "According to Uttley et al, the lag-frequency spectrum shows a constant delay until the frequency (1/2*time_delay) which is represented by the green vertical line in the above figure. After this point, the phase warps and the lag becomes negative. This is given in page 43 of review."
   ]
  },
  {
   "cell_type": "markdown",
   "metadata": {},
   "source": [
    "### More realistic impulse response"
   ]
  },
  {
   "cell_type": "markdown",
   "metadata": {},
   "source": [
    "The response of refelection from an accretion disk to an instantaneous flash follows the _top-hat function_ to first\n",
    "order approximation. The response shows an initial steep rise some time after the initial flash (slope depending on\n",
    "the light travel time to the disk) and then gradually decays, as parts of the accretion disk farther away from the \n",
    "source receieve radiations at later times.\n",
    "\n",
    "The secondary peak is caused due to the bending of light in strong gravitational field around the black hole. This is the re-emergence of photons reflected from the far side of accretion disk that although would be classically blocked from our view, are lensed by strong gravitational field around black hole into our line of sight. \n",
    "\n",
    "Below, we obtain an impulse response similar to one in Utley et al.\n"
   ]
  },
  {
   "cell_type": "code",
   "execution_count": 602,
   "metadata": {
    "collapsed": false
   },
   "outputs": [
    {
     "data": {
      "image/png": "[encoded data removed]",
      "text/plain": [
       "<matplotlib.figure.Figure at 0x113fc6250>"
      ]
     },
     "metadata": {},
     "output_type": "display_data"
    }
   ],
   "source": [
    "# Primary peak time, secondary peak time, end time\n",
    "t1, t2, t3 = 3, 4, 10\n",
    "# Peaks' values\n",
    "p1, p2 = 1, 1.4\n",
    "# Rise and decay slopes\n",
    "rise, decay = 0.6, 0.1\n",
    "\n",
    "# Append zeros before start time\n",
    "h_primary = np.append(np.zeros(int(t1/lc.dt)), p1)\n",
    "\n",
    "# Create a rising exponential of user-provided slope that ends at secondary peak time and secondary peak\n",
    "# value\n",
    "x = np.linspace(t1/lc.dt, t2/lc.dt, (t2-t1)/lc.dt)\n",
    "h_rise = np.exp(rise*x)\n",
    "# Find a factor for scaling\n",
    "factor = np.max(h_rise)/(p2-p1)\n",
    "h_secondary = (h_rise/factor) + p1\n",
    "\n",
    "# Create a decaying exponential until the end time\n",
    "x = np.linspace(t2/lc.dt, t3/lc.dt, (t3-t2)/lc.dt)\n",
    "h_decay = (np.exp((-decay)*(x-4/lc.dt))) \n",
    "\n",
    "# Add the three responses\n",
    "h = np.append(h_primary, h_secondary)\n",
    "h = np.append(h, h_decay)\n",
    "\n",
    "# Plot\n",
    "plt.plot(h,'y')\n",
    "plt.show()\n"
   ]
  },
  {
   "cell_type": "markdown",
   "metadata": {},
   "source": [
    "Obtain output through convolution."
   ]
  },
  {
   "cell_type": "code",
   "execution_count": 603,
   "metadata": {
    "collapsed": false
   },
   "outputs": [],
   "source": [
    "delay = (int(t3/lc.dt))\n",
    "output = signal.fftconvolve(s, h)\n",
    "output = output[delay:-delay]\n",
    "s_mod = s[delay:]"
   ]
  },
  {
   "cell_type": "markdown",
   "metadata": {},
   "source": [
    "Form light curves."
   ]
  },
  {
   "cell_type": "code",
   "execution_count": 604,
   "metadata": {
    "collapsed": false
   },
   "outputs": [],
   "source": [
    "time = lc.time[delay:]\n",
    "lc1 = Lightcurve(time, s_mod)\n",
    "lc2 = Lightcurve(time, output)"
   ]
  },
  {
   "cell_type": "markdown",
   "metadata": {},
   "source": [
    "Find cross spectrum and compute lags."
   ]
  },
  {
   "cell_type": "code",
   "execution_count": 605,
   "metadata": {
    "collapsed": true
   },
   "outputs": [],
   "source": [
    "cross = Crossspectrum(lc1, lc2)\n",
    "cross = cross.rebin(0.0075)\n",
    "lag = np.angle(cross.cs)/ (2 * np.pi * cross.freq)"
   ]
  },
  {
   "cell_type": "markdown",
   "metadata": {},
   "source": [
    "Plot results."
   ]
  },
  {
   "cell_type": "code",
   "execution_count": 606,
   "metadata": {
    "collapsed": false
   },
   "outputs": [
    {
     "data": {
      "image/png": "[encoded data removed]",
      "text/plain": [
       "<matplotlib.figure.Figure at 0x113fa1c50>"
      ]
     },
     "metadata": {},
     "output_type": "display_data"
    }
   ],
   "source": [
    "plt.figure()\n",
    "\n",
    "# Plot lag-frequency spectrum.\n",
    "plt.plot(cross.freq, lag, 'r')\n",
    "\n",
    "# Define the x-position of vertical line\n",
    "v_cutoff = 1.0/(2*t2)\n",
    "h_cutoff = lag[int((v_cutoff-0.0075)*1/0.0075)]\n",
    "\n",
    "plt.axvline(v_cutoff, color='g', linestyle='--')\n",
    "plt.axhline(h_cutoff, color='g', linestyle='-.')\n",
    "\n",
    "# Define axis\n",
    "plt.axis([0,0.2,-10,10])\n",
    "plt.show()"
   ]
  },
  {
   "cell_type": "markdown",
   "metadata": {
    "collapsed": true
   },
   "source": [
    "## Energy Dependence"
   ]
  },
  {
   "cell_type": "markdown",
   "metadata": {},
   "source": [
    "### With same intensity and varying position"
   ]
  },
  {
   "cell_type": "markdown",
   "metadata": {},
   "source": [
    "To create different lags for different energy channels, we create delta impulses of same intensity at different positions."
   ]
  },
  {
   "cell_type": "code",
   "execution_count": 607,
   "metadata": {
    "collapsed": false
   },
   "outputs": [],
   "source": [
    "energies = np.array([4.5,8.5])"
   ]
  },
  {
   "cell_type": "markdown",
   "metadata": {},
   "source": [
    "Create impulse responses for all energy channels."
   ]
  },
  {
   "cell_type": "code",
   "execution_count": 608,
   "metadata": {
    "collapsed": false
   },
   "outputs": [],
   "source": [
    "h_zeros = [np.zeros(int(i/lc.dt)) for i in energies]\n",
    "responses = [np.append(h, 1) for h in h_zeros]"
   ]
  },
  {
   "cell_type": "code",
   "execution_count": 609,
   "metadata": {
    "collapsed": false
   },
   "outputs": [],
   "source": [
    "delays = [int(i/lc.dt) for i in energies]\n",
    "outputs = [signal.fftconvolve(s, h)[d:-d] for h,d in zip(responses,delays)]\n",
    "s_mods = [s[d:] for d in delays]"
   ]
  },
  {
   "cell_type": "markdown",
   "metadata": {},
   "source": [
    "Make light curves."
   ]
  },
  {
   "cell_type": "code",
   "execution_count": 610,
   "metadata": {
    "collapsed": false
   },
   "outputs": [],
   "source": [
    "t_mods = [lc.time[d:] for d in delays]\n",
    "lc_input = [Lightcurve(t_mod, s_mod) for t_mod, s_mod in zip(t_mods,s_mods)]\n",
    "lc_output = [Lightcurve(t_mod, output) for t_mod, output in zip(t_mods,outputs)]"
   ]
  },
  {
   "cell_type": "code",
   "execution_count": 611,
   "metadata": {
    "collapsed": true
   },
   "outputs": [],
   "source": [
    "cross_spectrums = [Crossspectrum(lc1, lc2).rebin(0.0075) for lc1,lc2 in zip(lc_input,lc_output)]"
   ]
  },
  {
   "cell_type": "markdown",
   "metadata": {},
   "source": [
    "Compute lags and cutoffs."
   ]
  },
  {
   "cell_type": "code",
   "execution_count": 612,
   "metadata": {
    "collapsed": false
   },
   "outputs": [],
   "source": [
    "lags = [np.angle(cross.cs)/ (2 * np.pi * cross.freq) for cross in cross_spectrums]"
   ]
  },
  {
   "cell_type": "markdown",
   "metadata": {},
   "source": [
    "Get cutoff points for all energy channels."
   ]
  },
  {
   "cell_type": "code",
   "execution_count": 613,
   "metadata": {
    "collapsed": false
   },
   "outputs": [],
   "source": [
    "v_cutoffs = [1.0/(2*energy) for energy in energies]\n",
    "h_cutoffs = [lag[int((v_cutoff-0.0075)*1/0.0075)] for lag, v_cutoff in zip(lags, v_cutoffs)]"
   ]
  },
  {
   "cell_type": "markdown",
   "metadata": {},
   "source": [
    "We plot lag-frequency spectrum for all energy channels."
   ]
  },
  {
   "cell_type": "code",
   "execution_count": 614,
   "metadata": {
    "collapsed": false
   },
   "outputs": [
    {
     "data": {
      "image/png": "[encoded data removed]",
      "text/plain": [
       "<matplotlib.figure.Figure at 0x11058d9d0>"
      ]
     },
     "metadata": {},
     "output_type": "display_data"
    }
   ],
   "source": [
    "plt.figure()\n",
    "plots = []\n",
    "colors = ['r','g']\n",
    "\n",
    "# Plot lag-frequency spectrum\n",
    "for i in range(0,len(lags)):\n",
    "    plots += plt.plot(cross_spectrums[i].freq, lags[i], colors[i], label=str(energies[i])+'keV')\n",
    "    plt.axvline(v_cutoffs[i],color=colors[i],linestyle='--')\n",
    "    plt.axhline(h_cutoffs[i], color=colors[i], linestyle='-.')\n",
    "\n",
    "# Define axes and add labels\n",
    "plt.axis([0,0.2,-20,20])\n",
    "plt.legend(plots)\n",
    "plt.xlabel('Frequencies (Hz)')\n",
    "plt.ylabel('Lags')\n",
    "plt.title('Energy Dependent Frequency-lag Spectrum')\n",
    "plt.show()"
   ]
  },
  {
   "cell_type": "markdown",
   "metadata": {},
   "source": [
    "Note:\n",
    "\n",
    "Currently, lag-energy spectrum isn't plotted and hence I am unable to verify results from Uttley et al. However, as soon as it is implemented in library project, I will test it here as well."
   ]
  },
  {
   "cell_type": "markdown",
   "metadata": {},
   "source": [
    "### With same position and varying intensity"
   ]
  },
  {
   "cell_type": "markdown",
   "metadata": {},
   "source": [
    "Here, we use delta impulse responses whose position remains same but intensity varies. \n",
    "\n",
    "Again, first we define energies and then create impulse responses, and subsequently using convolution, obtain the output light curves."
   ]
  },
  {
   "cell_type": "code",
   "execution_count": 615,
   "metadata": {
    "collapsed": true
   },
   "outputs": [],
   "source": [
    "energies = np.array([4.5,8.5])"
   ]
  },
  {
   "cell_type": "code",
   "execution_count": 616,
   "metadata": {
    "collapsed": false
   },
   "outputs": [],
   "source": [
    "h_zeros = np.zeros(int(10/lc.dt))\n",
    "responses = [np.append(h_zeros, i+1) for i in range(0,len(energies))]"
   ]
  },
  {
   "cell_type": "code",
   "execution_count": 617,
   "metadata": {
    "collapsed": true
   },
   "outputs": [],
   "source": [
    "delay = int(10/lc.dt)\n",
    "outputs = [signal.fftconvolve(s, h)[delay:-delay] for h in responses]\n",
    "s_mod = s[delay:]"
   ]
  },
  {
   "cell_type": "code",
   "execution_count": 618,
   "metadata": {
    "collapsed": false
   },
   "outputs": [],
   "source": [
    "t_mod = lc.time[delay:] \n",
    "lc_input = Lightcurve(t_mod, s_mod)\n",
    "lc_output = [Lightcurve(t_mod, output) for output in outputs]"
   ]
  },
  {
   "cell_type": "code",
   "execution_count": 619,
   "metadata": {
    "collapsed": true
   },
   "outputs": [],
   "source": [
    "cross_spectrums = [Crossspectrum(lc_input, lc2).rebin(0.0075) for lc2 in lc_output]"
   ]
  },
  {
   "cell_type": "code",
   "execution_count": 620,
   "metadata": {
    "collapsed": true
   },
   "outputs": [],
   "source": [
    "lags = [np.angle(cross.cs)/ (2 * np.pi * cross.freq) for cross in cross_spectrums]"
   ]
  },
  {
   "cell_type": "code",
   "execution_count": 621,
   "metadata": {
    "collapsed": true
   },
   "outputs": [],
   "source": [
    "v_cutoff = 1.0/(2.0*10) \n",
    "h_cutoff = lags[0][int((v_cutoff-0.0075)*1/0.0075)]"
   ]
  },
  {
   "cell_type": "code",
   "execution_count": 622,
   "metadata": {
    "collapsed": false
   },
   "outputs": [
    {
     "data": {
      "image/png": "[encoded data removed]",
      "text/plain": [
       "<matplotlib.figure.Figure at 0x1140249d0>"
      ]
     },
     "metadata": {},
     "output_type": "display_data"
    }
   ],
   "source": [
    "plt.figure()\n",
    "plots = []\n",
    "colors = ['r','g']\n",
    "\n",
    "# Plot lag-frequency spectrum\n",
    "for i in range(0,len(lags)):\n",
    "    plots += plt.plot(cross_spectrums[i].freq, lags[i], colors[i], label=str(energies[i])+'keV')\n",
    "\n",
    "# Draw horizontal and vertical line\n",
    "plt.axvline(v_cutoff, color='g', linestyle='--')\n",
    "plt.axhline(h_cutoff, color='g', linestyle='-.')\n",
    "\n",
    "\n",
    "# Define axis\n",
    "plt.axis([0,0.2,-25,25])\n",
    "plt.legend(plots)\n",
    "plt.xlabel('Frequencies (Hz)')\n",
    "plt.ylabel('Lags')\n",
    "plt.title('Energy Dependent Frequency-lag Spectrum')\n",
    "plt.show()"
   ]
  },
  {
   "cell_type": "markdown",
   "metadata": {},
   "source": [
    "As expected (and also demonstrated in Utley et al), the shape of lag-frequency spectrum for both energy channels is similar.\n"
   ]
  }
 ],
 "metadata": {
  "kernelspec": {
   "display_name": "Python 2",
   "language": "python",
   "name": "python2"
  },
  "language_info": {
   "codemirror_mode": {
    "name": "ipython",
    "version": 2
   },
   "file_extension": ".py",
   "mimetype": "text/x-python",
   "name": "python",
   "nbconvert_exporter": "python",
   "pygments_lexer": "ipython2",
   "version": "2.7.10"
  }
 },
 "nbformat": 4,
 "nbformat_minor": 0
}
