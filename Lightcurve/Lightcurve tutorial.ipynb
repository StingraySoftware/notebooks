{
 "cells": [
  {
   "cell_type": "markdown",
   "metadata": {},
   "source": [
    "Start here to begin with Stingray."
   ]
  },
  {
   "cell_type": "code",
   "execution_count": 1,
   "metadata": {},
   "outputs": [],
   "source": [
    "import numpy as np\n",
    "%matplotlib inline\n",
    "import warnings\n",
    "warnings.filterwarnings('ignore')"
   ]
  },
  {
   "cell_type": "markdown",
   "metadata": {},
   "source": [
    "# Creating a light curve"
   ]
  },
  {
   "cell_type": "code",
   "execution_count": 2,
   "metadata": {},
   "outputs": [],
   "source": [
    "from stingray import Lightcurve"
   ]
  },
  {
   "cell_type": "markdown",
   "metadata": {},
   "source": [
    "A `Lightcurve` object is usually created in one of the following two ways:\n",
    "\n",
    "1. From an array of time stamps and an array of counts.\n",
    "        \n",
    "        lc = Lightcurve(times, counts, **opts)\n",
    "\n",
    "    where `**opts` are any (optional) keyword arguments (e.g. `dt=0.1`, `mjdref=55000`, etc.)\n",
    "\n",
    "2. From photon arrival times.\n",
    "\n",
    "        lc = Lightcurve.make_lightcurve(event_arrival_times, dt=1, **opts)\n",
    "\n",
    "as will be described in the next sections.\n",
    "\n",
    "An additional possibility is creating an empty `Lightcurve` object, whose attributes will be filled in later:\n",
    "\n",
    "    lc = Lightcurve()\n",
    "\n",
    "or, if one wants to specify any keyword arguments:\n",
    "\n",
    "    lc = Lightcurve(**opts)\n",
    "\n",
    " This option is usually only relevant to advanced users, but we mention it here for reference"
   ]
  },
  {
   "cell_type": "markdown",
   "metadata": {},
   "source": [
    "## 1. Array of time stamps and counts"
   ]
  },
  {
   "cell_type": "markdown",
   "metadata": {},
   "source": [
    "Create 1000 time stamps"
   ]
  },
  {
   "cell_type": "code",
   "execution_count": 3,
   "metadata": {},
   "outputs": [
    {
     "data": {
      "text/plain": [
       "array([0, 1, 2, 3, 4, 5, 6, 7, 8, 9])"
      ]
     },
     "execution_count": 3,
     "metadata": {},
     "output_type": "execute_result"
    }
   ],
   "source": [
    "times = np.arange(1000)\n",
    "times[:10]"
   ]
  },
  {
   "cell_type": "markdown",
   "metadata": {},
   "source": [
    "Create 1000 random Poisson-distributed counts:"
   ]
  },
  {
   "cell_type": "code",
   "execution_count": 4,
   "metadata": {},
   "outputs": [
    {
     "data": {
      "text/plain": [
       "array([ 98, 110,  94,  99, 107,  98,  80,  86, 103,  94])"
      ]
     },
     "execution_count": 4,
     "metadata": {},
     "output_type": "execute_result"
    }
   ],
   "source": [
    "counts = np.random.poisson(100, size=len(times))\n",
    "counts[:10]"
   ]
  },
  {
   "cell_type": "markdown",
   "metadata": {},
   "source": [
    "Create a Lightcurve object with the times and counts array."
   ]
  },
  {
   "cell_type": "code",
   "execution_count": 5,
   "metadata": {},
   "outputs": [
    {
     "name": "stderr",
     "output_type": "stream",
     "text": [
      "\u001b[38;20m2024-02-15 17:36:54,184 - stingray.loggingconfig - INFO - Checking if light curve is well behaved. This can take time, so if you are sure it is already sorted, specify skip_checks=True at light curve creation. (lightcurve.py:486)\u001b[0m\n",
      "\u001b[38;20m2024-02-15 17:36:54,327 - stingray.loggingconfig - INFO - Checking if light curve is sorted. (lightcurve.py:521)\u001b[0m\n",
      "\u001b[38;20m2024-02-15 17:36:54,386 - stingray.loggingconfig - INFO - Computing the bin time ``dt``. This can take time. If you know the bin time, please specify it at light curve creation (lightcurve.py:294)\u001b[0m\n"
     ]
    }
   ],
   "source": [
    "lc = Lightcurve(times, counts)"
   ]
  },
  {
   "cell_type": "markdown",
   "metadata": {},
   "source": [
    "The number of data points can be counted with the `len` function."
   ]
  },
  {
   "cell_type": "code",
   "execution_count": 6,
   "metadata": {},
   "outputs": [
    {
     "data": {
      "text/plain": [
       "1000"
      ]
     },
     "execution_count": 6,
     "metadata": {},
     "output_type": "execute_result"
    }
   ],
   "source": [
    "len(lc)"
   ]
  },
  {
   "cell_type": "markdown",
   "metadata": {},
   "source": [
    "Note the warnings thrown by the syntax above. By default, `stingray` does a number of checks on the data that is put into the `Lightcurve` class. For example, it checks whether it's evenly sampled. It also computes the time resolution `dt`. All of these checks take time. If you know the time resolution, it's a good idea to put it in manually. If you know that your light curve is well-behaved (for example, because you know the data really well, or because you've generated it yourself, as we've done above), you can skip those checks and save a bit of time:"
   ]
  },
  {
   "cell_type": "code",
   "execution_count": 7,
   "metadata": {},
   "outputs": [],
   "source": [
    "dt = 1 \n",
    "lc = Lightcurve(times, counts, dt=dt, skip_checks=True)"
   ]
  },
  {
   "cell_type": "markdown",
   "metadata": {},
   "source": [
    "## 2. Photon Arrival Times\n",
    "\n",
    "Often, you might have unbinned photon arrival times, rather than a light curve with time stamps and associated measurements. If this is the case, you can use the `make_lightcurve` method to turn these photon arrival times into a regularly binned light curve."
   ]
  },
  {
   "cell_type": "code",
   "execution_count": 8,
   "metadata": {},
   "outputs": [
    {
     "data": {
      "text/plain": [
       "array([1., 1., 2., 2., 2., 3., 3., 3., 3., 3.])"
      ]
     },
     "execution_count": 8,
     "metadata": {},
     "output_type": "execute_result"
    }
   ],
   "source": [
    "arrivals = np.loadtxt(\"photon_arrivals.txt\")\n",
    "arrivals[:10]"
   ]
  },
  {
   "cell_type": "code",
   "execution_count": 9,
   "metadata": {},
   "outputs": [],
   "source": [
    "lc_new = Lightcurve.make_lightcurve(arrivals, dt=1)"
   ]
  },
  {
   "cell_type": "markdown",
   "metadata": {},
   "source": [
    "The time bins and respective counts can be seen with `lc.counts` and `lc.time`"
   ]
  },
  {
   "cell_type": "code",
   "execution_count": 10,
   "metadata": {},
   "outputs": [
    {
     "data": {
      "text/plain": [
       "array([2, 3, 5, 1, 4, 1, 3, 1, 1])"
      ]
     },
     "execution_count": 10,
     "metadata": {},
     "output_type": "execute_result"
    }
   ],
   "source": [
    "lc_new.counts"
   ]
  },
  {
   "cell_type": "code",
   "execution_count": 11,
   "metadata": {},
   "outputs": [
    {
     "data": {
      "text/plain": [
       "array([1.5, 2.5, 3.5, 4.5, 5.5, 6.5, 7.5, 8.5, 9.5])"
      ]
     },
     "execution_count": 11,
     "metadata": {},
     "output_type": "execute_result"
    }
   ],
   "source": [
    "lc_new.time"
   ]
  },
  {
   "cell_type": "markdown",
   "metadata": {},
   "source": [
    "One useful feature is that you can explicitly pass in the start time and the duration of the observation. This can be helpful because the chance that a photon will arrive exactly at the start of the observation and the end of the observation is very small. In practice, when making multiple light curves from the same observation (e.g. individual light curves of multiple detectors, of for different energy ranges) this can lead to the creation of light curves with time bins that are *slightly* offset from one another. Here, passing in the total duration of the observation and the start time can be helpful."
   ]
  },
  {
   "cell_type": "code",
   "execution_count": 12,
   "metadata": {},
   "outputs": [],
   "source": [
    "lc_new = Lightcurve.make_lightcurve(arrivals, dt=1.0, tstart=1.0, tseg=9.0)"
   ]
  },
  {
   "cell_type": "markdown",
   "metadata": {},
   "source": [
    "# Properties"
   ]
  },
  {
   "cell_type": "markdown",
   "metadata": {},
   "source": [
    "A Lightcurve object has the following properties :\n",
    "\n",
    "1. `time` : numpy array of time values\n",
    "2. `counts` : numpy array of counts per bin values\n",
    "3. `counts_err`: numpy array with the uncertainties on the values in `counts`\n",
    "4. `countrate` : numpy array of counts per second\n",
    "5. `countrate_err`: numpy array of the uncertainties on the values in `countrate`\n",
    "4. `n` : Number of data points in the lightcurve\n",
    "5. `dt` : Time resolution of the light curve\n",
    "6. `tseg` : Total duration of the light curve\n",
    "7. `tstart` : Start time of the light curve\n",
    "8. `meancounts`: The mean counts of the light curve\n",
    "9. `meanrate`: The mean count rate of the light curve\n",
    "10. `mjdref`: MJD reference date (``tstart`` / 86400 gives the date in MJD at the start of the observation)\n",
    "11. `gti`:Good Time Intervals. They indicate the \"safe\" time intervals to be used during the analysis of the light curve. \n",
    "12. `err_dist`: Statistic of the Lightcurve, it is used to calculate the uncertainties and other statistical values appropriately. It propagates to Spectrum classes\n"
   ]
  },
  {
   "cell_type": "code",
   "execution_count": 7,
   "metadata": {},
   "outputs": [
    {
     "data": {
      "text/plain": [
       "True"
      ]
     },
     "execution_count": 7,
     "metadata": {},
     "output_type": "execute_result"
    }
   ],
   "source": [
    "lc.n == len(lc)"
   ]
  },
  {
   "cell_type": "markdown",
   "metadata": {},
   "source": [
    "Note that by default, `stingray` assumes that the user is passing a light curve in **counts per bin**. That is, the counts in bin $i$ will be the number of photons that arrived in the interval $t_i - 0.5\\Delta t$ and $t_i + 0.5\\Delta t$. Sometimes, data is given in **count rate**, i.e. the number of events that arrive within an interval of a *second*. The two will only be the same if the time resolution of the light curve is exactly 1 second.\n",
    "\n",
    "Whether the input data is in counts per bin or in count rate can be toggled via the boolean `input_counts` keyword argument. By default, this argument is set to `True`, and the code assumes the light curve passed into the object is in counts/bin. By setting it to `False`, the user can pass in count rates:"
   ]
  },
  {
   "cell_type": "code",
   "execution_count": 16,
   "metadata": {},
   "outputs": [
    {
     "data": {
      "text/plain": [
       "array([0. , 0.1, 0.2, 0.3, 0.4, 0.5, 0.6, 0.7, 0.8, 0.9])"
      ]
     },
     "execution_count": 16,
     "metadata": {},
     "output_type": "execute_result"
    }
   ],
   "source": [
    "# times with a resolution of 0.1\n",
    "dt = 0.1\n",
    "times = np.arange(0, 100, dt)\n",
    "times[:10]"
   ]
  },
  {
   "cell_type": "code",
   "execution_count": 13,
   "metadata": {},
   "outputs": [],
   "source": [
    "mean_countrate = 100.0\n",
    "countrate = np.random.poisson(mean_countrate, size=len(times))"
   ]
  },
  {
   "cell_type": "code",
   "execution_count": 17,
   "metadata": {},
   "outputs": [],
   "source": [
    "lc = Lightcurve(times, counts=countrate, dt=dt, skip_checks=True, input_counts=False)"
   ]
  },
  {
   "cell_type": "markdown",
   "metadata": {},
   "source": [
    "Internally, both `counts` and `countrate` attribute will be defined no matter what the user passes in, since they're trivially converted between each other through a multiplication/division with `dt:"
   ]
  },
  {
   "cell_type": "code",
   "execution_count": 18,
   "metadata": {},
   "outputs": [
    {
     "name": "stdout",
     "output_type": "stream",
     "text": [
      "100.0\n",
      "[ 89.  90.  96. 102.  92. 103.  99. 123. 117. 110.]\n"
     ]
    }
   ],
   "source": [
    "print(mean_countrate)\n",
    "print(lc.countrate[:10])"
   ]
  },
  {
   "cell_type": "code",
   "execution_count": 19,
   "metadata": {},
   "outputs": [
    {
     "name": "stdout",
     "output_type": "stream",
     "text": [
      "10.0\n",
      "[ 8.9  9.   9.6 10.2  9.2 10.3  9.9 12.3 11.7 11. ]\n"
     ]
    }
   ],
   "source": [
    "mean_counts = mean_countrate * dt\n",
    "print(mean_counts)\n",
    "print(lc.counts[:10])"
   ]
  },
  {
   "cell_type": "markdown",
   "metadata": {},
   "source": [
    "## Error Distributions in `stingray.Lightcurve`\n",
    "\n",
    "The instruments that record our data impose measurement noise on our measurements. Depending on the type of instrument, the statistical distribution of that noise can be different. `stingray` was originally developed with X-ray data in mind, where most data comes in the form of _photon arrival times_, which generate measurements distributed according to a Poisson distribution. By default, `err_dist` is assumed to Poisson, and this is the only statistical distribution currently fully supported. But you *can* put in your own errors (via `counts_err` or `countrate_err`). It'll produce a warning, and be aware that some of the statistical assumptions made about downstream products (e.g. the normalization of periodograms) may not be correct:"
   ]
  },
  {
   "cell_type": "code",
   "execution_count": 19,
   "metadata": {},
   "outputs": [],
   "source": [
    "times = np.arange(1000)\n",
    "\n",
    "mean_flux = 100.0 # mean flux\n",
    "std_flux = 2.0 # standard deviation on the flux\n",
    "\n",
    "# generate fluxes with a Gaussian distribution and \n",
    "# an array of associated uncertainties\n",
    "flux = np.random.normal(loc=mean_flux, scale=std_flux, size=len(times)) \n",
    "flux_err = np.ones_like(flux) * std_flux"
   ]
  },
  {
   "cell_type": "code",
   "execution_count": 20,
   "metadata": {},
   "outputs": [],
   "source": [
    "lc = Lightcurve(times, flux, err=flux_err, err_dist=\"gauss\", dt=1.0, skip_checks=True)"
   ]
  },
  {
   "cell_type": "markdown",
   "metadata": {},
   "source": [
    "## Good Time Intervals\n",
    "\n",
    "`Lightcurve` (and most other core `stingray` classes) support the use of *Good Time Intervals* (or GTIs), which denote the parts of an observation that are reliable for scientific purposes. Often, GTIs introduce gaps (e.g. where the instrument was off, or affected by solar flares). By default. GTIs are passed and don't apply to the data within a `Lightcurve` object, but become relevant in a number of circumstances, such as when generating `Powerspectrum` objects. \n",
    "\n",
    "If no GTIs are given at instantiation of the `Lightcurve` class, an artificial GTI will be created spanning the entire length of the data set being passed in:"
   ]
  },
  {
   "cell_type": "code",
   "execution_count": 21,
   "metadata": {},
   "outputs": [],
   "source": [
    "times = np.arange(1000)\n",
    "counts = np.random.poisson(100, size=len(times))\n",
    "\n",
    "lc = Lightcurve(times, counts, dt=1, skip_checks=True)"
   ]
  },
  {
   "cell_type": "code",
   "execution_count": 22,
   "metadata": {},
   "outputs": [
    {
     "data": {
      "text/plain": [
       "array([[-5.000e-01,  9.995e+02]])"
      ]
     },
     "execution_count": 22,
     "metadata": {},
     "output_type": "execute_result"
    }
   ],
   "source": [
    "lc.gti"
   ]
  },
  {
   "cell_type": "code",
   "execution_count": 23,
   "metadata": {},
   "outputs": [
    {
     "name": "stdout",
     "output_type": "stream",
     "text": [
      "0\n",
      "999\n",
      "[[-5.000e-01  9.995e+02]]\n"
     ]
    }
   ],
   "source": [
    "print(times[0]) # first time stamp in the light curve\n",
    "print(times[-1]) # last time stamp in the light curve\n",
    "print(lc.gti) # the GTIs generated within Lightcurve"
   ]
  },
  {
   "cell_type": "raw",
   "metadata": {},
   "source": [
    "GTIs are defined as a list of tuples:"
   ]
  },
  {
   "cell_type": "code",
   "execution_count": 24,
   "metadata": {},
   "outputs": [],
   "source": [
    "gti = [(0, 500), (600, 1000)]"
   ]
  },
  {
   "cell_type": "code",
   "execution_count": 25,
   "metadata": {},
   "outputs": [],
   "source": [
    "lc = Lightcurve(times, counts, dt=1, skip_checks=True, gti=gti)"
   ]
  },
  {
   "cell_type": "code",
   "execution_count": 26,
   "metadata": {},
   "outputs": [
    {
     "name": "stdout",
     "output_type": "stream",
     "text": [
      "[[   0  500]\n",
      " [ 600 1000]]\n"
     ]
    }
   ],
   "source": [
    "print(lc.gti)"
   ]
  },
  {
   "cell_type": "markdown",
   "metadata": {},
   "source": [
    "We'll get back to these when we talk more about some of the methods that apply GTIs to the data.\n",
    "\n",
    "# Operations"
   ]
  },
  {
   "cell_type": "markdown",
   "metadata": {},
   "source": [
    "## Addition/Subtraction"
   ]
  },
  {
   "cell_type": "markdown",
   "metadata": {},
   "source": [
    "Two light curves can be summed up or subtracted from each other if they have same time arrays."
   ]
  },
  {
   "cell_type": "code",
   "execution_count": 27,
   "metadata": {},
   "outputs": [],
   "source": [
    "lc = Lightcurve(times, counts, dt=1, skip_checks=True)\n",
    "lc_rand = Lightcurve(np.arange(1000), [500]*1000, dt=1, skip_checks=True)"
   ]
  },
  {
   "cell_type": "code",
   "execution_count": 28,
   "metadata": {},
   "outputs": [],
   "source": [
    "lc_sum = lc + lc_rand"
   ]
  },
  {
   "cell_type": "code",
   "execution_count": 29,
   "metadata": {},
   "outputs": [
    {
     "name": "stdout",
     "output_type": "stream",
     "text": [
      "Counts in light curve 1: [103  99 102 109 104]\n",
      "Counts in light curve 2: [500 500 500 500 500]\n",
      "Counts in summed light curve: [603 599 602 609 604]\n"
     ]
    }
   ],
   "source": [
    "print(\"Counts in light curve 1: \" + str(lc.counts[:5]))\n",
    "print(\"Counts in light curve 2: \" + str(lc_rand.counts[:5]))\n",
    "print(\"Counts in summed light curve: \" + str(lc_sum.counts[:5]))"
   ]
  },
  {
   "cell_type": "markdown",
   "metadata": {},
   "source": [
    "## Negation"
   ]
  },
  {
   "cell_type": "markdown",
   "metadata": {},
   "source": [
    "A negation operation on the lightcurve object inverts the count array from positive to negative values."
   ]
  },
  {
   "cell_type": "code",
   "execution_count": 30,
   "metadata": {},
   "outputs": [],
   "source": [
    "lc_neg = -lc"
   ]
  },
  {
   "cell_type": "code",
   "execution_count": 31,
   "metadata": {},
   "outputs": [],
   "source": [
    "lc_sum = lc + lc_neg"
   ]
  },
  {
   "cell_type": "code",
   "execution_count": 32,
   "metadata": {},
   "outputs": [
    {
     "data": {
      "text/plain": [
       "True"
      ]
     },
     "execution_count": 32,
     "metadata": {},
     "output_type": "execute_result"
    }
   ],
   "source": [
    "np.all(lc_sum.counts == 0)  # All the points on lc and lc_neg cancel each other"
   ]
  },
  {
   "cell_type": "markdown",
   "metadata": {},
   "source": [
    "## Indexing"
   ]
  },
  {
   "cell_type": "markdown",
   "metadata": {},
   "source": [
    "Count value at a particular time can be obtained using indexing."
   ]
  },
  {
   "cell_type": "code",
   "execution_count": 33,
   "metadata": {},
   "outputs": [
    {
     "data": {
      "text/plain": [
       "113"
      ]
     },
     "execution_count": 33,
     "metadata": {},
     "output_type": "execute_result"
    }
   ],
   "source": [
    "lc[120]"
   ]
  },
  {
   "cell_type": "markdown",
   "metadata": {},
   "source": [
    "A Lightcurve can also be sliced to generate a new object."
   ]
  },
  {
   "cell_type": "code",
   "execution_count": 34,
   "metadata": {},
   "outputs": [],
   "source": [
    "lc_sliced = lc[100:200]"
   ]
  },
  {
   "cell_type": "code",
   "execution_count": 35,
   "metadata": {},
   "outputs": [
    {
     "data": {
      "text/plain": [
       "100"
      ]
     },
     "execution_count": 35,
     "metadata": {},
     "output_type": "execute_result"
    }
   ],
   "source": [
    "len(lc_sliced.counts)"
   ]
  },
  {
   "cell_type": "markdown",
   "metadata": {},
   "source": [
    "# Methods"
   ]
  },
  {
   "cell_type": "markdown",
   "metadata": {},
   "source": [
    "## Concatenation"
   ]
  },
  {
   "cell_type": "markdown",
   "metadata": {},
   "source": [
    "Two light curves can be combined into a single object using the `join` method. Note that both of them must not have overlapping time arrays."
   ]
  },
  {
   "cell_type": "code",
   "execution_count": 36,
   "metadata": {},
   "outputs": [],
   "source": [
    "lc_1 = lc"
   ]
  },
  {
   "cell_type": "code",
   "execution_count": 37,
   "metadata": {},
   "outputs": [],
   "source": [
    "lc_2 = Lightcurve(np.arange(1000, 2000), np.random.rand(1000)*1000, dt=1, skip_checks=True)"
   ]
  },
  {
   "cell_type": "code",
   "execution_count": 38,
   "metadata": {},
   "outputs": [],
   "source": [
    "lc_long = lc_1.join(lc_2, skip_checks=True)  # Or vice-versa"
   ]
  },
  {
   "cell_type": "code",
   "execution_count": 39,
   "metadata": {},
   "outputs": [
    {
     "name": "stdout",
     "output_type": "stream",
     "text": [
      "2000\n"
     ]
    }
   ],
   "source": [
    "print(len(lc_long))"
   ]
  },
  {
   "cell_type": "markdown",
   "metadata": {},
   "source": [
    "## Truncation"
   ]
  },
  {
   "cell_type": "markdown",
   "metadata": {},
   "source": [
    "A light curve can also be truncated."
   ]
  },
  {
   "cell_type": "code",
   "execution_count": 40,
   "metadata": {},
   "outputs": [],
   "source": [
    "lc_cut = lc_long.truncate(start=0, stop=1000)"
   ]
  },
  {
   "cell_type": "code",
   "execution_count": 41,
   "metadata": {},
   "outputs": [
    {
     "data": {
      "text/plain": [
       "1000"
      ]
     },
     "execution_count": 41,
     "metadata": {},
     "output_type": "execute_result"
    }
   ],
   "source": [
    "len(lc_cut)"
   ]
  },
  {
   "cell_type": "markdown",
   "metadata": {},
   "source": [
    "**Note** : By default, the `start` and `stop` parameters are assumed to be given as **indices** of the time array. However, the `start` and `stop` values can also be given as time values in the same value as the time array."
   ]
  },
  {
   "cell_type": "code",
   "execution_count": 42,
   "metadata": {},
   "outputs": [],
   "source": [
    "lc_cut = lc_long.truncate(start=500, stop=1500, method='time')"
   ]
  },
  {
   "cell_type": "code",
   "execution_count": 43,
   "metadata": {},
   "outputs": [
    {
     "data": {
      "text/plain": [
       "(500, 1499)"
      ]
     },
     "execution_count": 43,
     "metadata": {},
     "output_type": "execute_result"
    }
   ],
   "source": [
    "lc_cut.time[0], lc_cut.time[-1]"
   ]
  },
  {
   "cell_type": "markdown",
   "metadata": {},
   "source": [
    "## Re-binning"
   ]
  },
  {
   "cell_type": "markdown",
   "metadata": {},
   "source": [
    "The time resolution (`dt`) can also be changed to a larger value.\n",
    "\n",
    "**Note** : While the new resolution need not be an integer multiple of the previous time resolution, be aware that if it is not, the last bin will be cut off by the fraction left over by the integer division."
   ]
  },
  {
   "cell_type": "code",
   "execution_count": 44,
   "metadata": {},
   "outputs": [],
   "source": [
    "lc_rebinned = lc_long.rebin(2)"
   ]
  },
  {
   "cell_type": "code",
   "execution_count": 45,
   "metadata": {},
   "outputs": [
    {
     "name": "stdout",
     "output_type": "stream",
     "text": [
      "Old time resolution = 1\n",
      "Number of data points = 2000\n",
      "New time resolution = 2\n",
      "Number of data points = 1000\n"
     ]
    }
   ],
   "source": [
    "print(\"Old time resolution = \" + str(lc_long.dt))\n",
    "print(\"Number of data points = \" + str(lc_long.n))\n",
    "print(\"New time resolution = \" + str(lc_rebinned.dt))\n",
    "print(\"Number of data points = \" + str(lc_rebinned.n))"
   ]
  },
  {
   "cell_type": "markdown",
   "metadata": {},
   "source": [
    "## Sorting"
   ]
  },
  {
   "cell_type": "markdown",
   "metadata": {},
   "source": [
    "A lightcurve can be sorted using the `sort` method. This function sorts `time` array and the `counts` array is changed accordingly."
   ]
  },
  {
   "cell_type": "code",
   "execution_count": 46,
   "metadata": {},
   "outputs": [],
   "source": [
    "new_lc_long = lc_long[:]  # Copying into a new object"
   ]
  },
  {
   "cell_type": "code",
   "execution_count": 47,
   "metadata": {},
   "outputs": [],
   "source": [
    "new_lc_long = new_lc_long.sort(reverse=True)"
   ]
  },
  {
   "cell_type": "code",
   "execution_count": 48,
   "metadata": {},
   "outputs": [
    {
     "data": {
      "text/plain": [
       "True"
      ]
     },
     "execution_count": 48,
     "metadata": {},
     "output_type": "execute_result"
    }
   ],
   "source": [
    "new_lc_long.time[0] == max(lc_long.time)"
   ]
  },
  {
   "cell_type": "markdown",
   "metadata": {},
   "source": [
    "You can sort by the `counts` array using `sort_counts` method which changes `time` array accordingly:"
   ]
  },
  {
   "cell_type": "code",
   "execution_count": 49,
   "metadata": {},
   "outputs": [
    {
     "data": {
      "text/plain": [
       "True"
      ]
     },
     "execution_count": 49,
     "metadata": {},
     "output_type": "execute_result"
    }
   ],
   "source": [
    "new_lc = lc_long[:]\n",
    "new_lc = new_lc.sort_counts()\n",
    "new_lc.counts[-1] == max(lc_long.counts)"
   ]
  },
  {
   "cell_type": "markdown",
   "metadata": {},
   "source": [
    "## Plotting"
   ]
  },
  {
   "cell_type": "markdown",
   "metadata": {},
   "source": [
    "A curve can be plotted with the `plot` method."
   ]
  },
  {
   "cell_type": "code",
   "execution_count": 20,
   "metadata": {},
   "outputs": [
    {
     "data": {
      "text/plain": [
       "<Axes: xlabel='Time (s)', ylabel='countrate'>"
      ]
     },
     "execution_count": 20,
     "metadata": {},
     "output_type": "execute_result"
    },
    {
     "data": {
      "image/png": "[encoded data removed]",
      "text/plain": [
       "<Figure size 640x480 with 1 Axes>"
      ]
     },
     "metadata": {},
     "output_type": "display_data"
    }
   ],
   "source": [
    "lc.plot()"
   ]
  },
  {
   "cell_type": "markdown",
   "metadata": {},
   "source": [
    "A plot can also be customized using several keyword arguments."
   ]
  },
  {
   "cell_type": "code",
   "execution_count": 21,
   "metadata": {},
   "outputs": [
    {
     "data": {
      "text/plain": [
       "<Axes: title={'center': 'Random generated lightcurve'}, xlabel='Time', ylabel='Counts'>"
      ]
     },
     "execution_count": 21,
     "metadata": {},
     "output_type": "execute_result"
    },
    {
     "data": {
      "image/png": "[encoded data removed]",
      "text/plain": [
       "<Figure size 640x480 with 1 Axes>"
      ]
     },
     "metadata": {},
     "output_type": "display_data"
    }
   ],
   "source": [
    "lc.plot(labels=('Time', \"Counts\"),  # (xlabel, ylabel)\n",
    "        axis=(0, 1000, -50, 150),  # (xmin, xmax, ymin, ymax)\n",
    "        title=\"Random generated lightcurve\",\n",
    "        marker='c:')  # c is for cyan and : is the marker style"
   ]
  },
  {
   "cell_type": "markdown",
   "metadata": {},
   "source": [
    "The figure drawn can also be saved in a file using keywords arguments in the plot method itself."
   ]
  },
  {
   "cell_type": "code",
   "execution_count": 22,
   "metadata": {},
   "outputs": [
    {
     "data": {
      "text/plain": [
       "<Axes: xlabel='Time (s)', ylabel='countrate'>"
      ]
     },
     "execution_count": 22,
     "metadata": {},
     "output_type": "execute_result"
    },
    {
     "data": {
      "image/png": "[encoded data removed]",
      "text/plain": [
       "<Figure size 640x480 with 1 Axes>"
      ]
     },
     "metadata": {},
     "output_type": "display_data"
    }
   ],
   "source": [
    "lc.plot(marker = 'k', save=True, filename=\"lightcurve.png\")"
   ]
  },
  {
   "cell_type": "markdown",
   "metadata": {},
   "source": [
    "**Note** : See `utils.savefig` function for more options on saving a file."
   ]
  },
  {
   "cell_type": "markdown",
   "metadata": {},
   "source": [
    "# Sample Data"
   ]
  },
  {
   "cell_type": "markdown",
   "metadata": {},
   "source": [
    "Stingray also has a sample `Lightcurve` data which can be imported from within the library."
   ]
  },
  {
   "cell_type": "code",
   "execution_count": 53,
   "metadata": {},
   "outputs": [],
   "source": [
    "from stingray import sampledata"
   ]
  },
  {
   "cell_type": "code",
   "execution_count": 54,
   "metadata": {},
   "outputs": [
    {
     "name": "stderr",
     "output_type": "stream",
     "text": [
      "WARNING:root:Checking if light curve is well behaved. This can take time, so if you are sure it is already sorted, specify skip_checks=True at light curve creation.\n",
      "WARNING:root:Checking if light curve is sorted.\n",
      "WARNING:root:Computing the bin time ``dt``. This can take time. If you know the bin time, please specify it at light curve creation\n"
     ]
    }
   ],
   "source": [
    "lc = sampledata.sample_data()"
   ]
  },
  {
   "cell_type": "code",
   "execution_count": 55,
   "metadata": {},
   "outputs": [
    {
     "data": {
      "image/png": "[encoded data removed]",
      "text/plain": [
       "<Figure size 432x288 with 1 Axes>"
      ]
     },
     "metadata": {
      "needs_background": "light"
     },
     "output_type": "display_data"
    }
   ],
   "source": [
    "lc.plot()"
   ]
  },
  {
   "cell_type": "markdown",
   "metadata": {},
   "source": [
    "## Checking the Light Curve for Irregularities\n",
    "\n",
    "You can perform checks on the behaviour of the light curve, similar to what's done when instantiating a `Lightcurve` object when `skip_checks=False`, by calling the relevant method:"
   ]
  },
  {
   "cell_type": "code",
   "execution_count": 56,
   "metadata": {},
   "outputs": [],
   "source": [
    "time = np.hstack([np.arange(0, 10, 0.1), np.arange(10, 20, 0.3)]) # uneven time resolution\n",
    "counts = np.random.poisson(100, size=len(time))\n",
    "\n",
    "lc = Lightcurve(time, counts, dt=1.0, skip_checks=True)"
   ]
  },
  {
   "cell_type": "code",
   "execution_count": 57,
   "metadata": {},
   "outputs": [],
   "source": [
    "lc.check_lightcurve()"
   ]
  },
  {
   "cell_type": "markdown",
   "metadata": {},
   "source": [
    "Let's add some badly formatted GTIs:"
   ]
  },
  {
   "cell_type": "code",
   "execution_count": 58,
   "metadata": {},
   "outputs": [],
   "source": [
    "gti = [(10, 100), (20, 30, 40), ((1, 2), (3, 4, (5, 6)))] # not a well-behaved GTI\n",
    "lc = Lightcurve(time, counts, dt=0.1, skip_checks=True, gti=gti)"
   ]
  },
  {
   "cell_type": "code",
   "execution_count": 59,
   "metadata": {},
   "outputs": [
    {
     "ename": "TypeError",
     "evalue": "Please check formatting of GTIs. They need to be provided as [[gti00, gti01], [gti10, gti11], ...]",
     "output_type": "error",
     "traceback": [
      "\u001b[0;31m---------------------------------------------------------------------------\u001b[0m",
      "\u001b[0;31mTypeError\u001b[0m                                 Traceback (most recent call last)",
      "\u001b[0;32m<ipython-input-59-7e2c226c1569>\u001b[0m in \u001b[0;36m<module>\u001b[0;34m\u001b[0m\n\u001b[0;32m----> 1\u001b[0;31m \u001b[0mlc\u001b[0m\u001b[0;34m.\u001b[0m\u001b[0mcheck_lightcurve\u001b[0m\u001b[0;34m(\u001b[0m\u001b[0;34m)\u001b[0m\u001b[0;34m\u001b[0m\u001b[0;34m\u001b[0m\u001b[0m\n\u001b[0m",
      "\u001b[0;32m/opt/miniconda3/envs/stingraydev/lib/python3.8/site-packages/stingray-0.3.dev267+gc5fd28c.d20210122-py3.8.egg/stingray/lightcurve.py\u001b[0m in \u001b[0;36mcheck_lightcurve\u001b[0;34m(self)\u001b[0m\n\u001b[1;32m    418\u001b[0m         \u001b[0;31m# i.e. the bin sizes aren't equal throughout.\u001b[0m\u001b[0;34m\u001b[0m\u001b[0;34m\u001b[0m\u001b[0;34m\u001b[0m\u001b[0m\n\u001b[1;32m    419\u001b[0m \u001b[0;34m\u001b[0m\u001b[0m\n\u001b[0;32m--> 420\u001b[0;31m         \u001b[0mcheck_gtis\u001b[0m\u001b[0;34m(\u001b[0m\u001b[0mself\u001b[0m\u001b[0;34m.\u001b[0m\u001b[0mgti\u001b[0m\u001b[0;34m)\u001b[0m\u001b[0;34m\u001b[0m\u001b[0;34m\u001b[0m\u001b[0m\n\u001b[0m\u001b[1;32m    421\u001b[0m \u001b[0;34m\u001b[0m\u001b[0m\n\u001b[1;32m    422\u001b[0m         \u001b[0midxs\u001b[0m \u001b[0;34m=\u001b[0m \u001b[0mnp\u001b[0m\u001b[0;34m.\u001b[0m\u001b[0msearchsorted\u001b[0m\u001b[0;34m(\u001b[0m\u001b[0mself\u001b[0m\u001b[0;34m.\u001b[0m\u001b[0mtime\u001b[0m\u001b[0;34m,\u001b[0m \u001b[0mself\u001b[0m\u001b[0;34m.\u001b[0m\u001b[0mgti\u001b[0m\u001b[0;34m)\u001b[0m\u001b[0;34m\u001b[0m\u001b[0;34m\u001b[0m\u001b[0m\n",
      "\u001b[0;32m/opt/miniconda3/envs/stingraydev/lib/python3.8/site-packages/stingray-0.3.dev267+gc5fd28c.d20210122-py3.8.egg/stingray/gti.py\u001b[0m in \u001b[0;36mcheck_gtis\u001b[0;34m(gti)\u001b[0m\n\u001b[1;32m    225\u001b[0m     \u001b[0;32mif\u001b[0m \u001b[0mlen\u001b[0m\u001b[0;34m(\u001b[0m\u001b[0mgti\u001b[0m\u001b[0;34m)\u001b[0m \u001b[0;34m!=\u001b[0m \u001b[0mgti\u001b[0m\u001b[0;34m.\u001b[0m\u001b[0mshape\u001b[0m\u001b[0;34m[\u001b[0m\u001b[0;36m0\u001b[0m\u001b[0;34m]\u001b[0m \u001b[0;32mor\u001b[0m \u001b[0mlen\u001b[0m\u001b[0;34m(\u001b[0m\u001b[0mgti\u001b[0m\u001b[0;34m.\u001b[0m\u001b[0mshape\u001b[0m\u001b[0;34m)\u001b[0m \u001b[0;34m!=\u001b[0m \u001b[0;36m2\u001b[0m \u001b[0;32mor\u001b[0m\u001b[0;31m \u001b[0m\u001b[0;31m\\\u001b[0m\u001b[0;34m\u001b[0m\u001b[0;34m\u001b[0m\u001b[0m\n\u001b[1;32m    226\u001b[0m             \u001b[0mlen\u001b[0m\u001b[0;34m(\u001b[0m\u001b[0mgti\u001b[0m\u001b[0;34m)\u001b[0m \u001b[0;34m!=\u001b[0m \u001b[0mgti\u001b[0m\u001b[0;34m.\u001b[0m\u001b[0mshape\u001b[0m\u001b[0;34m[\u001b[0m\u001b[0;36m0\u001b[0m\u001b[0;34m]\u001b[0m\u001b[0;34m:\u001b[0m\u001b[0;34m\u001b[0m\u001b[0;34m\u001b[0m\u001b[0m\n\u001b[0;32m--> 227\u001b[0;31m         raise TypeError(\"Please check formatting of GTIs. They need to be\"\n\u001b[0m\u001b[1;32m    228\u001b[0m                         \" provided as [[gti00, gti01], [gti10, gti11], ...]\")\n\u001b[1;32m    229\u001b[0m \u001b[0;34m\u001b[0m\u001b[0m\n",
      "\u001b[0;31mTypeError\u001b[0m: Please check formatting of GTIs. They need to be provided as [[gti00, gti01], [gti10, gti11], ...]"
     ]
    }
   ],
   "source": [
    "lc.check_lightcurve()"
   ]
  },
  {
   "cell_type": "markdown",
   "metadata": {},
   "source": [
    "## MJDREF and Shifting Times\n",
    "\n",
    "The `mjdref` keyword argument defines a reference time in Modified Julian Date. Often, X-ray missions count their internal time in seconds from a given reference date and time (so that numbers don't become arbitrarily large). The data is then in the format of Mission Elapsed Time (MET), or seconds since that reference time. \n",
    "\n",
    "`mjdref` is generally passed into the `Lightcurve` object at instantiation, but it can be changed later:"
   ]
  },
  {
   "cell_type": "code",
   "execution_count": 60,
   "metadata": {},
   "outputs": [
    {
     "name": "stdout",
     "output_type": "stream",
     "text": [
      "91254\n"
     ]
    }
   ],
   "source": [
    "mjdref = 91254\n",
    "time = np.arange(1000)\n",
    "counts = np.random.poisson(100, size=len(time))\n",
    "\n",
    "lc = Lightcurve(time, counts, dt=1, skip_checks=True, mjdref=mjdref)\n",
    "print(lc.mjdref)"
   ]
  },
  {
   "cell_type": "code",
   "execution_count": 61,
   "metadata": {},
   "outputs": [
    {
     "name": "stdout",
     "output_type": "stream",
     "text": [
      "91274\n"
     ]
    }
   ],
   "source": [
    "mjdref_new = 91254 + 20\n",
    "lc_new = lc.change_mjdref(mjdref_new)\n",
    "print(lc_new.mjdref)"
   ]
  },
  {
   "cell_type": "markdown",
   "metadata": {},
   "source": [
    "This change only affects the *reference time*, not the values given in the `time` attribute. However, it is also possible to shift the *entire light curve*, along with its GTIs:"
   ]
  },
  {
   "cell_type": "code",
   "execution_count": 62,
   "metadata": {},
   "outputs": [],
   "source": [
    "gti = [(0,500), (600, 1000)]\n",
    "lc.gti = gti"
   ]
  },
  {
   "cell_type": "code",
   "execution_count": 63,
   "metadata": {},
   "outputs": [
    {
     "name": "stdout",
     "output_type": "stream",
     "text": [
      "first three time bins: [0 1 2]\n",
      "GTIs: [[   0  500]\n",
      " [ 600 1000]]\n"
     ]
    }
   ],
   "source": [
    "print(\"first three time bins: \" + str(lc.time[:3]))\n",
    "print(\"GTIs: \" + str(lc.gti))"
   ]
  },
  {
   "cell_type": "code",
   "execution_count": 64,
   "metadata": {},
   "outputs": [],
   "source": [
    "time_shift = 10.0\n",
    "lc_shifted = lc.shift(time_shift)"
   ]
  },
  {
   "cell_type": "code",
   "execution_count": 65,
   "metadata": {},
   "outputs": [
    {
     "name": "stdout",
     "output_type": "stream",
     "text": [
      "Shifted first three time bins: [10. 11. 12.]\n",
      "Shifted GTIs: [[  10.  510.]\n",
      " [ 610. 1010.]]\n"
     ]
    }
   ],
   "source": [
    "print(\"Shifted first three time bins: \" + str(lc_shifted.time[:3]))\n",
    "print(\"Shifted GTIs: \" + str(lc_shifted.gti))"
   ]
  },
  {
   "cell_type": "markdown",
   "metadata": {},
   "source": [
    "## Calculating a baseline\n",
    "\n",
    "**TODO**: Need to document this method"
   ]
  },
  {
   "cell_type": "code",
   "execution_count": null,
   "metadata": {},
   "outputs": [],
   "source": []
  },
  {
   "cell_type": "markdown",
   "metadata": {},
   "source": [
    "## Working with GTIs and Splitting Light Curves\n",
    "\n",
    "It is possible to split light curves into multiple segments. In particular, it can be useful to split light curves with large gaps into individual contiguous segments without gaps. "
   ]
  },
  {
   "cell_type": "code",
   "execution_count": 66,
   "metadata": {},
   "outputs": [
    {
     "name": "stderr",
     "output_type": "stream",
     "text": [
      "WARNING:root:Computing the bin time ``dt``. This can take time. If you know the bin time, please specify it at light curve creation\n"
     ]
    }
   ],
   "source": [
    "# make a time array with a big gap and a small gap\n",
    "time = np.array([1, 2, 3, 10, 11, 12, 13, 14, 17, 18, 19, 20])\n",
    "counts = np.random.poisson(100, size=len(time))\n",
    "\n",
    "lc = Lightcurve(time, counts, skip_checks=True)"
   ]
  },
  {
   "cell_type": "code",
   "execution_count": 67,
   "metadata": {},
   "outputs": [
    {
     "data": {
      "text/plain": [
       "array([[ 0.5, 20.5]])"
      ]
     },
     "execution_count": 67,
     "metadata": {},
     "output_type": "execute_result"
    }
   ],
   "source": [
    "lc.gti"
   ]
  },
  {
   "cell_type": "markdown",
   "metadata": {},
   "source": [
    "This light curve has uneven bins. It has a large gap between 3 and 10, and a smaller gap between 14 and 17. We can use the `split` method to split it into three contiguous segments:"
   ]
  },
  {
   "cell_type": "code",
   "execution_count": 68,
   "metadata": {},
   "outputs": [],
   "source": [
    "lc_split = lc.split(min_gap=2*lc.dt)"
   ]
  },
  {
   "cell_type": "code",
   "execution_count": 69,
   "metadata": {},
   "outputs": [
    {
     "name": "stdout",
     "output_type": "stream",
     "text": [
      "[1 2 3]\n",
      "[10 11 12 13 14]\n",
      "[17 18 19 20]\n"
     ]
    }
   ],
   "source": [
    "for lc_tmp in lc_split:\n",
    "    print(lc_tmp.time)"
   ]
  },
  {
   "cell_type": "markdown",
   "metadata": {},
   "source": [
    "This has split the light curve into three contiguous segments. You can adjust the tolerance for the size of gap that's acceptable via the `min_gap` attribute. You can also require a minimum number of data points in the output light curves. This is helpful when you're only interested in contiguous segments of a certain length:"
   ]
  },
  {
   "cell_type": "code",
   "execution_count": 70,
   "metadata": {},
   "outputs": [],
   "source": [
    "lc_split = lc.split(min_gap=6.0)"
   ]
  },
  {
   "cell_type": "code",
   "execution_count": 71,
   "metadata": {},
   "outputs": [
    {
     "name": "stdout",
     "output_type": "stream",
     "text": [
      "[1 2 3]\n",
      "[10 11 12 13 14 17 18 19 20]\n"
     ]
    }
   ],
   "source": [
    "for lc_tmp in lc_split:\n",
    "    print(lc_tmp.time)"
   ]
  },
  {
   "cell_type": "markdown",
   "metadata": {},
   "source": [
    "What if we only want the long segment?"
   ]
  },
  {
   "cell_type": "code",
   "execution_count": 72,
   "metadata": {},
   "outputs": [],
   "source": [
    "lc_split = lc.split(min_gap=6.0, min_points=4)"
   ]
  },
  {
   "cell_type": "code",
   "execution_count": 73,
   "metadata": {},
   "outputs": [
    {
     "name": "stdout",
     "output_type": "stream",
     "text": [
      "[10 11 12 13 14 17 18 19 20]\n"
     ]
    }
   ],
   "source": [
    "for lc_tmp in lc_split:\n",
    "    print(lc_tmp.time)"
   ]
  },
  {
   "cell_type": "markdown",
   "metadata": {},
   "source": [
    "A special case of splitting your light curve object is to split by GTIs. This can be helpful if you want to look at individual contiguous segments separately:"
   ]
  },
  {
   "cell_type": "code",
   "execution_count": 74,
   "metadata": {},
   "outputs": [],
   "source": [
    "# make a time array with a big gap and a small gap\n",
    "time = np.arange(20)\n",
    "counts = np.random.poisson(100, size=len(time))\n",
    "gti = [(0,8), (12,20)]\n",
    "\n",
    "\n",
    "lc = Lightcurve(time, counts, dt=1, skip_checks=True, gti=gti)"
   ]
  },
  {
   "cell_type": "code",
   "execution_count": 75,
   "metadata": {},
   "outputs": [],
   "source": [
    "lc_split = lc.split_by_gti()"
   ]
  },
  {
   "cell_type": "code",
   "execution_count": 76,
   "metadata": {},
   "outputs": [
    {
     "name": "stdout",
     "output_type": "stream",
     "text": [
      "[1 2 3 4 5 6 7]\n",
      "[13 14 15 16 17 18 19]\n"
     ]
    }
   ],
   "source": [
    "for lc_tmp in lc_split:\n",
    "    print(lc_tmp.time)"
   ]
  },
  {
   "cell_type": "markdown",
   "metadata": {},
   "source": [
    "Because I'd passed in GTIs that define the range from 0-8 and from 12-20 as good time intervals, the light curve will be split into two individual ones containing all data points falling within these ranges.\n",
    "\n",
    "You can also apply the GTIs *directly* to the original light curve, which will filter `time`, `counts`, `countrate`, `counts_err` and `countrate_err` to only fall within the bounds of the GTIs:"
   ]
  },
  {
   "cell_type": "code",
   "execution_count": 77,
   "metadata": {},
   "outputs": [],
   "source": [
    "# make a time array with a big gap and a small gap\n",
    "time = np.arange(20)\n",
    "counts = np.random.poisson(100, size=len(time))\n",
    "gti = [(0,8), (12,20)]\n",
    "\n",
    "\n",
    "lc = Lightcurve(time, counts, dt=1, skip_checks=True, gti=gti)"
   ]
  },
  {
   "cell_type": "markdown",
   "metadata": {},
   "source": [
    "**Caution**: This is one of the few methods that change the original state of the object, rather than returning a new copy of it with the changes applied! So any events falling outside of the range of the GTIs will be lost:"
   ]
  },
  {
   "cell_type": "code",
   "execution_count": 78,
   "metadata": {},
   "outputs": [
    {
     "data": {
      "text/plain": [
       "array([ 0,  1,  2,  3,  4,  5,  6,  7,  8,  9, 10, 11, 12, 13, 14, 15, 16,\n",
       "       17, 18, 19])"
      ]
     },
     "execution_count": 78,
     "metadata": {},
     "output_type": "execute_result"
    }
   ],
   "source": [
    "# time array before applying GTIs:\n",
    "lc.time"
   ]
  },
  {
   "cell_type": "code",
   "execution_count": 79,
   "metadata": {},
   "outputs": [],
   "source": [
    "lc.apply_gtis()"
   ]
  },
  {
   "cell_type": "code",
   "execution_count": 80,
   "metadata": {},
   "outputs": [
    {
     "data": {
      "text/plain": [
       "array([ 1,  2,  3,  4,  5,  6,  7, 13, 14, 15, 16, 17, 18, 19])"
      ]
     },
     "execution_count": 80,
     "metadata": {},
     "output_type": "execute_result"
    }
   ],
   "source": [
    "# time array after applying GTIs\n",
    "lc.time"
   ]
  },
  {
   "cell_type": "markdown",
   "metadata": {},
   "source": [
    "As you can see, the time bins 8-12 have been dropped, since they fall outside of the GTIs. \n",
    "\n",
    "## Analyzing Light Curve Segments\n",
    "\n",
    "There's some functionality in `stingray` aimed at making analysis of individual light curve segments (or chunks, as they're called throughout the code) efficient. \n",
    "\n",
    "One helpful function tells you the length that segments should have to satisfy two conditions: (1) the minimum number of time bins in the segment, and (2) the minimum total number of counts (or flux) in each segment.\n",
    "\n",
    "Let's give this a try with an example:"
   ]
  },
  {
   "cell_type": "code",
   "execution_count": 81,
   "metadata": {},
   "outputs": [],
   "source": [
    "dt=1.0\n",
    "time = np.arange(0, 100, dt)\n",
    "counts = np.random.poisson(100, size=len(time))\n",
    "\n",
    "lc = Lightcurve(time, counts, dt=dt, skip_checks=True)\n"
   ]
  },
  {
   "cell_type": "code",
   "execution_count": 82,
   "metadata": {},
   "outputs": [
    {
     "name": "stdout",
     "output_type": "stream",
     "text": [
      "The estimated length of each segment in seconds to satisfy both conditions is: 4.0\n"
     ]
    }
   ],
   "source": [
    "min_total_counts = 300\n",
    "min_total_bins = 2\n",
    "estimated_chunk_length = lc.estimate_chunk_length(min_total_counts, min_total_bins)\n",
    "\n",
    "print(\"The estimated length of each segment in seconds to satisfy both conditions is: \" + str(estimated_chunk_length))"
   ]
  },
  {
   "cell_type": "markdown",
   "metadata": {},
   "source": [
    "So we have time bins of 1 second time resolution, each with an average of 100 counts/bin. We require at least 2 time bins in each segment, and also a minimum number of total counts in the segment of 300. In theory, you'd expect to need 3 time bins (so 3-second segments) to satisfy the condition above. However, the Poisson distribution is quite variable, so we cannot guarantee that all bins will have a total number of counts above 300. Hence, our segments need to be 4 seconds long. \n",
    "\n",
    "We can now use these segments to do some analysis, using the `analyze_by_chunks` method. In the simplest, case we can use a standard `numpy` operation to learn something about the properties of each segment:"
   ]
  },
  {
   "cell_type": "code",
   "execution_count": 83,
   "metadata": {},
   "outputs": [],
   "source": [
    "start_times, stop_times, lc_sums = lc.analyze_lc_chunks(chunk_length = 10.0, func=np.median)"
   ]
  },
  {
   "cell_type": "code",
   "execution_count": 84,
   "metadata": {},
   "outputs": [
    {
     "data": {
      "text/plain": [
       "array([102. , 110. ,  92. ,  96.5,  99.5, 100. ,  95. ,  96.5, 100. ,\n",
       "       108. ])"
      ]
     },
     "execution_count": 84,
     "metadata": {},
     "output_type": "execute_result"
    }
   ],
   "source": [
    "lc_sums"
   ]
  },
  {
   "cell_type": "markdown",
   "metadata": {},
   "source": [
    "This splits the light curve into 10-second segments, and then finds the median number of counts/bin in each segment. For a flat light curve like the one we generated above, this isn't super interesting, but this method can be helpful for more complex analyses. Instead of `np.median`, you can also pass in your own function:"
   ]
  },
  {
   "cell_type": "code",
   "execution_count": 85,
   "metadata": {},
   "outputs": [],
   "source": [
    "def myfunc(lc):\n",
    "    \"\"\"\n",
    "    Not a very interesting function\n",
    "    \"\"\"\n",
    "    return np.sum(lc.counts) * 10.0"
   ]
  },
  {
   "cell_type": "code",
   "execution_count": 86,
   "metadata": {},
   "outputs": [],
   "source": [
    "start_times, stop_times, lc_result = lc.analyze_lc_chunks(chunk_length=10.0, func=myfunc)"
   ]
  },
  {
   "cell_type": "code",
   "execution_count": 87,
   "metadata": {},
   "outputs": [
    {
     "data": {
      "text/plain": [
       "array([10090., 10830.,  9370., 10120., 10180., 10190.,  9910.,  9610.,\n",
       "        9880., 10600.])"
      ]
     },
     "execution_count": 87,
     "metadata": {},
     "output_type": "execute_result"
    }
   ],
   "source": [
    "lc_result"
   ]
  },
  {
   "cell_type": "markdown",
   "metadata": {},
   "source": [
    "## Compatibility with `Lightkurve`\n",
    "\n",
    "The [`Lightkurve` package](https://docs.lightkurve.org) provides a large amount of complementary functionality to stingray, in particular for data observed with Kepler and TESS, stars and exoplanets, and unevenly sampled data. We have implemented a conversion method that converts to/from `stingray`'s native `Lightcurve` object and `Lightkurve`'s native `LightCurve` object. Equivalent functionality exists in `Lightkurve`, too. "
   ]
  },
  {
   "cell_type": "code",
   "execution_count": 88,
   "metadata": {},
   "outputs": [],
   "source": [
    "import lightkurve"
   ]
  },
  {
   "cell_type": "code",
   "execution_count": 89,
   "metadata": {},
   "outputs": [],
   "source": [
    "lc_new = lc.to_lightkurve()"
   ]
  },
  {
   "cell_type": "code",
   "execution_count": 90,
   "metadata": {},
   "outputs": [
    {
     "data": {
      "text/plain": [
       "lightkurve.lightcurve.LightCurve"
      ]
     },
     "execution_count": 90,
     "metadata": {},
     "output_type": "execute_result"
    }
   ],
   "source": [
    "type(lc_new)"
   ]
  },
  {
   "cell_type": "code",
   "execution_count": 91,
   "metadata": {},
   "outputs": [
    {
     "data": {
      "text/plain": [
       "array([ 0.,  1.,  2.,  3.,  4.,  5.,  6.,  7.,  8.,  9., 10., 11., 12.,\n",
       "       13., 14., 15., 16., 17., 18., 19., 20., 21., 22., 23., 24., 25.,\n",
       "       26., 27., 28., 29., 30., 31., 32., 33., 34., 35., 36., 37., 38.,\n",
       "       39., 40., 41., 42., 43., 44., 45., 46., 47., 48., 49., 50., 51.,\n",
       "       52., 53., 54., 55., 56., 57., 58., 59., 60., 61., 62., 63., 64.,\n",
       "       65., 66., 67., 68., 69., 70., 71., 72., 73., 74., 75., 76., 77.,\n",
       "       78., 79., 80., 81., 82., 83., 84., 85., 86., 87., 88., 89., 90.,\n",
       "       91., 92., 93., 94., 95., 96., 97., 98., 99.])"
      ]
     },
     "execution_count": 91,
     "metadata": {},
     "output_type": "execute_result"
    }
   ],
   "source": [
    "lc_new.time"
   ]
  },
  {
   "cell_type": "code",
   "execution_count": 92,
   "metadata": {},
   "outputs": [
    {
     "data": {
      "text/plain": [
       "array([110,  82,  94, 126, 102,  80, 102, 105, 106, 102, 119,  98, 112,\n",
       "        98, 119, 112, 119,  99,  99, 108,  91,  85,  93, 109,  97,  82,\n",
       "        87,  89,  96, 108, 120,  88,  97,  88, 109, 120,  94, 106,  94,\n",
       "        96, 120, 122,  92,  87, 113,  94, 100,  99, 105,  86, 107, 101,\n",
       "        94, 102,  96, 112,  93, 117,  99,  98,  91, 101,  94, 120, 105,\n",
       "        91,  91,  96,  85, 117, 104, 102,  91,  94, 100, 115,  98,  74,\n",
       "        95,  88, 100, 107, 102, 109, 109,  94,  86,  84,  97, 100, 110,\n",
       "       109, 117,  96, 108, 108, 110, 108,  97,  97])"
      ]
     },
     "execution_count": 92,
     "metadata": {},
     "output_type": "execute_result"
    }
   ],
   "source": [
    "lc_new.flux"
   ]
  },
  {
   "cell_type": "markdown",
   "metadata": {},
   "source": [
    "Let's do the rountrip to stingray:"
   ]
  },
  {
   "cell_type": "code",
   "execution_count": 93,
   "metadata": {},
   "outputs": [
    {
     "name": "stderr",
     "output_type": "stream",
     "text": [
      "WARNING:root:Checking if light curve is well behaved. This can take time, so if you are sure it is already sorted, specify skip_checks=True at light curve creation.\n",
      "WARNING:root:Checking if light curve is sorted.\n",
      "WARNING:root:Computing the bin time ``dt``. This can take time. If you know the bin time, please specify it at light curve creation\n"
     ]
    }
   ],
   "source": [
    "lc_back = lc_new.to_stingray()"
   ]
  },
  {
   "cell_type": "code",
   "execution_count": 94,
   "metadata": {},
   "outputs": [
    {
     "data": {
      "text/plain": [
       "array([ 0.,  1.,  2.,  3.,  4.,  5.,  6.,  7.,  8.,  9., 10., 11., 12.,\n",
       "       13., 14., 15., 16., 17., 18., 19., 20., 21., 22., 23., 24., 25.,\n",
       "       26., 27., 28., 29., 30., 31., 32., 33., 34., 35., 36., 37., 38.,\n",
       "       39., 40., 41., 42., 43., 44., 45., 46., 47., 48., 49., 50., 51.,\n",
       "       52., 53., 54., 55., 56., 57., 58., 59., 60., 61., 62., 63., 64.,\n",
       "       65., 66., 67., 68., 69., 70., 71., 72., 73., 74., 75., 76., 77.,\n",
       "       78., 79., 80., 81., 82., 83., 84., 85., 86., 87., 88., 89., 90.,\n",
       "       91., 92., 93., 94., 95., 96., 97., 98., 99.])"
      ]
     },
     "execution_count": 94,
     "metadata": {},
     "output_type": "execute_result"
    }
   ],
   "source": [
    "lc_back.time"
   ]
  },
  {
   "cell_type": "code",
   "execution_count": 95,
   "metadata": {},
   "outputs": [
    {
     "data": {
      "text/plain": [
       "array([110.,  82.,  94., 126., 102.,  80., 102., 105., 106., 102., 119.,\n",
       "        98., 112.,  98., 119., 112., 119.,  99.,  99., 108.,  91.,  85.,\n",
       "        93., 109.,  97.,  82.,  87.,  89.,  96., 108., 120.,  88.,  97.,\n",
       "        88., 109., 120.,  94., 106.,  94.,  96., 120., 122.,  92.,  87.,\n",
       "       113.,  94., 100.,  99., 105.,  86., 107., 101.,  94., 102.,  96.,\n",
       "       112.,  93., 117.,  99.,  98.,  91., 101.,  94., 120., 105.,  91.,\n",
       "        91.,  96.,  85., 117., 104., 102.,  91.,  94., 100., 115.,  98.,\n",
       "        74.,  95.,  88., 100., 107., 102., 109., 109.,  94.,  86.,  84.,\n",
       "        97., 100., 110., 109., 117.,  96., 108., 108., 110., 108.,  97.,\n",
       "        97.])"
      ]
     },
     "execution_count": 95,
     "metadata": {},
     "output_type": "execute_result"
    }
   ],
   "source": [
    "lc_back.counts"
   ]
  },
  {
   "cell_type": "markdown",
   "metadata": {},
   "source": [
    "Similarly, we can transform `Lightcurve` objects to and from `astropy.TimeSeries` objects:"
   ]
  },
  {
   "cell_type": "code",
   "execution_count": 96,
   "metadata": {},
   "outputs": [],
   "source": [
    "dt=1.0\n",
    "time = np.arange(0, 100, dt)\n",
    "counts = np.random.poisson(100, size=len(time))\n",
    "\n",
    "lc = Lightcurve(time, counts, dt=dt, skip_checks=True)\n",
    "\n",
    "# convet to astropy.TimeSeries object\n",
    "ts = lc.to_astropy_timeseries()"
   ]
  },
  {
   "cell_type": "code",
   "execution_count": 97,
   "metadata": {},
   "outputs": [
    {
     "data": {
      "text/plain": [
       "astropy.timeseries.sampled.TimeSeries"
      ]
     },
     "execution_count": 97,
     "metadata": {},
     "output_type": "execute_result"
    }
   ],
   "source": [
    "type(ts)"
   ]
  },
  {
   "cell_type": "code",
   "execution_count": 98,
   "metadata": {},
   "outputs": [
    {
     "data": {
      "text/html": [
       "<i>TimeSeries length=10</i>\n",
       "<table id=\"table140573414427472\" class=\"table-striped table-bordered table-condensed\">\n",
       "<thead><tr><th>time</th><th>counts</th></tr></thead>\n",
       "<thead><tr><th>object</th><th>int64</th></tr></thead>\n",
       "<tr><td>0.0</td><td>100</td></tr>\n",
       "<tr><td>1.1574074074074073e-05</td><td>92</td></tr>\n",
       "<tr><td>2.3148148148148147e-05</td><td>98</td></tr>\n",
       "<tr><td>3.472222222222222e-05</td><td>85</td></tr>\n",
       "<tr><td>4.6296296296296294e-05</td><td>113</td></tr>\n",
       "<tr><td>5.787037037037037e-05</td><td>94</td></tr>\n",
       "<tr><td>6.944444444444444e-05</td><td>99</td></tr>\n",
       "<tr><td>8.101851851851852e-05</td><td>108</td></tr>\n",
       "<tr><td>9.259259259259259e-05</td><td>101</td></tr>\n",
       "<tr><td>0.00010416666666666667</td><td>117</td></tr>\n",
       "</table>"
      ],
      "text/plain": [
       "<TimeSeries length=10>\n",
       "         time          counts\n",
       "        object         int64 \n",
       "---------------------- ------\n",
       "                   0.0    100\n",
       "1.1574074074074073e-05     92\n",
       "2.3148148148148147e-05     98\n",
       " 3.472222222222222e-05     85\n",
       "4.6296296296296294e-05    113\n",
       " 5.787037037037037e-05     94\n",
       " 6.944444444444444e-05     99\n",
       " 8.101851851851852e-05    108\n",
       " 9.259259259259259e-05    101\n",
       "0.00010416666666666667    117"
      ]
     },
     "execution_count": 98,
     "metadata": {},
     "output_type": "execute_result"
    }
   ],
   "source": [
    "ts[:10]"
   ]
  },
  {
   "cell_type": "markdown",
   "metadata": {},
   "source": [
    "lc_back = Lightcurve.from_astropy_timeseries(ts)"
   ]
  },
  {
   "cell_type": "markdown",
   "metadata": {},
   "source": [
    "## Reading/Writing Lightcurves to/from files\n",
    "\n",
    "The `Lightcurve` class has some rudimentary reading/writing capabilities via the `read` and `write` methods. For more information `stingray` inputs and outputs, please refer to the I/O tutorial."
   ]
  }
 ],
 "metadata": {
  "kernelspec": {
   "display_name": "Python 3",
   "language": "python",
   "name": "python3"
  },
  "language_info": {
   "codemirror_mode": {
    "name": "ipython",
    "version": 3
   },
   "file_extension": ".py",
   "mimetype": "text/x-python",
   "name": "python",
   "nbconvert_exporter": "python",
   "pygments_lexer": "ipython3",
   "version": "3.11.2"
  }
 },
 "nbformat": 4,
 "nbformat_minor": 1
}
