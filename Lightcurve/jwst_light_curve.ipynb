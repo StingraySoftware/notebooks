{
 "cells": [
  {
   "cell_type": "markdown",
   "metadata": {},
   "source": [
    "# JWST light curve from rateint.fits file\n"
   ]
  },
  {
   "cell_type": "markdown",
   "metadata": {},
   "source": [
    "## Dataset Description\n",
    "### The following datset are from jwst NIRSEPC BOTS data "
   ]
  },
  {
   "cell_type": "markdown",
   "metadata": {},
   "source": [
    "#### Dataset available at https://mast.stsci.edu/portal/Mashup/Clients/Mast/Portal.html"
   ]
  },
  {
   "cell_type": "code",
   "execution_count": 204,
   "metadata": {},
   "outputs": [],
   "source": [
    "from astropy.io import fits\n",
    "import numpy as np"
   ]
  },
  {
   "cell_type": "markdown",
   "metadata": {},
   "source": [
    "##### Countrate products are produced by applying the ramp_fitting step to the integrations within an exposure, in order to compute count rates from the original accumulating signal ramps. For exposures that contain multiple integrations (NINTS > 1) this is done in two ways, which results in two separate products. First, countrates are computed for each integration within the exposure, the results of which are stored in a rateints product. These products contain 3-D data arrays, where each plane of the data cube contains the countrate image for a given integration\n",
    "\n",
    "##### for more information visit the site https://jwst-pipeline.readthedocs.io/en/stable/jwst/data_products/science_products.html"
   ]
  },
  {
   "cell_type": "markdown",
   "metadata": {},
   "source": [
    "##### Rateint int comes from stage 1 processing of uncall data. These data come from single exposures and are usually contained within a single FITS file. However, when the raw data volume for an individual exposure is large enough, like for time-series observations, the uncalibrated data can be broken into multiple segments less than 2GB each, so as to keep total file sizes to a reasonable level. Such broken-up exposures usually include \"segNNN\" in the file names, where NNN is 1-indexed and always includes any leading zeros https://jwst-docs.stsci.edu/accessing-jwst-data/jwst-science-data-overview"
   ]
  },
  {
   "cell_type": "code",
   "execution_count": 219,
   "metadata": {},
   "outputs": [],
   "source": [
    "#since jwst ligth curve are segmeneted\n",
    "Required_files = [\n",
    "    \"jw01366003001_04101_00001-seg001_nrs2_rateints.fits\",\n",
    "    \"jw01366003001_04101_00001-seg002_nrs2_rateints.fits\",\n",
    "    \"jw01366003001_04101_00001-seg003_nrs2_rateints.fits\"\n",
    "]"
   ]
  },
  {
   "cell_type": "markdown",
   "metadata": {},
   "source": [
    "##### Data Description\n",
    "##### SCI: 3-D data array containing the pixel values, in units of DN/s. The first two dimensions are equal to the size of the detector readout, with the data from multiple integrations stored along the 3rd axis.\n",
    "\n",
    "##### ERR: 3-D data array containing uncertainty estimates on a per-integration basis. These values are based on the combined VAR_POISSON and VAR_RNOISE data (see below), given as standard deviation.\n",
    "\n",
    "##### DQ: 3-D data array containing DQ flags. Each plane of the cube corresponds to a given integration.\n",
    "\n",
    "##### INT_TIMES: A table of beginning, middle, and end time stamps for each integration in the exposure.\n",
    "\n",
    "##### VAR_POISSON: 3-D data array containing the per-integration variance estimates for each pixel, based on Poisson noise only.\n",
    "\n",
    "##### VAR_RNOISE: 3-D data array containing the per-integration variance estimates for each pixel, based on read noise only.\n",
    "\n",
    "##### ADSF: The data model meta data."
   ]
  },
  {
   "cell_type": "code",
   "execution_count": 220,
   "metadata": {},
   "outputs": [
    {
     "name": "stdout",
     "output_type": "stream",
     "text": [
      "Filename: jw01366003001_04101_00001-seg001_nrs2_rateints.fits\n",
      "No.    Name      Ver    Type      Cards   Dimensions   Format\n",
      "  0  PRIMARY       1 PrimaryHDU     249   ()      \n",
      "  1  SCI           1 ImageHDU        63   (2048, 32, 155)   float32   \n",
      "  2  ERR           1 ImageHDU        11   (2048, 32, 155)   float32   \n",
      "  3  DQ            1 ImageHDU        12   (2048, 32, 155)   int32 (rescales to uint32)   \n",
      "  4  INT_TIMES     1 BinTableHDU     24   155R x 7C   [J, D, D, D, D, D, D]   \n",
      "  5  VAR_POISSON    1 ImageHDU        10   (2048, 32, 155)   float32   \n",
      "  6  VAR_RNOISE    1 ImageHDU        10   (2048, 32, 155)   float32   \n",
      "  7  ASDF          1 BinTableHDU     11   1R x 1C   [8277B]   \n"
     ]
    }
   ],
   "source": [
    "#check data \n",
    "file_to_check = Required_files[0]\n",
    "hdul = fits.open(file_to_check)\n",
    "hdul.info()"
   ]
  },
  {
   "cell_type": "code",
   "execution_count": 217,
   "metadata": {},
   "outputs": [
    {
     "data": {
      "text/plain": [
       "{'XTENSION': 'IMAGE',\n",
       " 'BITPIX': -32,\n",
       " 'NAXIS': 3,\n",
       " 'NAXIS1': 2048,\n",
       " 'NAXIS2': 32,\n",
       " 'NAXIS3': 155,\n",
       " 'PCOUNT': 0,\n",
       " 'GCOUNT': 1,\n",
       " 'EXTNAME': 'SCI',\n",
       " 'MJD-BEG': 59790.91951388889,\n",
       " 'MJD-AVG': 59791.09184913195,\n",
       " 'MJD-END': 59791.264184375,\n",
       " 'TDB-BEG': 59790.92023663242,\n",
       " 'TDB-MID': 59791.09255526889,\n",
       " 'TDB-END': 59791.26487390614,\n",
       " 'XPOSURE': 29360.1,\n",
       " 'TELAPSE': 29789.053,\n",
       " '': \n",
       " JWST ephemeris information\n",
       " \n",
       " \n",
       " Information about the coordinates in the file\n",
       " \n",
       " \n",
       " Spacecraft pointing information\n",
       " \n",
       " \n",
       " WCS parameters,\n",
       " 'REFFRAME': 'EME2000',\n",
       " 'EPH_TYPE': 'Definitive',\n",
       " 'EPH_TIME': 59791.09184913195,\n",
       " 'JWST_X': 91815476.84790646,\n",
       " 'JWST_Y': -111522899.1536672,\n",
       " 'JWST_Z': -48731897.45675641,\n",
       " 'OBSGEO-X': 545345099.5021366,\n",
       " 'OBSGEO-Y': -1291929567.847113,\n",
       " 'OBSGEO-Z': -978961274.49491,\n",
       " 'JWST_DX': 23.21515156724432,\n",
       " 'JWST_DY': 16.56018448588144,\n",
       " 'JWST_DZ': 7.282985514766873,\n",
       " 'OBSGEODX': 89.20175080884282,\n",
       " 'OBSGEODY': -0.811047580746933,\n",
       " 'OBSGEODZ': 103.5262274780199,\n",
       " 'PA_APER': 247.52683001915398,\n",
       " 'VA_SCALE': 0.9999036448783407,\n",
       " 'BUNIT': 'DN/s',\n",
       " 'RADESYS': 'ICRS',\n",
       " 'RA_V1': 217.48013207246336,\n",
       " 'DEC_V1': -3.402094291064577,\n",
       " 'PA_V3': 108.66460826121968,\n",
       " 'S_REGION': 'POLYGON ICRS  217.326472754 -3.444794415 217.326885954 -3.444623768 217.326712385 -3.444214679 217.326299175 -3.444385300',\n",
       " 'V2_REF': 321.26297,\n",
       " 'V3_REF': -473.851288,\n",
       " 'VPARITY': -1,\n",
       " 'V3I_YANG': 138.85295105,\n",
       " 'RA_REF': 217.32659258256018,\n",
       " 'DEC_REF': -3.444504541495905,\n",
       " 'ROLL_REF': 108.67387896915398,\n",
       " 'VELOSYS': 28887.89,\n",
       " 'XREF_SCI': 0,\n",
       " 'YREF_SCI': 0,\n",
       " 'EXTVER': 1}"
      ]
     },
     "execution_count": 217,
     "metadata": {},
     "output_type": "execute_result"
    }
   ],
   "source": [
    "file_to_check = Required_files[0]\n",
    "hdul = fits.open(file_to_check)\n",
    "hdul_dict = dict(hdul[\"SCI\"].header)\n",
    "hdul_dict"
   ]
  },
  {
   "cell_type": "code",
   "execution_count": null,
   "metadata": {},
   "outputs": [
    {
     "name": "stdout",
     "output_type": "stream",
     "text": [
      "y dim =  2048\n",
      "x dim = 32\n",
      "num_integration = 155\n"
     ]
    },
    {
     "data": {
      "text/plain": [
       "array([nan, nan, nan, ..., nan, nan, nan], shape=(2048,), dtype='>f4')"
      ]
     },
     "execution_count": 218,
     "metadata": {},
     "output_type": "execute_result"
    }
   ],
   "source": [
    "num_integration , x_dim , y_dim = hdul[\"SCI\"].data.shape\n",
    "print(f\"y dim =  {y_dim}\")\n",
    "print(f\"x dim = {x_dim}\")\n",
    "print(f\"num_integration = {num_integration}\")\n",
    "\n",
    "hdul[\"SCI\"].data[0][0]"
   ]
  },
  {
   "cell_type": "code",
   "execution_count": null,
   "metadata": {},
   "outputs": [
    {
     "data": {
      "image/png": "[encoded data removed]",
      "text/plain": [
       "<Figure size 800x800 with 4 Axes>"
      ]
     },
     "metadata": {},
     "output_type": "display_data"
    }
   ],
   "source": [
    "# Set up matplotlib\n",
    "import matplotlib.pyplot as plt\n",
    "%matplotlib inline\n",
    "sl_fig, axs = plt.subplots(ncols=1, nrows=4, figsize=[8, 8])\n",
    "\n",
    "for i, ax in enumerate(axs.flat):\n",
    "    im = ax.imshow(hdul[\"SCI\"].data[i, :, :], \n",
    "                   origin='lower', \n",
    "                   aspect='auto', \n",
    "                   interpolation='none',\n",
    "                   cmap='grey')\n",
    "    ax.axis(\"off\")  "
   ]
  },
  {
   "cell_type": "code",
   "execution_count": 210,
   "metadata": {},
   "outputs": [
    {
     "data": {
      "text/plain": [
       "array([785604.62805836, 791037.98383455, 788787.22850215, 787035.34815956,\n",
       "       792356.27529687, 790661.87443803, 787510.5756797 , 792994.97710949,\n",
       "       793491.19394794, 789897.06129328])"
      ]
     },
     "execution_count": 210,
     "metadata": {},
     "output_type": "execute_result"
    }
   ],
   "source": [
    "#concatenating all the data into a singal array\n",
    "all_flux = []\n",
    "\n",
    "\n",
    "# Loop through all segments\n",
    "for file_name in Required_files:\n",
    "    with fits.open(file_name) as hdul:\n",
    "        ini_array = hdul[\"SCI\"].data \n",
    "        data = np.where(np.isnan(ini_array), np.ma.array(ini_array, \n",
    "                   mask=np.isnan(ini_array)).mean(axis=0), ini_array)\n",
    "        flux = np.nansum(data, axis=(1, 2)) \n",
    "\n",
    "        all_flux.extend(flux)\n",
    "\n",
    "all_flux = np.array(all_flux)\n",
    "all_flux[0:10] "
   ]
  },
  {
   "cell_type": "code",
   "execution_count": null,
   "metadata": {},
   "outputs": [
    {
     "name": "stdout",
     "output_type": "stream",
     "text": [
      "(np.float64(59790.9201561958), np.float64(59790.920521705826), np.float64(59790.92088721585), np.float64(59790.92087887377), np.float64(59790.92124434857), np.float64(59790.92160982337))\n",
      "(155,)\n"
     ]
    }
   ],
   "source": [
    "#Time\n",
    "time_check = fits.open(file_to_check)\n",
    "time_arr = time_check[\"INT_TIMES\"].data\n",
    "print(time_arr[1][1:])\n",
    "print(time_arr.shape) \n",
    "\n",
    "# Its is an 1d array with [num int,times (as listed below)]\n",
    "# MJD-BEG\n",
    "# MJD-AVG\n",
    "# MJD-END\n",
    "# TDB-BEG\n",
    "# TDB-MID\n",
    "# TDB-END"
   ]
  },
  {
   "cell_type": "code",
   "execution_count": 212,
   "metadata": {},
   "outputs": [],
   "source": [
    "all_time = []\n",
    "for file_name in Required_files:\n",
    "    with fits.open(file_name) as hdul_time:\n",
    "        time_lc = hdul_time[\"INT_TIMES\"].data\n",
    "        for i in range(time_lc.shape[0]):\n",
    "            all_time.append(time_lc[i][1:][0])\n",
    "\n",
    "all_time = np.array(all_time)"
   ]
  },
  {
   "cell_type": "code",
   "execution_count": null,
   "metadata": {},
   "outputs": [
    {
     "name": "stdout",
     "output_type": "stream",
     "text": [
      "(465,)\n",
      "(465,)\n"
     ]
    }
   ],
   "source": [
    "#verification since shape for time and flux should be same \n",
    "print(all_time.shape)\n",
    "print(all_flux.shape)"
   ]
  },
  {
   "cell_type": "code",
   "execution_count": 214,
   "metadata": {},
   "outputs": [],
   "source": [
    "from stingray import Lightcurve\n",
    "\n",
    "lc = Lightcurve(all_time,all_flux)"
   ]
  },
  {
   "cell_type": "code",
   "execution_count": 223,
   "metadata": {},
   "outputs": [
    {
     "data": {
      "image/png": "[encoded data removed]",
      "text/plain": [
       "<Figure size 640x480 with 1 Axes>"
      ]
     },
     "metadata": {},
     "output_type": "display_data"
    }
   ],
   "source": [
    "lc.plot(labels = ['Time','flux'])\n",
    "plt.show()"
   ]
  }
 ],
 "metadata": {
  "kernelspec": {
   "display_name": "Python 3",
   "language": "python",
   "name": "python3"
  },
  "language_info": {
   "codemirror_mode": {
    "name": "ipython",
    "version": 3
   },
   "file_extension": ".py",
   "mimetype": "text/x-python",
   "name": "python",
   "nbconvert_exporter": "python",
   "pygments_lexer": "ipython3",
   "version": "3.10.12"
  }
 },
 "nbformat": 4,
 "nbformat_minor": 2
}
