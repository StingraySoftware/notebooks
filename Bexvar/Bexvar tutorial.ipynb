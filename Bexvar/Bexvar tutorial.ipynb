{
 "cells": [
  {
   "cell_type": "markdown",
   "metadata": {},
   "source": [
    "## Baysian Excess Variance (Bexvar)"
   ]
  },
  {
   "cell_type": "markdown",
   "metadata": {},
   "source": [
    "The Bayesian Excess Variance (bexvar) is a statistical measurement of variability in Poisson-distributed light curves. Bexvar is a Bayesian formulation of excess variance. A brief summary of theoretical understanding of bexvar is given at the end of this tutorial.  "
   ]
  },
  {
   "cell_type": "markdown",
   "metadata": {},
   "source": [
    "The `bexvar()` method implemented in Stingray, provides posterior samples of bexvar given a light curve data as input parameters.  \n",
    "This tutorial is intended to give a demonstration of How to use `bexvar()` method implemented in Stingray.\n",
    "The method takes following input parameters. (Given here for completeness)"
   ]
  },
  {
   "cell_type": "markdown",
   "metadata": {},
   "source": [
    "\n",
    "&emsp;&emsp;```time``` : iterable, `:class:numpy.array` or `:class:List` of floats, optional, default ``None``  \n",
    "&emsp;&emsp;&emsp;&emsp; A list or array of time stamps for a light curve.  \n",
    "&emsp;&emsp;`time_del` : iterable, `:class:numpy.array` or `:class:List` of floats  \n",
    "&emsp;&emsp;&emsp;&emsp;A list or array of time intervals for each bin of light curve.  \n",
    "&emsp;&emsp;`src_counts` : iterable, `:class:numpy.array` or `:class:List` of floats  \n",
    "&emsp;&emsp;&emsp;&emsp;A list or array of counts observed from source region in each bin.  \n",
    "&emsp;&emsp;`bg_counts` : iterable, `:class:numpy.array` or `:class:List` of floats, optional, default ``None``  \n",
    "&emsp;&emsp;&emsp;&emsp;A list or array of counts observed from background region in each bin. If ``None``  \n",
    "&emsp;&emsp;&emsp;&emsp;we assume it as a numpy array of zeros, of length equal to length of ``src_counts``.  \n",
    "&emsp;&emsp;`bg_ratio` : iterable, `:class:numpy.array` or `:class:List` of floats, optional, default ``None``  \n",
    "&emsp;&emsp;&emsp;&emsp;A list or array of source region area to background region area ratio in each bin.  \n",
    "&emsp;&emsp;&emsp;&emsp;If ``None`` we assume it as a numpy array of ones, of length equal to the length of  \n",
    "&emsp;&emsp;&emsp;&emsp;``src_counts``.  \n",
    "&emsp;&emsp;`frac_exp` : iterable, `:class:numpy.array` or `:class:List` of floats, optional, default ``None``  \n",
    "&emsp;&emsp;&emsp;&emsp;A list or array of fractional exposers in each bin. If ``None`` we assume it as  \n",
    "&emsp;&emsp;&emsp;&emsp;a numpy array of ones, of length equal to length of ``src_counts``.  \n"
   ]
  },
  {
   "cell_type": "markdown",
   "metadata": {},
   "source": [
    "Let us start by importing the bexvar module"
   ]
  },
  {
   "cell_type": "code",
   "execution_count": 1,
   "metadata": {},
   "outputs": [],
   "source": [
    "from stingray import bexvar"
   ]
  },
  {
   "cell_type": "markdown",
   "metadata": {},
   "source": [
    "Now consider an example dataset."
   ]
  },
  {
   "cell_type": "code",
   "execution_count": 2,
   "metadata": {},
   "outputs": [],
   "source": [
    "import numpy as np\n",
    "\n",
    "time = np.arange(0,8)*100\n",
    "counts= np.array([106, 87, 115, 148, 43, 129, 204, 87])\n",
    "time_del = np.ones(np.size(time))*100\n",
    "bg_counts = np.array([722, 696, 701, 721, 722, 703, 722, 695])\n",
    "bg_ratio = np.array([0.01474, 0.01158, 0.01214, 0.01308, 0.010877, 0.01177, 0.01058, 0.01138])\n",
    "frac_exp = np.array([0.37416, 0.21713, 0.37937,  0.50140, 0.11617, 0.39221, 0.64275, 0.31160])"
   ]
  },
  {
   "cell_type": "markdown",
   "metadata": {},
   "source": [
    "Call bexvar function to get posterior distribution of bexvar."
   ]
  },
  {
   "cell_type": "markdown",
   "metadata": {},
   "source": [
    "The `bexvar()` method uses [UltraNest](https://johannesbuchner.github.io/UltraNest/) python package to obtain the posteriors of bexvar. Ultranest gives a brief summary of log evidence (log(z)) and its uncertainties, and the parameter constraints.  \n"
   ]
  },
  {
   "cell_type": "code",
   "execution_count": 3,
   "metadata": {},
   "outputs": [
    {
     "name": "stdout",
     "output_type": "stream",
     "text": [
      "preparing time bin posteriors...\n",
      "running bexvar...\n",
      "[ultranest] Sampling 400 live points from prior ...\n",
      "[ultranest] Explored until L=-2e+01   [-20.4039..-20.4039]*| it/evals=3720/5201 eff=77.4839% N=400 \n",
      "[ultranest] Likelihood function evaluations: 5209\n",
      "[ultranest]   logZ = -25.1 +- 0.07367\n",
      "[ultranest] Effective samples strategy satisfied (ESS = 1539.5, need >400)\n",
      "[ultranest] Posterior uncertainty strategy is satisfied (KL: 0.46+-0.07 nat, need <0.50 nat)\n",
      "[ultranest] Evidency uncertainty strategy is satisfied (dlogz=0.07, need <0.5)\n",
      "[ultranest]   logZ error budget: single: 0.10 bs:0.07 tail:0.01 total:0.07 required:<0.50\n",
      "[ultranest] done iterating.\n",
      "\n",
      "logZ = -25.110 +- 0.168\n",
      "  single instance: logZ = -25.110 +- 0.097\n",
      "  bootstrapped   : logZ = -25.096 +- 0.168\n",
      "  tail           : logZ = +- 0.010\n",
      "insert order U test : converged: True correlation: inf iterations\n",
      "\n",
      "    logmean             : 0.303 │ ▁   ▁    ▁▁ ▁▁▁▁▁▂▂▄▄▆▇▇▇▅▄▂▂▁▁▁▁▁▁▁▁ │0.560     0.461 +- 0.020\n",
      "    logsigma            : 0.010 │▇▅▄▃▂▂▁▁▁▁▁▁▁▁▁▁▁▁▁▁  ▁▁             ▁ │0.260     0.027 +- 0.018\n",
      "\n",
      "running bexvar... done\n"
     ]
    }
   ],
   "source": [
    "\n",
    " bexvar_distribution = bexvar.bexvar(time=time, src_counts=counts, time_del=time_del, frac_exp=frac_exp,\n",
    "                                     bg_counts=bg_counts, bg_ratio=bg_ratio)"
   ]
  },
  {
   "cell_type": "markdown",
   "metadata": {},
   "source": [
    "We can then plot the samples to visualize the posterior distribution of bexvar."
   ]
  },
  {
   "cell_type": "code",
   "execution_count": 4,
   "metadata": {},
   "outputs": [
    {
     "data": {
      "image/png": "[encoded data removed]",
      "text/plain": [
       "<Figure size 640x480 with 1 Axes>"
      ]
     },
     "metadata": {},
     "output_type": "display_data"
    }
   ],
   "source": [
    "import matplotlib.pyplot as plt\n",
    "%matplotlib inline\n",
    "plt.hist(bexvar_distribution, bins=20)\n",
    "plt.ylabel(\"# of samples\")\n",
    "plt.xlabel(r\"$\\sigma_{bexvar}$\")\n",
    "plt.show()"
   ]
  },
  {
   "cell_type": "markdown",
   "metadata": {},
   "source": [
    "If the light curve is intrinsically variable, then the posterior distribution of bexvar should exclude low values. Users can compute \n",
    "the lower 10% quantile of the posterior, and use it as a variability indicator (see [Buchner et al. (2021)](https://arxiv.org/abs/2106.14529))."
   ]
  },
  {
   "cell_type": "markdown",
   "metadata": {},
   "source": [
    "The method uses fractional exposers (`frac_exp`) in each bin to compute the count rates (i.e.$~\\scriptstyle{R_i = C_i/(\\Delta{t_i}\\times f_i)}$). In its current form it only considers time bins with `frac_exp` < 1. The `bg_ratio` parameter is used to scale the `bg_counts` to estimate counts in source region. The `bg_count`, `bg_ratio` and `frac_exp` are optional parameters, if they are not provided, the method defines default values for them as described in documentation. "
   ]
  },
  {
   "cell_type": "markdown",
   "metadata": {},
   "source": [
    "Let us see an example to get bexvar distribution without these optional parameters."
   ]
  },
  {
   "cell_type": "code",
   "execution_count": 5,
   "metadata": {},
   "outputs": [
    {
     "name": "stdout",
     "output_type": "stream",
     "text": [
      "preparing time bin posteriors...\n",
      "running bexvar...\n",
      "[ultranest] Sampling 400 live points from prior ...\n",
      "[ultranest] Explored until L=-4e+01   [-36.8488..-36.8487]*| it/evals=3690/5247 eff=76.1296% N=400 \n",
      "[ultranest] Likelihood function evaluations: 5253\n",
      "[ultranest]   logZ = -41.49 +- 0.06317\n",
      "[ultranest] Effective samples strategy satisfied (ESS = 1732.8, need >400)\n",
      "[ultranest] Posterior uncertainty strategy is satisfied (KL: 0.47+-0.07 nat, need <0.50 nat)\n",
      "[ultranest] Evidency uncertainty strategy is satisfied (dlogz=0.06, need <0.5)\n",
      "[ultranest]   logZ error budget: single: 0.09 bs:0.06 tail:0.01 total:0.06 required:<0.50\n",
      "[ultranest] done iterating.\n",
      "\n",
      "logZ = -41.476 +- 0.161\n",
      "  single instance: logZ = -41.476 +- 0.093\n",
      "  bootstrapped   : logZ = -41.494 +- 0.161\n",
      "  tail           : logZ = +- 0.010\n",
      "insert order U test : converged: True correlation: inf iterations\n",
      "\n",
      "    logmean             : -0.692│ ▁    ▁  ▁ ▁▁▁▁▁▁▁▁▂▃▃▅▇▇▆▅▃▂▁▁▁▁▁▁ ▁▁▁│0.457     0.021 +- 0.084\n",
      "    logsigma            : 0.045 │ ▁▁▃▅▇▇▆▅▄▃▂▂▁▁▁▁▁▁▁▁▁▁▁▁▁▁▁▁ ▁   ▁  ▁ │0.892     0.217 +- 0.075\n",
      "\n",
      "running bexvar... done\n"
     ]
    }
   ],
   "source": [
    "import numpy as np\n",
    "\n",
    "time = np.arange(0,8)*100\n",
    "counts= np.array([106, 87, 115, 148, 43, 129, 204, 87])\n",
    "time_del = np.ones(np.size(time))*100\n",
    "\n",
    "bexvar_distribution = bexvar.bexvar(time=time, src_counts=counts, time_del=time_del)"
   ]
  },
  {
   "cell_type": "markdown",
   "metadata": {},
   "source": [
    "### Bexvar: Theoretical background"
   ]
  },
  {
   "cell_type": "markdown",
   "metadata": {},
   "source": [
    "\n",
    "This section provides a theoretical understanding of Bayesian excess variance (bexvar). This is an optional read.\n",
    "\n",
    "Given a lightcurve data ${\\scriptstyle 𝐷 = (𝑆_1,𝐵_1,~…~,𝑆_𝑁,𝐵_𝑁)}$\n",
    " where ($\\scriptstyle{S_i}$) denotes counts obtained from source region and ($\\scriptstyle{B_i}$) denotes counts obtained from background extraction region in $\\scriptstyle{i^{th}}$ time bin.\n",
    "If it is assumed that the counts $\\scriptstyle{𝑆_𝑖}$ and $\\scriptstyle{𝐵_𝑖}$ can be expressed as\n",
    "Poisson processes. \n",
    "$$ \\scriptstyle {𝑆_𝑖 ~ \\sim ~ 𝑃𝑜𝑖𝑠𝑠𝑜𝑛((( 𝑅_𝑆(𝑡_𝑖) ~+~ 𝑅_𝐵(𝑡_𝑖) \\times 𝑟)~×~𝑓_𝑖~\\times~Δ𝑡)}$$\n",
    "$$ \\scriptstyle  {𝐵_𝑖 ~ \\sim ~ 𝑃𝑜𝑖𝑠𝑠𝑜𝑛(𝑅_𝐵(𝑡_𝑖) × 𝑓_𝑖 × Δ𝑡)}$$\n",
    "\n",
    "Here, $\\scriptstyle{𝑅_𝑆(𝑡_𝑖)}$ is source count rate and $\\scriptstyle{𝑅_B(𝑡_𝑖)}$ is background count rate in $\\scriptstyle{i^{th}}$ time bin.  \n",
    "It is further assumed that $\\scriptstyle{𝑅_𝑆(𝑡_𝑖)}$ is distributed according to a log normal distribution, with some unknown parameters (i.e., $\\scriptstyle{log(\\bar{𝑅_{S}})}$, and $\\scriptstyle{\\sigma_{bexvar}}$).\n",
    "$$\\scriptstyle{log(𝑅_𝑆(𝑡_𝑖))~\\sim~𝑁𝑜𝑟𝑚𝑎𝑙(log(\\bar{𝑅_𝑆}),~ \\sigma_{𝑏𝑒𝑥𝑣𝑎𝑟})} $$\n",
    "\n",
    "This $\\sigma_{𝑏𝑒𝑥𝑣𝑎𝑟}$ provides intrinsic variability on log-count rate and it is defined as Bayesian excess variance (bexvar). The posterior distribution of $\\sigma_{𝑏𝑒𝑥𝑣𝑎𝑟}$ can be used to identify intrinsically variable object.\n",
    "\n",
    "The bexvar() method in Stingray returns posterior samples of $\\scriptstyle{\\sigma_{𝑏𝑒𝑥𝑣𝑎𝑟}}$ given a light curve data.\n",
    "The samples are generated following the same prescription given in [Buchner et al. (2021)](https://arxiv.org/abs/2106.14529). The method uses flat, uninformative priors on $\\scriptstyle{log(\\bar{𝑅_𝑆})}$ and $\\scriptstyle{log(\\sigma_{𝑏𝑒𝑥𝑣𝑎𝑟})}$ and obtains the posterior samples using nested sampling Monte Carlo algorithm MLFriends (Buchner [2016](https://link.springer.com/article/10.1007/s11222-014-9512-y),\n",
    "[2019](https://arxiv.org/abs/1707.04476)) implemented in the [UltraNest](https://johannesbuchner.github.io/UltraNest/) Python package (Buchner [2021](https://arxiv.org/abs/2101.09604)).\n",
    "\n"
   ]
  }
 ],
 "metadata": {
  "kernelspec": {
   "display_name": "Python 3",
   "language": "python",
   "name": "python3"
  },
  "language_info": {
   "codemirror_mode": {
    "name": "ipython",
    "version": 3
   },
   "file_extension": ".py",
   "mimetype": "text/x-python",
   "name": "python",
   "nbconvert_exporter": "python",
   "pygments_lexer": "ipython3",
   "version": "3.12.3"
  }
 },
 "nbformat": 4,
 "nbformat_minor": 4
}
