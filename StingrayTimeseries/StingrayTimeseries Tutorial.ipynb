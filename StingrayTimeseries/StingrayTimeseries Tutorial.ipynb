{
 "cells": [
  {
   "cell_type": "markdown",
   "metadata": {},
   "source": [
    "Start here to begin with Stingray."
   ]
  },
  {
   "cell_type": "code",
   "execution_count": 1,
   "metadata": {},
   "outputs": [],
   "source": [
    "%load_ext autoreload\n",
    "%autoreload 2\n",
    "\n",
    "import numpy as np\n",
    "%matplotlib inline\n",
    "import warnings\n",
    "warnings.filterwarnings('ignore')"
   ]
  },
  {
   "cell_type": "markdown",
   "metadata": {},
   "source": [
    "## Introduction\n",
    "\n",
    "`StingrayTimeseries` is a generic time series object, and also acts as the base class for Stingray's `Lightcurve` and `EventList`. It is a data container that associate times with measurements.\n",
    "The only compulsory element in such a series is indeed the `time` attribute.\n",
    "\n",
    "Many of the methods in `Lightcurve` and `EventList`, indeed, are implemented in this class. For example, methods that truncate, add, subtract the series, or that filter it in some way (e.g. by adding a mask or applying the good time intervals)\n",
    "\n",
    "\n",
    "### Internal Class structure\n",
    "\n",
    "For most of this internal behavior, all turns around the concept of \"Array attributes\", \"Internal attributes\", \"Meta attributes\", and \"Not array attributes\". \n",
    "\n",
    "**Array attributes** Ideally, if one were to create a new object based on a table format, array attributes would be the table columns (so, they all have the same length of the `time` column).\n",
    "Example array attributes are\n",
    "\n",
    "+ `counts`, the number of counts in each bin of a typical X-ray light curve;\n",
    "+ `dt`, the sampling time, *if data are not evenly sampled*;\n",
    "\n",
    "Note that array attributes can have any dimension. The only important thing is that the *first dimension's size* is equal to the size of `time`. E.g. if time is `[1, 2, 3]` (shape (3,) ), an array attribute could be `[[4, 4], [2, 3], [4, 5]]` (shape (3, 2)), but not `[[1, 2, 3]]` (shape (1, 3))\n",
    "\n",
    "**Meta attributes** The most useful attributes are probably \n",
    "\n",
    "+ `gti`, or the Good Time Intervals where measurements are supposed to be reliable; \n",
    "+ `dt`, the sampling time, when *constant* (evenly sampled time series);\n",
    "+ `mjdref` the reference MJD for all the time measurements in the series\n",
    "\n",
    "**Internal array attributes** Some classes, like `Lightcurve`, expose attributes (such as `counts`, `counts_err`) that are not arrays but properties. This is done for a flexible manipulation of counts, count rates etc, that can be set asynchronously depending on which one was set first (see the `Lightcurve` documentation). The actual arrays containing data are internal attributes (such as `_counts`) that get set only if needed. Another thing that lightcurve does is throwing an error if one wants to set the time to a different length than its array attributes. The actual time is stored in the `_time` attribute, and this check is done when one tries to modify the time through the `time` property (by setting `lc.time`).\n",
    "\n",
    "**Not array attributes** Some quantities, such as GTI, might in principle have the same length of `time`. One can then add `gti` to the list of `not_array_attributes`, that protects from the hypothesis of considering `gti` a standard array attribute."
   ]
  },
  {
   "cell_type": "markdown",
   "metadata": {},
   "source": [
    "## Creating a time series"
   ]
  },
  {
   "cell_type": "code",
   "execution_count": 2,
   "metadata": {},
   "outputs": [],
   "source": [
    "from stingray import StingrayTimeseries"
   ]
  },
  {
   "cell_type": "markdown",
   "metadata": {},
   "source": [
    "A `StingrayTimeseries` object is usually created in one of the following two ways:\n",
    "\n",
    "1. From an array of time stamps and an array of any name.\n",
    "        \n",
    "        ts = StingrayTimeseries(times, array_attrs=dict(my_array_attr=my_attr), **opts)\n",
    "\n",
    "    where `**opts` are any (optional) keyword arguments (e.g. `dt=0.1`, `mjdref=55000`, etc.)\n",
    "    In principle, array attributes can be specified as simple keyword arguments. But when we use the `array_attrs` keyword, we will run a check on the length of the arrays, and raise an error if they are not of a shape compatible with the ``time`` array.\n",
    "\n",
    "2. A binned `StingrayTimeseries`, a generalization of a uniformly sampled light curve, can be obtained from an EventList object, through the `to_binned_timeseries` method.\n",
    "\n",
    "        ev = EventList(times, mjdref=55000)\n",
    "        ev.my_attr = my_attr_array\n",
    "        ts = ev.to_binned_timeseries(ev, dt=1, array_attrs={\"my_attr\": my_attr}, **opts)\n",
    "\n",
    "as will be described in the next sections.\n",
    "\n",
    "An additional possibility is creating an empty `StingrayTimeseries` object, whose attributes will be filled in later:\n",
    "\n",
    "    ts = StingrayTimeseries()\n",
    "\n",
    "or, if one wants to specify any keyword arguments:\n",
    "\n",
    "    ts = StingrayTimeseries(**opts)\n",
    "\n",
    " This option is usually only relevant to advanced users, but we mention it here for reference"
   ]
  },
  {
   "cell_type": "markdown",
   "metadata": {},
   "source": [
    "### 1. Array of time stamps and counts"
   ]
  },
  {
   "cell_type": "markdown",
   "metadata": {},
   "source": [
    "Create 1000 time stamps"
   ]
  },
  {
   "cell_type": "code",
   "execution_count": 3,
   "metadata": {},
   "outputs": [
    {
     "data": {
      "text/plain": [
       "array([0, 1, 2, 3, 4, 5, 6, 7, 8, 9])"
      ]
     },
     "execution_count": 3,
     "metadata": {},
     "output_type": "execute_result"
    }
   ],
   "source": [
    "times = np.arange(1000)\n",
    "times[:10]"
   ]
  },
  {
   "cell_type": "markdown",
   "metadata": {},
   "source": [
    "Create 1000 random Poisson-distributed counts:"
   ]
  },
  {
   "cell_type": "code",
   "execution_count": 4,
   "metadata": {},
   "outputs": [
    {
     "data": {
      "text/plain": [
       "array([ 1.75121197, -0.4240528 , -0.73471763,  1.24040364,  0.17502379,\n",
       "        0.06856601, -1.66808152,  0.12873094,  0.15823708, -0.8320278 ])"
      ]
     },
     "execution_count": 4,
     "metadata": {},
     "output_type": "execute_result"
    }
   ],
   "source": [
    "my_attr = np.random.normal(size=len(times))\n",
    "my_attr[:10]"
   ]
  },
  {
   "cell_type": "markdown",
   "metadata": {},
   "source": [
    "Create a Lightcurve object with the times and counts array."
   ]
  },
  {
   "cell_type": "code",
   "execution_count": 5,
   "metadata": {},
   "outputs": [],
   "source": [
    "ts = StingrayTimeseries(times, array_attrs={\"my_attr\": my_attr})"
   ]
  },
  {
   "cell_type": "markdown",
   "metadata": {},
   "source": [
    "The number of data points can be counted with the `len` function, or through the `n` property."
   ]
  },
  {
   "cell_type": "code",
   "execution_count": 6,
   "metadata": {},
   "outputs": [
    {
     "data": {
      "text/plain": [
       "(1000, 1000)"
      ]
     },
     "execution_count": 6,
     "metadata": {},
     "output_type": "execute_result"
    }
   ],
   "source": [
    "len(ts), ts.n"
   ]
  },
  {
   "cell_type": "markdown",
   "metadata": {},
   "source": [
    "### 2. From an event list\n",
    "\n",
    "Often, you might have an event list with associated properties such as weight, polarization, etc. If this is the case, you can use the `to_binned_timeseries` method of `EventList` to turn these photon arrival times into a regularly binned timeseries."
   ]
  },
  {
   "cell_type": "code",
   "execution_count": 7,
   "metadata": {},
   "outputs": [],
   "source": [
    "from stingray import EventList\n",
    "\n",
    "arrival_times = np.sort(np.random.uniform(0, 100, 1000))\n",
    "goofy = np.random.normal(size=arrival_times.size)\n",
    "mickey = np.random.chisquare(2, size=arrival_times.size)\n",
    "ev = EventList(arrival_times, gti=[[0, 100]])\n",
    "ev.goofy = goofy\n",
    "ev.mickey = mickey"
   ]
  },
  {
   "cell_type": "markdown",
   "metadata": {},
   "source": [
    "To create the time series, it's necessary to specify the sampling time `dt`. By default, the time series will create histograms with all the array attributes of `EventLists` with the same length as `ev.time`."
   ]
  },
  {
   "cell_type": "code",
   "execution_count": 8,
   "metadata": {},
   "outputs": [],
   "source": [
    "ts_new = ev.to_binned_timeseries(dt=1)"
   ]
  },
  {
   "cell_type": "markdown",
   "metadata": {},
   "source": [
    "One can specify which attributes to use through the `array_attrs` keyword"
   ]
  },
  {
   "cell_type": "code",
   "execution_count": 9,
   "metadata": {},
   "outputs": [],
   "source": [
    "ts_new_small = ev.to_binned_timeseries(dt=1, array_attrs=[\"goofy\"])"
   ]
  },
  {
   "cell_type": "markdown",
   "metadata": {},
   "source": [
    "All attributes that have been histogrammed can be accessed through the `array_attrs` method:"
   ]
  },
  {
   "cell_type": "code",
   "execution_count": 10,
   "metadata": {},
   "outputs": [
    {
     "data": {
      "text/plain": [
       "['counts', 'goofy', 'mickey']"
      ]
     },
     "execution_count": 10,
     "metadata": {},
     "output_type": "execute_result"
    }
   ],
   "source": [
    "ts_new.array_attrs()"
   ]
  },
  {
   "cell_type": "code",
   "execution_count": 11,
   "metadata": {},
   "outputs": [
    {
     "data": {
      "text/plain": [
       "['counts', 'goofy']"
      ]
     },
     "execution_count": 11,
     "metadata": {},
     "output_type": "execute_result"
    }
   ],
   "source": [
    "ts_new_small.array_attrs()"
   ]
  },
  {
   "cell_type": "markdown",
   "metadata": {},
   "source": [
    "Note the `counts` attribute, which is always created by the `to_binned_timeseries` method and gives the number of photons which concurred to creating each value of the time series."
   ]
  },
  {
   "cell_type": "markdown",
   "metadata": {},
   "source": [
    "The time bins can be seen with the `.time` attribute"
   ]
  },
  {
   "cell_type": "code",
   "execution_count": 12,
   "metadata": {
    "scrolled": false
   },
   "outputs": [
    {
     "data": {
      "text/plain": [
       "array([ 0.5,  1.5,  2.5,  3.5,  4.5,  5.5,  6.5,  7.5,  8.5,  9.5, 10.5,\n",
       "       11.5, 12.5, 13.5, 14.5, 15.5, 16.5, 17.5, 18.5, 19.5, 20.5, 21.5,\n",
       "       22.5, 23.5, 24.5, 25.5, 26.5, 27.5, 28.5, 29.5, 30.5, 31.5, 32.5,\n",
       "       33.5, 34.5, 35.5, 36.5, 37.5, 38.5, 39.5, 40.5, 41.5, 42.5, 43.5,\n",
       "       44.5, 45.5, 46.5, 47.5, 48.5, 49.5, 50.5, 51.5, 52.5, 53.5, 54.5,\n",
       "       55.5, 56.5, 57.5, 58.5, 59.5, 60.5, 61.5, 62.5, 63.5, 64.5, 65.5,\n",
       "       66.5, 67.5, 68.5, 69.5, 70.5, 71.5, 72.5, 73.5, 74.5, 75.5, 76.5,\n",
       "       77.5, 78.5, 79.5, 80.5, 81.5, 82.5, 83.5, 84.5, 85.5, 86.5, 87.5,\n",
       "       88.5, 89.5, 90.5, 91.5, 92.5, 93.5, 94.5, 95.5, 96.5, 97.5, 98.5,\n",
       "       99.5])"
      ]
     },
     "execution_count": 12,
     "metadata": {},
     "output_type": "execute_result"
    }
   ],
   "source": [
    "ts_new.time"
   ]
  },
  {
   "cell_type": "markdown",
   "metadata": {},
   "source": [
    "## Good Time Intervals\n",
    "\n",
    "`StingrayTimeseries` (and most other core `stingray` classes) support the use of *Good Time Intervals* (or GTIs), which denote the parts of an observation that are reliable for scientific purposes. Often, GTIs introduce gaps (e.g. where the instrument was off, or affected by solar flares). By default. GTIs are passed and don't apply to the data within a `StingrayTimeseries` object, but become relevant in a number of circumstances, such as when generating `Powerspectrum` objects. \n",
    "\n",
    "If no GTIs are given at instantiation of the `StingrayTimeseries` class, an artificial GTI will be created spanning the entire length of the data set being passed in, including half a sample time before and after:"
   ]
  },
  {
   "cell_type": "code",
   "execution_count": 13,
   "metadata": {},
   "outputs": [],
   "source": [
    "times = np.arange(1000)\n",
    "counts = np.random.poisson(100, size=len(times))\n",
    "\n",
    "ts = StingrayTimeseries(times, array_attrs={\"counts\":counts}, dt=1)"
   ]
  },
  {
   "cell_type": "code",
   "execution_count": 14,
   "metadata": {},
   "outputs": [
    {
     "data": {
      "text/plain": [
       "array([[-5.000e-01,  9.995e+02]])"
      ]
     },
     "execution_count": 14,
     "metadata": {},
     "output_type": "execute_result"
    }
   ],
   "source": [
    "ts.gti"
   ]
  },
  {
   "cell_type": "code",
   "execution_count": 15,
   "metadata": {},
   "outputs": [
    {
     "data": {
      "text/plain": [
       "array([107,  91,  83, 122, 103,  97, 102,  79,  97, 116, 105,  96,  98,\n",
       "        86, 122,  95,  89,  91, 116, 100, 113, 100, 103, 104,  86,  98,\n",
       "       116, 118, 103, 103, 107,  83, 102,  92, 107, 113, 105, 110,  84,\n",
       "        96, 109,  88, 105, 101,  86, 104,  83,  87,  81, 100,  83, 101,\n",
       "        83, 105, 111, 104, 101, 106, 102, 115,  94, 101, 100, 100, 111,\n",
       "       100,  83,  91,  92, 108,  93, 110, 103, 109,  91, 103, 106, 110,\n",
       "       106,  84,  95, 100,  93, 101, 114, 108,  98, 106,  83, 101,  93,\n",
       "       104,  90, 107,  96, 117,  97,  93,  86, 106,  81, 123,  99, 103,\n",
       "        90, 103,  94,  82, 108,  84, 103, 109,  98, 108, 102, 104, 103,\n",
       "        96,  88, 101,  90, 101,  96, 115, 108, 115,  88,  94,  87,  84,\n",
       "       100,  94,  97,  93,  96,  87, 103, 105,  79, 100,  93,  96, 111,\n",
       "        96,  86,  96, 115, 101, 106,  99,  93,  96, 102,  93, 118,  99,\n",
       "       107, 119, 110,  95,  88,  98,  90,  93,  90, 109, 109,  95, 104,\n",
       "        93, 104, 123,  92,  95,  97,  91, 103, 103,  94,  87,  87,  93,\n",
       "        90, 105,  99, 113,  96, 109,  90,  92, 103, 101, 107, 103, 104,\n",
       "       103, 106, 103, 101,  96,  94,  93, 120, 118,  98, 108,  94,  89,\n",
       "       107, 107,  89,  99,  99,  95, 105,  97,  94, 110, 106,  90,  89,\n",
       "        88,  98,  95, 103,  90,  93, 104, 104, 118,  98,  96, 102, 108,\n",
       "       114,  93,  99,  98, 107,  80, 100,  85, 111, 111, 101, 102, 100,\n",
       "        92, 100,  99,  81,  98, 105,  99, 104,  83,  99,  94,  86, 106,\n",
       "       102, 105, 105, 106, 108,  96, 104,  78, 112, 102,  92,  82, 100,\n",
       "       102, 102,  94,  85,  89,  87, 101, 108,  90,  92, 110, 106, 112,\n",
       "       109, 111, 115,  89, 104, 100, 105,  74,  95,  93,  98,  95,  99,\n",
       "       111, 112, 109, 102, 100,  84,  83, 106,  98, 101, 109,  88,  86,\n",
       "       101,  95, 113,  98,  95, 120,  99,  86, 101,  95,  97, 103, 107,\n",
       "       107, 103,  98, 105, 106,  94, 119,  94,  98,  96, 110,  95, 107,\n",
       "       109, 112,  90, 106,  99, 111,  99, 103, 121, 110, 103, 116, 105,\n",
       "        91, 106,  95,  74, 105, 107, 102, 113,  81, 100,  99,  74,  98,\n",
       "       106,  95, 115, 119,  86,  90, 104, 117, 101,  94,  83,  89,  88,\n",
       "        77,  98,  96, 102, 106,  93, 102, 108,  93,  90, 107,  91,  96,\n",
       "        96,  95,  92, 105,  97, 103,  90,  88,  91, 107,  78, 124, 106,\n",
       "       112, 107, 111,  92, 123, 108,  94, 111, 115,  92, 108, 111, 108,\n",
       "       110,  99, 109,  93,  97,  83, 104,  85, 106,  81, 109, 131, 100,\n",
       "        99, 102, 107,  87,  95, 103, 101, 113, 100,  81, 118,  80,  94,\n",
       "        96, 125, 110,  90,  99, 103,  86,  96,  81, 101, 100, 115, 117,\n",
       "       112, 102,  95, 102, 107, 116, 108, 106, 109, 113, 125, 100,  87,\n",
       "       105, 109, 103,  94, 113, 116,  91, 118,  94,  81,  97, 104, 104,\n",
       "        94, 111, 119,  86,  94, 103,  91,  89,  88, 104,  95, 110,  84,\n",
       "        72,  75,  98, 114, 117, 109,  84, 103,  96, 122, 116, 104, 104,\n",
       "        90, 103, 114,  86, 111, 109, 107,  82, 109, 124, 102, 114, 100,\n",
       "       108,  87,  94,  99,  97, 105,  87,  86,  94, 102, 113, 122, 107,\n",
       "       101, 110, 105, 106, 105,  84, 110,  96, 112,  91, 116,  95, 113,\n",
       "       111,  99,  91,  75,  96, 103,  96,  99,  87,  92, 104,  86, 118,\n",
       "       110,  93, 112, 103, 109, 113,  94,  76,  87, 100,  95,  99, 100,\n",
       "        90, 116, 108,  99,  78,  81,  95, 103, 104, 102, 103, 103, 105,\n",
       "        91,  91, 101, 100,  98, 118, 103, 100, 107, 107, 101, 105,  97,\n",
       "       119, 120,  91,  90, 111, 102, 113,  93, 101, 101, 104, 117, 108,\n",
       "       104, 114, 101, 107,  94,  95,  85, 104,  96, 100,  98, 105,  93,\n",
       "       103,  98,  92, 110,  99,  84, 107, 112,  97, 111, 105,  90, 114,\n",
       "       106, 100, 103, 105, 112, 118, 111,  98, 104, 115,  85,  85, 116,\n",
       "        95,  83, 106,  92, 106,  91,  91,  90, 113, 119,  91,  98, 105,\n",
       "       134,  91,  88, 103,  91, 101,  95, 112, 100, 108, 103, 101,  95,\n",
       "        97,  89,  89, 103,  95,  69, 113, 112,  93,  96, 105,  81, 120,\n",
       "        99, 108, 110, 131,  94,  91, 104, 102, 104, 108, 109, 100, 114,\n",
       "        89,  97,  93,  91, 110, 101, 118, 115, 100, 109,  96, 100,  98,\n",
       "        94, 107,  94,  88,  98, 106, 104,  89,  96,  93,  97, 110,  95,\n",
       "        97,  87, 109, 107, 110, 108, 111, 107,  99,  93, 111, 101,  93,\n",
       "        91, 104, 105,  92, 103, 116, 104, 111, 107, 100, 110,  83,  97,\n",
       "       127,  92, 103, 105, 101,  94,  92, 111,  91, 102, 122,  92,  79,\n",
       "       114,  89, 107, 109,  99,  96,  96,  90,  91,  95, 102, 116, 105,\n",
       "        94,  96, 110,  95, 107, 106, 117,  97,  94,  95,  84, 110, 108,\n",
       "        84,  90, 113,  94, 106,  99, 113,  92, 106,  97,  99, 105, 117,\n",
       "       102, 105,  98, 108,  90, 104, 100,  97, 105, 108,  94,  94,  97,\n",
       "       104,  87,  89, 109,  96,  99, 103,  84,  74,  87,  96,  92,  96,\n",
       "       102,  90, 126,  96,  95, 106, 111,  81,  96, 111,  99,  84, 101,\n",
       "       109, 119,  92,  95,  93,  99, 118,  99,  95, 108,  89,  79, 107,\n",
       "       105,  89, 122,  97, 115,  95, 105,  91, 106, 106, 107,  96,  99,\n",
       "        98,  99, 109, 114,  97,  86, 104, 120, 107,  87,  96,  95, 102,\n",
       "        88, 109, 103,  98, 106,  99,  95, 100,  96, 106, 101, 104, 106,\n",
       "       106,  84,  98,  97,  89,  85,  94,  98, 105,  92, 106,  78, 119,\n",
       "       112,  93,  92, 111, 106,  97, 106, 111,  95,  98,  85,  88, 113,\n",
       "        77,  85,  93,  87,  80,  79,  91, 113, 110,  94,  92,  97,  96,\n",
       "       105, 102, 112,  86, 106, 115,  93, 111,  91,  88,  89,  90, 104,\n",
       "        97,  99, 113, 104,  92,  93, 103, 111,  86, 113, 104,  97, 129,\n",
       "       101,  95, 100, 100, 100, 113,  91, 100, 102,  96,  92, 103, 107,\n",
       "        83,  94,  98,  96,  97,  99, 101,  83, 104, 103, 117, 105, 104,\n",
       "       106, 100, 113, 123,  99,  98, 100,  91, 102,  91,  90,  85])"
      ]
     },
     "execution_count": 15,
     "metadata": {},
     "output_type": "execute_result"
    }
   ],
   "source": [
    "ts.counts"
   ]
  },
  {
   "cell_type": "code",
   "execution_count": 16,
   "metadata": {},
   "outputs": [
    {
     "name": "stdout",
     "output_type": "stream",
     "text": [
      "0\n",
      "999\n",
      "[[-5.000e-01  9.995e+02]]\n"
     ]
    }
   ],
   "source": [
    "print(times[0]) # first time stamp in the light curve\n",
    "print(times[-1]) # last time stamp in the light curve\n",
    "print(ts.gti) # the GTIs generated within Lightcurve"
   ]
  },
  {
   "cell_type": "raw",
   "metadata": {},
   "source": [
    "GTIs are defined as 2-dimensional array (or a list of 2-tuples):"
   ]
  },
  {
   "cell_type": "code",
   "execution_count": 17,
   "metadata": {},
   "outputs": [],
   "source": [
    "gti = [(0, 500), (600, 1000)]"
   ]
  },
  {
   "cell_type": "code",
   "execution_count": 18,
   "metadata": {},
   "outputs": [],
   "source": [
    "ts = StingrayTimeseries(times, array_attrs={\"counts\":counts}, gti=gti)"
   ]
  },
  {
   "cell_type": "code",
   "execution_count": 19,
   "metadata": {},
   "outputs": [
    {
     "name": "stdout",
     "output_type": "stream",
     "text": [
      "[[   0  500]\n",
      " [ 600 1000]]\n"
     ]
    }
   ],
   "source": [
    "print(ts.gti)"
   ]
  },
  {
   "cell_type": "markdown",
   "metadata": {},
   "source": [
    "We'll get back to these when we talk more about some of the methods that apply GTIs to the data.\n"
   ]
  },
  {
   "cell_type": "markdown",
   "metadata": {},
   "source": [
    "## Combining StingrayTimeseries objects"
   ]
  },
  {
   "cell_type": "markdown",
   "metadata": {},
   "source": [
    "A `StingrayTimeseries` object can be combined with others in various ways. The best way is using the `join` operation, that combines the data according to the strategy defined by the user.\n",
    "\n",
    "The default strategy is `infer`. Similar to what can be seen in `EventLists`, it decides what to do depending on the fact that GTIs have overlaps or not. If there are overlaps, GTIs are intersected. Otherwise, they are appended and merged. But one can select between:\n",
    "\n",
    "+ \"intersection\", the GTIs are merged using the intersection of the GTIs. \n",
    "+ \"union\", the GTIs are merged using the union of the GTIs. \n",
    "+ \"append\", the GTIs are simply appended but *they must be mutually exclusive* (have no overlaps).\n",
    "+ \"none\", a single GTI with the minimum and the maximum time stamps of all GTIs is returned. \n",
    "\n",
    "The data are always all merged. No filtering is applied for the new GTIs. But the user can always use the `apply_gtis` method to filter them out later."
   ]
  },
  {
   "cell_type": "code",
   "execution_count": 20,
   "metadata": {},
   "outputs": [
    {
     "name": "stdout",
     "output_type": "stream",
     "text": [
      "New gti: [[0.5 3.5]\n",
      " [4.5 7.5]]\n",
      "New time: [1.  1.1 2.  2.1 3.  4.  5.  6.5]\n",
      "New blah: [1 2 1 2 1 2 2 2]\n"
     ]
    }
   ],
   "source": [
    "ts = StingrayTimeseries(\n",
    "    time=[1, 2, 3], \n",
    "    gti=[[0.5, 3.5]], \n",
    "    array_attrs={\"blah\": [1, 1, 1]},\n",
    ")\n",
    "ts_other = StingrayTimeseries(\n",
    "    time=[1.1, 2.1, 4, 5, 6.5], \n",
    "    array_attrs={\"blah\": [2, 2, 2, 2, 2]}, \n",
    "    gti=[[1.5, 2.5], [4.5, 7.5]],\n",
    ")\n",
    "\n",
    "ts_new = ts.join(ts_other, strategy=\"union\")\n",
    "\n",
    "for attr in [\"gti\", \"time\", \"blah\"]:\n",
    "    print(f\"New {attr}:\", getattr(ts_new, attr))\n"
   ]
  },
  {
   "cell_type": "code",
   "execution_count": 21,
   "metadata": {},
   "outputs": [
    {
     "name": "stdout",
     "output_type": "stream",
     "text": [
      "New gti: [[0.5 3.5]]\n",
      "New time: [1.  1.1 2.  2.1 3.  4.  5.  6.5]\n",
      "New blah: [1 2 1 2 1 2 2 2]\n"
     ]
    }
   ],
   "source": [
    "ts_new = ts.join(ts_other, strategy=\"intersect\")\n",
    "\n",
    "for attr in [\"gti\", \"time\", \"blah\"]:\n",
    "    print(f\"New {attr}:\", getattr(ts_new, attr))\n"
   ]
  },
  {
   "cell_type": "code",
   "execution_count": 22,
   "metadata": {},
   "outputs": [
    {
     "name": "stdout",
     "output_type": "stream",
     "text": [
      "New gti: [[1.  6.5]]\n",
      "New time: [1.  1.1 2.  2.1 3.  4.  5.  6.5]\n",
      "New blah: [1 2 1 2 1 2 2 2]\n"
     ]
    }
   ],
   "source": [
    "ts_new = ts.join(ts_other, strategy=\"none\")\n",
    "\n",
    "for attr in [\"gti\", \"time\", \"blah\"]:\n",
    "    print(f\"New {attr}:\", getattr(ts_new, attr))\n"
   ]
  },
  {
   "cell_type": "markdown",
   "metadata": {},
   "source": [
    "In this case, `append` will fail, because the GTIs intersect."
   ]
  },
  {
   "cell_type": "code",
   "execution_count": 23,
   "metadata": {
    "tags": [
     "raises-exception"
    ]
   },
   "outputs": [
    {
     "ename": "ValueError",
     "evalue": "In order to append, GTIs must be mutually exclusive.",
     "output_type": "error",
     "traceback": [
      "\u001b[0;31m---------------------------------------------------------------------------\u001b[0m",
      "\u001b[0;31mValueError\u001b[0m                                Traceback (most recent call last)",
      "Cell \u001b[0;32mIn[23], line 1\u001b[0m\n\u001b[0;32m----> 1\u001b[0m ts_new \u001b[38;5;241m=\u001b[39m \u001b[43mts\u001b[49m\u001b[38;5;241;43m.\u001b[39;49m\u001b[43mjoin\u001b[49m\u001b[43m(\u001b[49m\u001b[43mts_other\u001b[49m\u001b[43m,\u001b[49m\u001b[43m \u001b[49m\u001b[43mstrategy\u001b[49m\u001b[38;5;241;43m=\u001b[39;49m\u001b[38;5;124;43m\"\u001b[39;49m\u001b[38;5;124;43mappend\u001b[39;49m\u001b[38;5;124;43m\"\u001b[39;49m\u001b[43m)\u001b[49m\n",
      "File \u001b[0;32m~/.local/lib/python3.12/site-packages/stingray/base.py:2080\u001b[0m, in \u001b[0;36mStingrayTimeseries.join\u001b[0;34m(self, *args, **kwargs)\u001b[0m\n\u001b[1;32m   2036\u001b[0m \u001b[38;5;28;01mdef\u001b[39;00m\u001b[38;5;250m \u001b[39m\u001b[38;5;21mjoin\u001b[39m(\u001b[38;5;28mself\u001b[39m, \u001b[38;5;241m*\u001b[39margs, \u001b[38;5;241m*\u001b[39m\u001b[38;5;241m*\u001b[39mkwargs):\n\u001b[1;32m   2037\u001b[0m \u001b[38;5;250m    \u001b[39m\u001b[38;5;124;03m\"\"\"\u001b[39;00m\n\u001b[1;32m   2038\u001b[0m \u001b[38;5;124;03m    Join other :class:`StingrayTimeseries` objects with the current one.\u001b[39;00m\n\u001b[1;32m   2039\u001b[0m \n\u001b[0;32m   (...)\u001b[0m\n\u001b[1;32m   2078\u001b[0m \u001b[38;5;124;03m        The resulting :class:`StingrayTimeseries` object.\u001b[39;00m\n\u001b[1;32m   2079\u001b[0m \u001b[38;5;124;03m    \"\"\"\u001b[39;00m\n\u001b[0;32m-> 2080\u001b[0m     \u001b[38;5;28;01mreturn\u001b[39;00m \u001b[38;5;28;43mself\u001b[39;49m\u001b[38;5;241;43m.\u001b[39;49m\u001b[43m_join_timeseries\u001b[49m\u001b[43m(\u001b[49m\u001b[38;5;241;43m*\u001b[39;49m\u001b[43margs\u001b[49m\u001b[43m,\u001b[49m\u001b[43m \u001b[49m\u001b[38;5;241;43m*\u001b[39;49m\u001b[38;5;241;43m*\u001b[39;49m\u001b[43mkwargs\u001b[49m\u001b[43m)\u001b[49m\n",
      "File \u001b[0;32m~/.local/lib/python3.12/site-packages/stingray/base.py:1949\u001b[0m, in \u001b[0;36mStingrayTimeseries._join_timeseries\u001b[0;34m(self, others, strategy, ignore_meta)\u001b[0m\n\u001b[1;32m   1946\u001b[0m     new_gti \u001b[38;5;241m=\u001b[39m \u001b[38;5;28;01mNone\u001b[39;00m\n\u001b[1;32m   1947\u001b[0m \u001b[38;5;28;01melse\u001b[39;00m:\n\u001b[1;32m   1948\u001b[0m     \u001b[38;5;66;03m# For this, initialize the GTIs\u001b[39;00m\n\u001b[0;32m-> 1949\u001b[0m     new_gti \u001b[38;5;241m=\u001b[39m \u001b[43mmerge_gtis\u001b[49m\u001b[43m(\u001b[49m\u001b[43m[\u001b[49m\u001b[43mobj\u001b[49m\u001b[38;5;241;43m.\u001b[39;49m\u001b[43mgti\u001b[49m\u001b[43m \u001b[49m\u001b[38;5;28;43;01mfor\u001b[39;49;00m\u001b[43m \u001b[49m\u001b[43mobj\u001b[49m\u001b[43m \u001b[49m\u001b[38;5;129;43;01min\u001b[39;49;00m\u001b[43m \u001b[49m\u001b[43mall_objs\u001b[49m\u001b[43m]\u001b[49m\u001b[43m,\u001b[49m\u001b[43m \u001b[49m\u001b[43mstrategy\u001b[49m\u001b[38;5;241;43m=\u001b[39;49m\u001b[43mstrategy\u001b[49m\u001b[43m)\u001b[49m\n\u001b[1;32m   1951\u001b[0m all_time_arrays \u001b[38;5;241m=\u001b[39m [obj\u001b[38;5;241m.\u001b[39mtime \u001b[38;5;28;01mfor\u001b[39;00m obj \u001b[38;5;129;01min\u001b[39;00m all_objs \u001b[38;5;28;01mif\u001b[39;00m obj\u001b[38;5;241m.\u001b[39mtime \u001b[38;5;129;01mis\u001b[39;00m \u001b[38;5;129;01mnot\u001b[39;00m \u001b[38;5;28;01mNone\u001b[39;00m]\n\u001b[1;32m   1953\u001b[0m new_ts\u001b[38;5;241m.\u001b[39mtime \u001b[38;5;241m=\u001b[39m np\u001b[38;5;241m.\u001b[39mconcatenate(all_time_arrays)\n",
      "File \u001b[0;32m~/.local/lib/python3.12/site-packages/stingray/gti.py:1035\u001b[0m, in \u001b[0;36mmerge_gtis\u001b[0;34m(gti_list, strategy)\u001b[0m\n\u001b[1;32m   1033\u001b[0m         gti0 \u001b[38;5;241m=\u001b[39m join_gtis(gti0, gti)\n\u001b[1;32m   1034\u001b[0m     \u001b[38;5;28;01melif\u001b[39;00m strategy \u001b[38;5;241m==\u001b[39m \u001b[38;5;124m\"\u001b[39m\u001b[38;5;124mappend\u001b[39m\u001b[38;5;124m\"\u001b[39m:\n\u001b[0;32m-> 1035\u001b[0m         gti0 \u001b[38;5;241m=\u001b[39m \u001b[43mappend_gtis\u001b[49m\u001b[43m(\u001b[49m\u001b[43mgti0\u001b[49m\u001b[43m,\u001b[49m\u001b[43m \u001b[49m\u001b[43mgti\u001b[49m\u001b[43m)\u001b[49m\n\u001b[1;32m   1036\u001b[0m \u001b[38;5;28;01mreturn\u001b[39;00m gti0\n",
      "File \u001b[0;32m~/.local/lib/python3.12/site-packages/stingray/gti.py:1076\u001b[0m, in \u001b[0;36mappend_gtis\u001b[0;34m(gti0, gti1)\u001b[0m\n\u001b[1;32m   1074\u001b[0m \u001b[38;5;66;03m# Check if GTIs are mutually exclusive.\u001b[39;00m\n\u001b[1;32m   1075\u001b[0m \u001b[38;5;28;01mif\u001b[39;00m \u001b[38;5;129;01mnot\u001b[39;00m check_separate(gti0, gti1):\n\u001b[0;32m-> 1076\u001b[0m     \u001b[38;5;28;01mraise\u001b[39;00m \u001b[38;5;167;01mValueError\u001b[39;00m(\u001b[38;5;124m\"\u001b[39m\u001b[38;5;124mIn order to append, GTIs must be mutually exclusive.\u001b[39m\u001b[38;5;124m\"\u001b[39m)\n\u001b[1;32m   1078\u001b[0m new_gtis \u001b[38;5;241m=\u001b[39m np\u001b[38;5;241m.\u001b[39mconcatenate([gti0, gti1])\n\u001b[1;32m   1079\u001b[0m order \u001b[38;5;241m=\u001b[39m np\u001b[38;5;241m.\u001b[39margsort(new_gtis[:, \u001b[38;5;241m0\u001b[39m])\n",
      "\u001b[0;31mValueError\u001b[0m: In order to append, GTIs must be mutually exclusive."
     ]
    }
   ],
   "source": [
    "ts_new = ts.join(ts_other, strategy=\"append\")\n"
   ]
  },
  {
   "cell_type": "markdown",
   "metadata": {},
   "source": [
    "Empty `StingrayTimeseries` will throw warnings but try to be accommodating"
   ]
  },
  {
   "cell_type": "code",
   "execution_count": 24,
   "metadata": {},
   "outputs": [
    {
     "data": {
      "text/plain": [
       "True"
      ]
     },
     "execution_count": 24,
     "metadata": {},
     "output_type": "execute_result"
    }
   ],
   "source": [
    "StingrayTimeseries().join(StingrayTimeseries()).time is None"
   ]
  },
  {
   "cell_type": "code",
   "execution_count": 25,
   "metadata": {},
   "outputs": [
    {
     "data": {
      "text/plain": [
       "array([1, 2, 3])"
      ]
     },
     "execution_count": 25,
     "metadata": {},
     "output_type": "execute_result"
    }
   ],
   "source": [
    "ts = StingrayTimeseries(time=[1, 2, 3])\n",
    "ts_other = StingrayTimeseries()\n",
    "ts_new = ts.join(ts_other)\n",
    "ts_new.time\n"
   ]
  },
  {
   "cell_type": "markdown",
   "metadata": {},
   "source": [
    "When the data being merged have a different time resolution (e.g. unevenly sampled data, events from instruments with different frame times), the time resolution becomes an array attribute:"
   ]
  },
  {
   "cell_type": "code",
   "execution_count": 26,
   "metadata": {},
   "outputs": [
    {
     "data": {
      "text/plain": [
       "array([1, 1, 1, 3, 3, 3])"
      ]
     },
     "execution_count": 26,
     "metadata": {},
     "output_type": "execute_result"
    }
   ],
   "source": [
    "ts = StingrayTimeseries(time=[10, 20, 30], dt=1)\n",
    "ts_other = StingrayTimeseries(time=[40, 50, 60], dt=3)\n",
    "ts_new = ts.join(ts_other, strategy=\"union\")\n",
    "\n",
    "ts_new.dt\n"
   ]
  },
  {
   "cell_type": "markdown",
   "metadata": {},
   "source": [
    "In all other cases, meta attributes are simply transformed into a comma-separated list (if strings) or tuples"
   ]
  },
  {
   "cell_type": "code",
   "execution_count": 27,
   "metadata": {},
   "outputs": [
    {
     "data": {
      "text/plain": [
       "((1, 3), 'a,b')"
      ]
     },
     "execution_count": 27,
     "metadata": {},
     "output_type": "execute_result"
    }
   ],
   "source": [
    "ts = StingrayTimeseries(time=[10, 20, 30], a=1, b=\"a\")\n",
    "ts_other = StingrayTimeseries(time=[40, 50, 60], a=3, b=\"b\")\n",
    "ts_new = ts.join(ts_other, strategy=\"union\")\n",
    "\n",
    "ts_new.a, ts_new.b"
   ]
  },
  {
   "cell_type": "markdown",
   "metadata": {},
   "source": [
    "Array attributes that are only in one series will receive `nan` values in the data corresponding to the other series"
   ]
  },
  {
   "cell_type": "code",
   "execution_count": 28,
   "metadata": {},
   "outputs": [
    {
     "data": {
      "text/plain": [
       "array([ 3.,  3.,  3., nan, nan])"
      ]
     },
     "execution_count": 28,
     "metadata": {},
     "output_type": "execute_result"
    }
   ],
   "source": [
    "ts = StingrayTimeseries(time=[1, 2, 3], blah=[3, 3, 3])\n",
    "ts_other = StingrayTimeseries(time=[4, 5])\n",
    "ts_new = ts.join(ts_other, strategy=\"union\")\n",
    "\n",
    "ts_new.blah\n"
   ]
  },
  {
   "cell_type": "markdown",
   "metadata": {},
   "source": [
    "When using `strategy=\"infer\"`, the intersection or the union will be used depending on the fact that GTI overlap or not"
   ]
  },
  {
   "cell_type": "code",
   "execution_count": 29,
   "metadata": {},
   "outputs": [
    {
     "data": {
      "text/plain": [
       "(array([ 3.,  3.,  3., nan, nan]), array([3, 3, 4, 4, 3]))"
      ]
     },
     "execution_count": 29,
     "metadata": {},
     "output_type": "execute_result"
    }
   ],
   "source": [
    "ts = StingrayTimeseries(time=[1, 2, 3], blah=[3, 3, 3], gti=[[0.5, 3.5]])\n",
    "ts1 = StingrayTimeseries(time=[5, 6], gti=[[4.5, 6.5]])\n",
    "ts2 = StingrayTimeseries(time=[2.1, 2.9], blah=[4, 4], gti=[[1.5, 3.5]])\n",
    "ts_new_1 = ts.join(ts1, strategy=\"infer\")\n",
    "ts_new_2 = ts.join(ts2, strategy=\"infer\")\n",
    "\n",
    "ts_new_1.blah, ts_new_2.blah\n"
   ]
  },
  {
   "cell_type": "markdown",
   "metadata": {},
   "source": [
    "## Operations"
   ]
  },
  {
   "cell_type": "markdown",
   "metadata": {},
   "source": [
    "### Addition/Subtraction"
   ]
  },
  {
   "cell_type": "markdown",
   "metadata": {},
   "source": [
    "Two time series can be summed up or subtracted from each other **if they have same time arrays.**"
   ]
  },
  {
   "cell_type": "code",
   "execution_count": 30,
   "metadata": {},
   "outputs": [],
   "source": [
    "ts = StingrayTimeseries(times, array_attrs={\"blabla\":counts}, dt=1, skip_checks=True)\n",
    "ts_rand = StingrayTimeseries(times, array_attrs={\"blabla\": [600]*1000}, dt=1, skip_checks=True)"
   ]
  },
  {
   "cell_type": "code",
   "execution_count": 31,
   "metadata": {},
   "outputs": [],
   "source": [
    "ts_sum = ts + ts_rand"
   ]
  },
  {
   "cell_type": "code",
   "execution_count": 32,
   "metadata": {},
   "outputs": [
    {
     "name": "stdout",
     "output_type": "stream",
     "text": [
      "Counts in light curve 1: [107  91  83 122 103]\n",
      "Counts in light curve 2: [600 600 600 600 600]\n",
      "Counts in summed light curve: [707 691 683 722 703]\n"
     ]
    }
   ],
   "source": [
    "print(\"Counts in light curve 1: \" + str(ts.blabla[:5]))\n",
    "print(\"Counts in light curve 2: \" + str(ts_rand.blabla[:5]))\n",
    "print(\"Counts in summed light curve: \" + str(ts_sum.blabla[:5]))"
   ]
  },
  {
   "cell_type": "markdown",
   "metadata": {},
   "source": [
    "### Negation"
   ]
  },
  {
   "cell_type": "markdown",
   "metadata": {},
   "source": [
    "A negation operation on the time series object inverts the count array from positive to negative values."
   ]
  },
  {
   "cell_type": "code",
   "execution_count": 33,
   "metadata": {},
   "outputs": [],
   "source": [
    "ts_neg = -ts"
   ]
  },
  {
   "cell_type": "code",
   "execution_count": 34,
   "metadata": {},
   "outputs": [],
   "source": [
    "ts_sum = ts + ts_neg"
   ]
  },
  {
   "cell_type": "code",
   "execution_count": 35,
   "metadata": {},
   "outputs": [
    {
     "data": {
      "text/plain": [
       "True"
      ]
     },
     "execution_count": 35,
     "metadata": {},
     "output_type": "execute_result"
    }
   ],
   "source": [
    "np.all(ts_sum.blabla == 0)  # All the points on ts and ts_neg cancel each other"
   ]
  },
  {
   "cell_type": "markdown",
   "metadata": {},
   "source": [
    "### Indexing"
   ]
  },
  {
   "cell_type": "markdown",
   "metadata": {},
   "source": [
    "Count value at a particular time can be obtained using indexing."
   ]
  },
  {
   "cell_type": "code",
   "execution_count": 36,
   "metadata": {},
   "outputs": [
    {
     "data": {
      "text/plain": [
       "<stingray.base.StingrayTimeseries at 0x7b3f76df02c0>"
      ]
     },
     "execution_count": 36,
     "metadata": {},
     "output_type": "execute_result"
    }
   ],
   "source": [
    "ts[120]"
   ]
  },
  {
   "cell_type": "code",
   "execution_count": 37,
   "metadata": {},
   "outputs": [
    {
     "data": {
      "text/plain": [
       "(array([120]), array([90]), 120, 90)"
      ]
     },
     "execution_count": 37,
     "metadata": {},
     "output_type": "execute_result"
    }
   ],
   "source": [
    "ts[120].time, ts[120].blabla, ts.time[120], ts.blabla[120]"
   ]
  },
  {
   "cell_type": "markdown",
   "metadata": {},
   "source": [
    "A Lightcurve can also be sliced to generate a new object."
   ]
  },
  {
   "cell_type": "code",
   "execution_count": 38,
   "metadata": {},
   "outputs": [],
   "source": [
    "ts_sliced = ts[100:200]"
   ]
  },
  {
   "cell_type": "code",
   "execution_count": 39,
   "metadata": {},
   "outputs": [
    {
     "data": {
      "text/plain": [
       "100"
      ]
     },
     "execution_count": 39,
     "metadata": {},
     "output_type": "execute_result"
    }
   ],
   "source": [
    "len(ts_sliced.blabla)"
   ]
  },
  {
   "cell_type": "markdown",
   "metadata": {},
   "source": [
    "## Other useful Methods"
   ]
  },
  {
   "cell_type": "markdown",
   "metadata": {},
   "source": [
    "Two time series can be combined into a single object using the `concatenate` method. Note that both of them must not have overlapping time arrays."
   ]
  },
  {
   "cell_type": "code",
   "execution_count": 40,
   "metadata": {},
   "outputs": [],
   "source": [
    "ts_1 = ts\n",
    "ts_2 = StingrayTimeseries(np.arange(1000, 2000), array_attrs={\"blabla\": np.random.rand(1000)*1000}, dt=1, skip_checks=True)\n",
    "ts_long = ts_1.concatenate(ts_2)"
   ]
  },
  {
   "cell_type": "markdown",
   "metadata": {},
   "source": [
    "The method will fail if the time series have overlaps:"
   ]
  },
  {
   "cell_type": "code",
   "execution_count": 41,
   "metadata": {
    "tags": [
     "raises-exception"
    ]
   },
   "outputs": [
    {
     "ename": "ValueError",
     "evalue": "In order to append, GTIs must be mutually exclusive.",
     "output_type": "error",
     "traceback": [
      "\u001b[0;31m---------------------------------------------------------------------------\u001b[0m",
      "\u001b[0;31mValueError\u001b[0m                                Traceback (most recent call last)",
      "Cell \u001b[0;32mIn[41], line 1\u001b[0m\n\u001b[0;32m----> 1\u001b[0m \u001b[43mts_1\u001b[49m\u001b[38;5;241;43m.\u001b[39;49m\u001b[43mconcatenate\u001b[49m\u001b[43m(\u001b[49m\u001b[43mStingrayTimeseries\u001b[49m\u001b[43m(\u001b[49m\u001b[43mnp\u001b[49m\u001b[38;5;241;43m.\u001b[39;49m\u001b[43marange\u001b[49m\u001b[43m(\u001b[49m\u001b[38;5;241;43m800\u001b[39;49m\u001b[43m,\u001b[49m\u001b[43m \u001b[49m\u001b[38;5;241;43m1000\u001b[39;49m\u001b[43m)\u001b[49m\u001b[43m,\u001b[49m\u001b[43m \u001b[49m\u001b[43mgti\u001b[49m\u001b[38;5;241;43m=\u001b[39;49m\u001b[43m[\u001b[49m\u001b[43m[\u001b[49m\u001b[38;5;241;43m800\u001b[39;49m\u001b[43m,\u001b[49m\u001b[43m \u001b[49m\u001b[38;5;241;43m1000\u001b[39;49m\u001b[43m]\u001b[49m\u001b[43m]\u001b[49m\u001b[43m)\u001b[49m\u001b[43m)\u001b[49m\n",
      "File \u001b[0;32m~/.local/lib/python3.12/site-packages/stingray/base.py:1866\u001b[0m, in \u001b[0;36mStingrayTimeseries.concatenate\u001b[0;34m(self, other, check_gti)\u001b[0m\n\u001b[1;32m   1864\u001b[0m \u001b[38;5;28;01melse\u001b[39;00m:\n\u001b[1;32m   1865\u001b[0m     treatment \u001b[38;5;241m=\u001b[39m \u001b[38;5;124m\"\u001b[39m\u001b[38;5;124mnone\u001b[39m\u001b[38;5;124m\"\u001b[39m\n\u001b[0;32m-> 1866\u001b[0m new_ts \u001b[38;5;241m=\u001b[39m \u001b[38;5;28;43mself\u001b[39;49m\u001b[38;5;241;43m.\u001b[39;49m\u001b[43m_join_timeseries\u001b[49m\u001b[43m(\u001b[49m\u001b[43mother\u001b[49m\u001b[43m,\u001b[49m\u001b[43m \u001b[49m\u001b[43mstrategy\u001b[49m\u001b[38;5;241;43m=\u001b[39;49m\u001b[43mtreatment\u001b[49m\u001b[43m)\u001b[49m\n\u001b[1;32m   1867\u001b[0m \u001b[38;5;28;01mreturn\u001b[39;00m new_ts\n",
      "File \u001b[0;32m~/.local/lib/python3.12/site-packages/stingray/base.py:1949\u001b[0m, in \u001b[0;36mStingrayTimeseries._join_timeseries\u001b[0;34m(self, others, strategy, ignore_meta)\u001b[0m\n\u001b[1;32m   1946\u001b[0m     new_gti \u001b[38;5;241m=\u001b[39m \u001b[38;5;28;01mNone\u001b[39;00m\n\u001b[1;32m   1947\u001b[0m \u001b[38;5;28;01melse\u001b[39;00m:\n\u001b[1;32m   1948\u001b[0m     \u001b[38;5;66;03m# For this, initialize the GTIs\u001b[39;00m\n\u001b[0;32m-> 1949\u001b[0m     new_gti \u001b[38;5;241m=\u001b[39m \u001b[43mmerge_gtis\u001b[49m\u001b[43m(\u001b[49m\u001b[43m[\u001b[49m\u001b[43mobj\u001b[49m\u001b[38;5;241;43m.\u001b[39;49m\u001b[43mgti\u001b[49m\u001b[43m \u001b[49m\u001b[38;5;28;43;01mfor\u001b[39;49;00m\u001b[43m \u001b[49m\u001b[43mobj\u001b[49m\u001b[43m \u001b[49m\u001b[38;5;129;43;01min\u001b[39;49;00m\u001b[43m \u001b[49m\u001b[43mall_objs\u001b[49m\u001b[43m]\u001b[49m\u001b[43m,\u001b[49m\u001b[43m \u001b[49m\u001b[43mstrategy\u001b[49m\u001b[38;5;241;43m=\u001b[39;49m\u001b[43mstrategy\u001b[49m\u001b[43m)\u001b[49m\n\u001b[1;32m   1951\u001b[0m all_time_arrays \u001b[38;5;241m=\u001b[39m [obj\u001b[38;5;241m.\u001b[39mtime \u001b[38;5;28;01mfor\u001b[39;00m obj \u001b[38;5;129;01min\u001b[39;00m all_objs \u001b[38;5;28;01mif\u001b[39;00m obj\u001b[38;5;241m.\u001b[39mtime \u001b[38;5;129;01mis\u001b[39;00m \u001b[38;5;129;01mnot\u001b[39;00m \u001b[38;5;28;01mNone\u001b[39;00m]\n\u001b[1;32m   1953\u001b[0m new_ts\u001b[38;5;241m.\u001b[39mtime \u001b[38;5;241m=\u001b[39m np\u001b[38;5;241m.\u001b[39mconcatenate(all_time_arrays)\n",
      "File \u001b[0;32m~/.local/lib/python3.12/site-packages/stingray/gti.py:1035\u001b[0m, in \u001b[0;36mmerge_gtis\u001b[0;34m(gti_list, strategy)\u001b[0m\n\u001b[1;32m   1033\u001b[0m         gti0 \u001b[38;5;241m=\u001b[39m join_gtis(gti0, gti)\n\u001b[1;32m   1034\u001b[0m     \u001b[38;5;28;01melif\u001b[39;00m strategy \u001b[38;5;241m==\u001b[39m \u001b[38;5;124m\"\u001b[39m\u001b[38;5;124mappend\u001b[39m\u001b[38;5;124m\"\u001b[39m:\n\u001b[0;32m-> 1035\u001b[0m         gti0 \u001b[38;5;241m=\u001b[39m \u001b[43mappend_gtis\u001b[49m\u001b[43m(\u001b[49m\u001b[43mgti0\u001b[49m\u001b[43m,\u001b[49m\u001b[43m \u001b[49m\u001b[43mgti\u001b[49m\u001b[43m)\u001b[49m\n\u001b[1;32m   1036\u001b[0m \u001b[38;5;28;01mreturn\u001b[39;00m gti0\n",
      "File \u001b[0;32m~/.local/lib/python3.12/site-packages/stingray/gti.py:1076\u001b[0m, in \u001b[0;36mappend_gtis\u001b[0;34m(gti0, gti1)\u001b[0m\n\u001b[1;32m   1074\u001b[0m \u001b[38;5;66;03m# Check if GTIs are mutually exclusive.\u001b[39;00m\n\u001b[1;32m   1075\u001b[0m \u001b[38;5;28;01mif\u001b[39;00m \u001b[38;5;129;01mnot\u001b[39;00m check_separate(gti0, gti1):\n\u001b[0;32m-> 1076\u001b[0m     \u001b[38;5;28;01mraise\u001b[39;00m \u001b[38;5;167;01mValueError\u001b[39;00m(\u001b[38;5;124m\"\u001b[39m\u001b[38;5;124mIn order to append, GTIs must be mutually exclusive.\u001b[39m\u001b[38;5;124m\"\u001b[39m)\n\u001b[1;32m   1078\u001b[0m new_gtis \u001b[38;5;241m=\u001b[39m np\u001b[38;5;241m.\u001b[39mconcatenate([gti0, gti1])\n\u001b[1;32m   1079\u001b[0m order \u001b[38;5;241m=\u001b[39m np\u001b[38;5;241m.\u001b[39margsort(new_gtis[:, \u001b[38;5;241m0\u001b[39m])\n",
      "\u001b[0;31mValueError\u001b[0m: In order to append, GTIs must be mutually exclusive."
     ]
    }
   ],
   "source": [
    "ts_1.concatenate(StingrayTimeseries(np.arange(800, 1000), gti=[[800, 1000]]))"
   ]
  },
  {
   "cell_type": "markdown",
   "metadata": {},
   "source": [
    "### Truncation"
   ]
  },
  {
   "cell_type": "markdown",
   "metadata": {},
   "source": [
    "A light curve can also be truncated."
   ]
  },
  {
   "cell_type": "code",
   "execution_count": 42,
   "metadata": {},
   "outputs": [],
   "source": [
    "ts_cut = ts_long.truncate(start=0, stop=1000)"
   ]
  },
  {
   "cell_type": "code",
   "execution_count": 43,
   "metadata": {},
   "outputs": [
    {
     "data": {
      "text/plain": [
       "1000"
      ]
     },
     "execution_count": 43,
     "metadata": {},
     "output_type": "execute_result"
    }
   ],
   "source": [
    "len(ts_cut)"
   ]
  },
  {
   "cell_type": "markdown",
   "metadata": {},
   "source": [
    "**Note** : By default, the `start` and `stop` parameters are assumed to be given as **indices** of the time array. However, the `start` and `stop` values can also be given as time values in the same value as the time array."
   ]
  },
  {
   "cell_type": "code",
   "execution_count": 44,
   "metadata": {},
   "outputs": [],
   "source": [
    "ts_cut = ts_long.truncate(start=500, stop=1500, method='time')"
   ]
  },
  {
   "cell_type": "code",
   "execution_count": 45,
   "metadata": {},
   "outputs": [
    {
     "data": {
      "text/plain": [
       "(500, 1499)"
      ]
     },
     "execution_count": 45,
     "metadata": {},
     "output_type": "execute_result"
    }
   ],
   "source": [
    "ts_cut.time[0], ts_cut.time[-1]"
   ]
  },
  {
   "cell_type": "markdown",
   "metadata": {},
   "source": [
    "### Re-binning"
   ]
  },
  {
   "cell_type": "markdown",
   "metadata": {},
   "source": [
    "The time resolution (`dt`) can also be changed to a larger value.\n",
    "\n",
    "**Note** : While the new resolution need not be an integer multiple of the previous time resolution, be aware that if it is not, the last bin will be cut off by the fraction left over by the integer division."
   ]
  },
  {
   "cell_type": "code",
   "execution_count": 46,
   "metadata": {},
   "outputs": [],
   "source": [
    "ts_rebinned = ts_long.rebin(2)"
   ]
  },
  {
   "cell_type": "code",
   "execution_count": 47,
   "metadata": {},
   "outputs": [
    {
     "name": "stdout",
     "output_type": "stream",
     "text": [
      "Old time resolution = 1\n",
      "Number of data points = 2000\n",
      "New time resolution = 2\n",
      "Number of data points = 1000\n"
     ]
    }
   ],
   "source": [
    "print(\"Old time resolution = \" + str(ts_long.dt))\n",
    "print(\"Number of data points = \" + str(ts_long.n))\n",
    "print(\"New time resolution = \" + str(ts_rebinned.dt))\n",
    "print(\"Number of data points = \" + str(ts_rebinned.n))"
   ]
  },
  {
   "cell_type": "markdown",
   "metadata": {},
   "source": [
    "### Sorting"
   ]
  },
  {
   "cell_type": "markdown",
   "metadata": {},
   "source": [
    "A time series can be sorted using the `sort` method. This function sorts `time` array and the `counts` array is changed accordingly."
   ]
  },
  {
   "cell_type": "code",
   "execution_count": 48,
   "metadata": {},
   "outputs": [],
   "source": [
    "new_ts = StingrayTimeseries(time=[2, 1, 3], array_attrs={\"blabla\": [200, 100, 300]}, dt=1)"
   ]
  },
  {
   "cell_type": "code",
   "execution_count": 49,
   "metadata": {},
   "outputs": [],
   "source": [
    "new_ts_sort = new_ts.sort(reverse=True)"
   ]
  },
  {
   "cell_type": "code",
   "execution_count": 50,
   "metadata": {},
   "outputs": [
    {
     "data": {
      "text/plain": [
       "(array([3, 2, 1]), array([300, 200, 100]))"
      ]
     },
     "execution_count": 50,
     "metadata": {},
     "output_type": "execute_result"
    }
   ],
   "source": [
    "new_ts_sort.time, new_ts_sort.blabla"
   ]
  },
  {
   "cell_type": "markdown",
   "metadata": {},
   "source": [
    "### Plotting"
   ]
  },
  {
   "cell_type": "markdown",
   "metadata": {},
   "source": [
    "A curve can be plotted with the `plot` method. Time intervals outside GTIs will be plotted as vertical red bands. "
   ]
  },
  {
   "cell_type": "code",
   "execution_count": 53,
   "metadata": {
    "scrolled": false
   },
   "outputs": [
    {
     "data": {
      "text/plain": [
       "<Axes: xlabel='Time (s)', ylabel='blabla'>"
      ]
     },
     "execution_count": 53,
     "metadata": {},
     "output_type": "execute_result"
    },
    {
     "data": {
      "image/png": "[encoded data removed]",
      "text/plain": [
       "<Figure size 640x480 with 1 Axes>"
      ]
     },
     "metadata": {},
     "output_type": "display_data"
    }
   ],
   "source": [
    "ts.gti = np.asarray([[1, 300], [600, 800]])\n",
    "ts.plot(\"blabla\")"
   ]
  },
  {
   "cell_type": "markdown",
   "metadata": {},
   "source": [
    "If a given array attr has an error bar (indicated by the attribute name + `_err`), one can specify `witherrors=True` to plot the attribute."
   ]
  },
  {
   "cell_type": "code",
   "execution_count": 54,
   "metadata": {},
   "outputs": [
    {
     "data": {
      "text/plain": [
       "<Axes: xlabel='Time (s)', ylabel='blabla (cts)'>"
      ]
     },
     "execution_count": 54,
     "metadata": {},
     "output_type": "execute_result"
    },
    {
     "data": {
      "image/png": "[encoded data removed]",
      "text/plain": [
       "<Figure size 640x480 with 1 Axes>"
      ]
     },
     "metadata": {},
     "output_type": "display_data"
    }
   ],
   "source": [
    "ts.blabla_err = ts.blabla / 100.\n",
    "ts.plot(\"blabla\", labels=[\"Time (s)\", \"blabla (cts)\"], witherrors=True)"
   ]
  },
  {
   "cell_type": "markdown",
   "metadata": {},
   "source": [
    "A plot can also be customized using several keyword arguments."
   ]
  },
  {
   "cell_type": "code",
   "execution_count": 55,
   "metadata": {},
   "outputs": [
    {
     "name": "stdout",
     "output_type": "stream",
     "text": [
      "Help on method plot in module stingray.base:\n",
      "\n",
      "plot(attr, witherrors=False, labels=None, ax=None, title=None, marker='-', save=False, filename=None, plot_btis=True, axis_limits=None) method of stingray.base.StingrayTimeseries instance\n",
      "    Plot the time series using ``matplotlib``.\n",
      "\n",
      "    Plot the time series object on a graph ``self.time`` on x-axis and\n",
      "    ``self.counts`` on y-axis with ``self.counts_err`` optionally\n",
      "    as error bars.\n",
      "\n",
      "    Parameters\n",
      "    ----------\n",
      "    attr: str\n",
      "        Attribute to plot.\n",
      "\n",
      "    Other parameters\n",
      "    ----------------\n",
      "    witherrors: boolean, default False\n",
      "        Whether to plot the StingrayTimeseries with errorbars or not\n",
      "    labels : iterable, default ``None``\n",
      "        A list or tuple with ``xlabel`` and ``ylabel`` as strings. E.g.\n",
      "        if the attribute is ``'counts'``, the list of labels\n",
      "        could be ``['Time (s)', 'Counts (s^-1)']``\n",
      "    ax : ``matplotlib.pyplot.axis`` object\n",
      "        Axis to be used for plotting. Defaults to creating a new one.\n",
      "    axis_limits : list, tuple, string, default ``None``\n",
      "        Parameter to set axis properties of the ``matplotlib`` figure. For example\n",
      "        it can be a list like ``[xmin, xmax, ymin, ymax]`` or any other\n",
      "        acceptable argument for the``matplotlib.pyplot.axis()`` method.\n",
      "    title : str, default ``None``\n",
      "        The title of the plot.\n",
      "    marker : str, default '-'\n",
      "        Line style and color of the plot. Line styles and colors are\n",
      "        combined in a single format string, as in ``'bo'`` for blue\n",
      "        circles. See ``matplotlib.pyplot.plot`` for more options.\n",
      "    save : boolean, optional, default ``False``\n",
      "        If ``True``, save the figure with specified filename.\n",
      "    filename : str\n",
      "        File name of the image to save. Depends on the boolean ``save``.\n",
      "    plot_btis : bool\n",
      "        Plot the bad time intervals as red areas on the plot\n",
      "\n"
     ]
    }
   ],
   "source": [
    "help(ts.plot)"
   ]
  },
  {
   "cell_type": "markdown",
   "metadata": {},
   "source": [
    "The figure drawn can also be saved in a file using keywords arguments in the plot method itself."
   ]
  },
  {
   "cell_type": "code",
   "execution_count": 56,
   "metadata": {},
   "outputs": [
    {
     "data": {
      "text/plain": [
       "<Axes: xlabel='Time (s)', ylabel='blabla'>"
      ]
     },
     "execution_count": 56,
     "metadata": {},
     "output_type": "execute_result"
    },
    {
     "data": {
      "image/png": "[encoded data removed]",
      "text/plain": [
       "<Figure size 640x480 with 1 Axes>"
      ]
     },
     "metadata": {},
     "output_type": "display_data"
    }
   ],
   "source": [
    "ts.plot(\"blabla\", marker = 'k', save=True, filename=\"lightcurve.png\")"
   ]
  },
  {
   "cell_type": "markdown",
   "metadata": {},
   "source": [
    "### MJDREF and Shifting Times\n",
    "\n",
    "The `mjdref` keyword argument defines a reference time in Modified Julian Date. Often, X-ray missions count their internal time in seconds from a given reference date and time (so that numbers don't become arbitrarily large). The data is then in the format of Mission Elapsed Time (MET), or seconds since that reference time. \n",
    "\n",
    "`mjdref` is generally passed into the `Lightcurve` object at instantiation, but it can be changed later:"
   ]
  },
  {
   "cell_type": "code",
   "execution_count": 57,
   "metadata": {},
   "outputs": [
    {
     "name": "stdout",
     "output_type": "stream",
     "text": [
      "91254\n"
     ]
    }
   ],
   "source": [
    "mjdref = 91254\n",
    "time = np.arange(1000)\n",
    "counts = np.random.poisson(100, size=len(time))\n",
    "\n",
    "ts = StingrayTimeseries(time, array_attrs={\"counts\": counts}, dt=1, skip_checks=True, mjdref=mjdref)\n",
    "print(ts.mjdref)"
   ]
  },
  {
   "cell_type": "code",
   "execution_count": 58,
   "metadata": {},
   "outputs": [
    {
     "name": "stdout",
     "output_type": "stream",
     "text": [
      "91253.99976851852\n"
     ]
    }
   ],
   "source": [
    "mjdref_new = mjdref - 20 / 86400  # Subtract 20 seconds from MJDREF\n",
    "ts_new = ts.change_mjdref(mjdref_new)\n",
    "print(ts_new.mjdref)"
   ]
  },
  {
   "cell_type": "code",
   "execution_count": 59,
   "metadata": {},
   "outputs": [
    {
     "data": {
      "text/plain": [
       "array([  19.99999965,   20.99999965,   21.99999965,   22.99999965,\n",
       "         23.99999965,   24.99999965,   25.99999965,   26.99999965,\n",
       "         27.99999965,   28.99999965,   29.99999965,   30.99999965,\n",
       "         31.99999965,   32.99999965,   33.99999965,   34.99999965,\n",
       "         35.99999965,   36.99999965,   37.99999965,   38.99999965,\n",
       "         39.99999965,   40.99999965,   41.99999965,   42.99999965,\n",
       "         43.99999965,   44.99999965,   45.99999965,   46.99999965,\n",
       "         47.99999965,   48.99999965,   49.99999965,   50.99999965,\n",
       "         51.99999965,   52.99999965,   53.99999965,   54.99999965,\n",
       "         55.99999965,   56.99999965,   57.99999965,   58.99999965,\n",
       "         59.99999965,   60.99999965,   61.99999965,   62.99999965,\n",
       "         63.99999965,   64.99999965,   65.99999965,   66.99999965,\n",
       "         67.99999965,   68.99999965,   69.99999965,   70.99999965,\n",
       "         71.99999965,   72.99999965,   73.99999965,   74.99999965,\n",
       "         75.99999965,   76.99999965,   77.99999965,   78.99999965,\n",
       "         79.99999965,   80.99999965,   81.99999965,   82.99999965,\n",
       "         83.99999965,   84.99999965,   85.99999965,   86.99999965,\n",
       "         87.99999965,   88.99999965,   89.99999965,   90.99999965,\n",
       "         91.99999965,   92.99999965,   93.99999965,   94.99999965,\n",
       "         95.99999965,   96.99999965,   97.99999965,   98.99999965,\n",
       "         99.99999965,  100.99999965,  101.99999965,  102.99999965,\n",
       "        103.99999965,  104.99999965,  105.99999965,  106.99999965,\n",
       "        107.99999965,  108.99999965,  109.99999965,  110.99999965,\n",
       "        111.99999965,  112.99999965,  113.99999965,  114.99999965,\n",
       "        115.99999965,  116.99999965,  117.99999965,  118.99999965,\n",
       "        119.99999965,  120.99999965,  121.99999965,  122.99999965,\n",
       "        123.99999965,  124.99999965,  125.99999965,  126.99999965,\n",
       "        127.99999965,  128.99999965,  129.99999965,  130.99999965,\n",
       "        131.99999965,  132.99999965,  133.99999965,  134.99999965,\n",
       "        135.99999965,  136.99999965,  137.99999965,  138.99999965,\n",
       "        139.99999965,  140.99999965,  141.99999965,  142.99999965,\n",
       "        143.99999965,  144.99999965,  145.99999965,  146.99999965,\n",
       "        147.99999965,  148.99999965,  149.99999965,  150.99999965,\n",
       "        151.99999965,  152.99999965,  153.99999965,  154.99999965,\n",
       "        155.99999965,  156.99999965,  157.99999965,  158.99999965,\n",
       "        159.99999965,  160.99999965,  161.99999965,  162.99999965,\n",
       "        163.99999965,  164.99999965,  165.99999965,  166.99999965,\n",
       "        167.99999965,  168.99999965,  169.99999965,  170.99999965,\n",
       "        171.99999965,  172.99999965,  173.99999965,  174.99999965,\n",
       "        175.99999965,  176.99999965,  177.99999965,  178.99999965,\n",
       "        179.99999965,  180.99999965,  181.99999965,  182.99999965,\n",
       "        183.99999965,  184.99999965,  185.99999965,  186.99999965,\n",
       "        187.99999965,  188.99999965,  189.99999965,  190.99999965,\n",
       "        191.99999965,  192.99999965,  193.99999965,  194.99999965,\n",
       "        195.99999965,  196.99999965,  197.99999965,  198.99999965,\n",
       "        199.99999965,  200.99999965,  201.99999965,  202.99999965,\n",
       "        203.99999965,  204.99999965,  205.99999965,  206.99999965,\n",
       "        207.99999965,  208.99999965,  209.99999965,  210.99999965,\n",
       "        211.99999965,  212.99999965,  213.99999965,  214.99999965,\n",
       "        215.99999965,  216.99999965,  217.99999965,  218.99999965,\n",
       "        219.99999965,  220.99999965,  221.99999965,  222.99999965,\n",
       "        223.99999965,  224.99999965,  225.99999965,  226.99999965,\n",
       "        227.99999965,  228.99999965,  229.99999965,  230.99999965,\n",
       "        231.99999965,  232.99999965,  233.99999965,  234.99999965,\n",
       "        235.99999965,  236.99999965,  237.99999965,  238.99999965,\n",
       "        239.99999965,  240.99999965,  241.99999965,  242.99999965,\n",
       "        243.99999965,  244.99999965,  245.99999965,  246.99999965,\n",
       "        247.99999965,  248.99999965,  249.99999965,  250.99999965,\n",
       "        251.99999965,  252.99999965,  253.99999965,  254.99999965,\n",
       "        255.99999965,  256.99999965,  257.99999965,  258.99999965,\n",
       "        259.99999965,  260.99999965,  261.99999965,  262.99999965,\n",
       "        263.99999965,  264.99999965,  265.99999965,  266.99999965,\n",
       "        267.99999965,  268.99999965,  269.99999965,  270.99999965,\n",
       "        271.99999965,  272.99999965,  273.99999965,  274.99999965,\n",
       "        275.99999965,  276.99999965,  277.99999965,  278.99999965,\n",
       "        279.99999965,  280.99999965,  281.99999965,  282.99999965,\n",
       "        283.99999965,  284.99999965,  285.99999965,  286.99999965,\n",
       "        287.99999965,  288.99999965,  289.99999965,  290.99999965,\n",
       "        291.99999965,  292.99999965,  293.99999965,  294.99999965,\n",
       "        295.99999965,  296.99999965,  297.99999965,  298.99999965,\n",
       "        299.99999965,  300.99999965,  301.99999965,  302.99999965,\n",
       "        303.99999965,  304.99999965,  305.99999965,  306.99999965,\n",
       "        307.99999965,  308.99999965,  309.99999965,  310.99999965,\n",
       "        311.99999965,  312.99999965,  313.99999965,  314.99999965,\n",
       "        315.99999965,  316.99999965,  317.99999965,  318.99999965,\n",
       "        319.99999965,  320.99999965,  321.99999965,  322.99999965,\n",
       "        323.99999965,  324.99999965,  325.99999965,  326.99999965,\n",
       "        327.99999965,  328.99999965,  329.99999965,  330.99999965,\n",
       "        331.99999965,  332.99999965,  333.99999965,  334.99999965,\n",
       "        335.99999965,  336.99999965,  337.99999965,  338.99999965,\n",
       "        339.99999965,  340.99999965,  341.99999965,  342.99999965,\n",
       "        343.99999965,  344.99999965,  345.99999965,  346.99999965,\n",
       "        347.99999965,  348.99999965,  349.99999965,  350.99999965,\n",
       "        351.99999965,  352.99999965,  353.99999965,  354.99999965,\n",
       "        355.99999965,  356.99999965,  357.99999965,  358.99999965,\n",
       "        359.99999965,  360.99999965,  361.99999965,  362.99999965,\n",
       "        363.99999965,  364.99999965,  365.99999965,  366.99999965,\n",
       "        367.99999965,  368.99999965,  369.99999965,  370.99999965,\n",
       "        371.99999965,  372.99999965,  373.99999965,  374.99999965,\n",
       "        375.99999965,  376.99999965,  377.99999965,  378.99999965,\n",
       "        379.99999965,  380.99999965,  381.99999965,  382.99999965,\n",
       "        383.99999965,  384.99999965,  385.99999965,  386.99999965,\n",
       "        387.99999965,  388.99999965,  389.99999965,  390.99999965,\n",
       "        391.99999965,  392.99999965,  393.99999965,  394.99999965,\n",
       "        395.99999965,  396.99999965,  397.99999965,  398.99999965,\n",
       "        399.99999965,  400.99999965,  401.99999965,  402.99999965,\n",
       "        403.99999965,  404.99999965,  405.99999965,  406.99999965,\n",
       "        407.99999965,  408.99999965,  409.99999965,  410.99999965,\n",
       "        411.99999965,  412.99999965,  413.99999965,  414.99999965,\n",
       "        415.99999965,  416.99999965,  417.99999965,  418.99999965,\n",
       "        419.99999965,  420.99999965,  421.99999965,  422.99999965,\n",
       "        423.99999965,  424.99999965,  425.99999965,  426.99999965,\n",
       "        427.99999965,  428.99999965,  429.99999965,  430.99999965,\n",
       "        431.99999965,  432.99999965,  433.99999965,  434.99999965,\n",
       "        435.99999965,  436.99999965,  437.99999965,  438.99999965,\n",
       "        439.99999965,  440.99999965,  441.99999965,  442.99999965,\n",
       "        443.99999965,  444.99999965,  445.99999965,  446.99999965,\n",
       "        447.99999965,  448.99999965,  449.99999965,  450.99999965,\n",
       "        451.99999965,  452.99999965,  453.99999965,  454.99999965,\n",
       "        455.99999965,  456.99999965,  457.99999965,  458.99999965,\n",
       "        459.99999965,  460.99999965,  461.99999965,  462.99999965,\n",
       "        463.99999965,  464.99999965,  465.99999965,  466.99999965,\n",
       "        467.99999965,  468.99999965,  469.99999965,  470.99999965,\n",
       "        471.99999965,  472.99999965,  473.99999965,  474.99999965,\n",
       "        475.99999965,  476.99999965,  477.99999965,  478.99999965,\n",
       "        479.99999965,  480.99999965,  481.99999965,  482.99999965,\n",
       "        483.99999965,  484.99999965,  485.99999965,  486.99999965,\n",
       "        487.99999965,  488.99999965,  489.99999965,  490.99999965,\n",
       "        491.99999965,  492.99999965,  493.99999965,  494.99999965,\n",
       "        495.99999965,  496.99999965,  497.99999965,  498.99999965,\n",
       "        499.99999965,  500.99999965,  501.99999965,  502.99999965,\n",
       "        503.99999965,  504.99999965,  505.99999965,  506.99999965,\n",
       "        507.99999965,  508.99999965,  509.99999965,  510.99999965,\n",
       "        511.99999965,  512.99999965,  513.99999965,  514.99999965,\n",
       "        515.99999965,  516.99999965,  517.99999965,  518.99999965,\n",
       "        519.99999965,  520.99999965,  521.99999965,  522.99999965,\n",
       "        523.99999965,  524.99999965,  525.99999965,  526.99999965,\n",
       "        527.99999965,  528.99999965,  529.99999965,  530.99999965,\n",
       "        531.99999965,  532.99999965,  533.99999965,  534.99999965,\n",
       "        535.99999965,  536.99999965,  537.99999965,  538.99999965,\n",
       "        539.99999965,  540.99999965,  541.99999965,  542.99999965,\n",
       "        543.99999965,  544.99999965,  545.99999965,  546.99999965,\n",
       "        547.99999965,  548.99999965,  549.99999965,  550.99999965,\n",
       "        551.99999965,  552.99999965,  553.99999965,  554.99999965,\n",
       "        555.99999965,  556.99999965,  557.99999965,  558.99999965,\n",
       "        559.99999965,  560.99999965,  561.99999965,  562.99999965,\n",
       "        563.99999965,  564.99999965,  565.99999965,  566.99999965,\n",
       "        567.99999965,  568.99999965,  569.99999965,  570.99999965,\n",
       "        571.99999965,  572.99999965,  573.99999965,  574.99999965,\n",
       "        575.99999965,  576.99999965,  577.99999965,  578.99999965,\n",
       "        579.99999965,  580.99999965,  581.99999965,  582.99999965,\n",
       "        583.99999965,  584.99999965,  585.99999965,  586.99999965,\n",
       "        587.99999965,  588.99999965,  589.99999965,  590.99999965,\n",
       "        591.99999965,  592.99999965,  593.99999965,  594.99999965,\n",
       "        595.99999965,  596.99999965,  597.99999965,  598.99999965,\n",
       "        599.99999965,  600.99999965,  601.99999965,  602.99999965,\n",
       "        603.99999965,  604.99999965,  605.99999965,  606.99999965,\n",
       "        607.99999965,  608.99999965,  609.99999965,  610.99999965,\n",
       "        611.99999965,  612.99999965,  613.99999965,  614.99999965,\n",
       "        615.99999965,  616.99999965,  617.99999965,  618.99999965,\n",
       "        619.99999965,  620.99999965,  621.99999965,  622.99999965,\n",
       "        623.99999965,  624.99999965,  625.99999965,  626.99999965,\n",
       "        627.99999965,  628.99999965,  629.99999965,  630.99999965,\n",
       "        631.99999965,  632.99999965,  633.99999965,  634.99999965,\n",
       "        635.99999965,  636.99999965,  637.99999965,  638.99999965,\n",
       "        639.99999965,  640.99999965,  641.99999965,  642.99999965,\n",
       "        643.99999965,  644.99999965,  645.99999965,  646.99999965,\n",
       "        647.99999965,  648.99999965,  649.99999965,  650.99999965,\n",
       "        651.99999965,  652.99999965,  653.99999965,  654.99999965,\n",
       "        655.99999965,  656.99999965,  657.99999965,  658.99999965,\n",
       "        659.99999965,  660.99999965,  661.99999965,  662.99999965,\n",
       "        663.99999965,  664.99999965,  665.99999965,  666.99999965,\n",
       "        667.99999965,  668.99999965,  669.99999965,  670.99999965,\n",
       "        671.99999965,  672.99999965,  673.99999965,  674.99999965,\n",
       "        675.99999965,  676.99999965,  677.99999965,  678.99999965,\n",
       "        679.99999965,  680.99999965,  681.99999965,  682.99999965,\n",
       "        683.99999965,  684.99999965,  685.99999965,  686.99999965,\n",
       "        687.99999965,  688.99999965,  689.99999965,  690.99999965,\n",
       "        691.99999965,  692.99999965,  693.99999965,  694.99999965,\n",
       "        695.99999965,  696.99999965,  697.99999965,  698.99999965,\n",
       "        699.99999965,  700.99999965,  701.99999965,  702.99999965,\n",
       "        703.99999965,  704.99999965,  705.99999965,  706.99999965,\n",
       "        707.99999965,  708.99999965,  709.99999965,  710.99999965,\n",
       "        711.99999965,  712.99999965,  713.99999965,  714.99999965,\n",
       "        715.99999965,  716.99999965,  717.99999965,  718.99999965,\n",
       "        719.99999965,  720.99999965,  721.99999965,  722.99999965,\n",
       "        723.99999965,  724.99999965,  725.99999965,  726.99999965,\n",
       "        727.99999965,  728.99999965,  729.99999965,  730.99999965,\n",
       "        731.99999965,  732.99999965,  733.99999965,  734.99999965,\n",
       "        735.99999965,  736.99999965,  737.99999965,  738.99999965,\n",
       "        739.99999965,  740.99999965,  741.99999965,  742.99999965,\n",
       "        743.99999965,  744.99999965,  745.99999965,  746.99999965,\n",
       "        747.99999965,  748.99999965,  749.99999965,  750.99999965,\n",
       "        751.99999965,  752.99999965,  753.99999965,  754.99999965,\n",
       "        755.99999965,  756.99999965,  757.99999965,  758.99999965,\n",
       "        759.99999965,  760.99999965,  761.99999965,  762.99999965,\n",
       "        763.99999965,  764.99999965,  765.99999965,  766.99999965,\n",
       "        767.99999965,  768.99999965,  769.99999965,  770.99999965,\n",
       "        771.99999965,  772.99999965,  773.99999965,  774.99999965,\n",
       "        775.99999965,  776.99999965,  777.99999965,  778.99999965,\n",
       "        779.99999965,  780.99999965,  781.99999965,  782.99999965,\n",
       "        783.99999965,  784.99999965,  785.99999965,  786.99999965,\n",
       "        787.99999965,  788.99999965,  789.99999965,  790.99999965,\n",
       "        791.99999965,  792.99999965,  793.99999965,  794.99999965,\n",
       "        795.99999965,  796.99999965,  797.99999965,  798.99999965,\n",
       "        799.99999965,  800.99999965,  801.99999965,  802.99999965,\n",
       "        803.99999965,  804.99999965,  805.99999965,  806.99999965,\n",
       "        807.99999965,  808.99999965,  809.99999965,  810.99999965,\n",
       "        811.99999965,  812.99999965,  813.99999965,  814.99999965,\n",
       "        815.99999965,  816.99999965,  817.99999965,  818.99999965,\n",
       "        819.99999965,  820.99999965,  821.99999965,  822.99999965,\n",
       "        823.99999965,  824.99999965,  825.99999965,  826.99999965,\n",
       "        827.99999965,  828.99999965,  829.99999965,  830.99999965,\n",
       "        831.99999965,  832.99999965,  833.99999965,  834.99999965,\n",
       "        835.99999965,  836.99999965,  837.99999965,  838.99999965,\n",
       "        839.99999965,  840.99999965,  841.99999965,  842.99999965,\n",
       "        843.99999965,  844.99999965,  845.99999965,  846.99999965,\n",
       "        847.99999965,  848.99999965,  849.99999965,  850.99999965,\n",
       "        851.99999965,  852.99999965,  853.99999965,  854.99999965,\n",
       "        855.99999965,  856.99999965,  857.99999965,  858.99999965,\n",
       "        859.99999965,  860.99999965,  861.99999965,  862.99999965,\n",
       "        863.99999965,  864.99999965,  865.99999965,  866.99999965,\n",
       "        867.99999965,  868.99999965,  869.99999965,  870.99999965,\n",
       "        871.99999965,  872.99999965,  873.99999965,  874.99999965,\n",
       "        875.99999965,  876.99999965,  877.99999965,  878.99999965,\n",
       "        879.99999965,  880.99999965,  881.99999965,  882.99999965,\n",
       "        883.99999965,  884.99999965,  885.99999965,  886.99999965,\n",
       "        887.99999965,  888.99999965,  889.99999965,  890.99999965,\n",
       "        891.99999965,  892.99999965,  893.99999965,  894.99999965,\n",
       "        895.99999965,  896.99999965,  897.99999965,  898.99999965,\n",
       "        899.99999965,  900.99999965,  901.99999965,  902.99999965,\n",
       "        903.99999965,  904.99999965,  905.99999965,  906.99999965,\n",
       "        907.99999965,  908.99999965,  909.99999965,  910.99999965,\n",
       "        911.99999965,  912.99999965,  913.99999965,  914.99999965,\n",
       "        915.99999965,  916.99999965,  917.99999965,  918.99999965,\n",
       "        919.99999965,  920.99999965,  921.99999965,  922.99999965,\n",
       "        923.99999965,  924.99999965,  925.99999965,  926.99999965,\n",
       "        927.99999965,  928.99999965,  929.99999965,  930.99999965,\n",
       "        931.99999965,  932.99999965,  933.99999965,  934.99999965,\n",
       "        935.99999965,  936.99999965,  937.99999965,  938.99999965,\n",
       "        939.99999965,  940.99999965,  941.99999965,  942.99999965,\n",
       "        943.99999965,  944.99999965,  945.99999965,  946.99999965,\n",
       "        947.99999965,  948.99999965,  949.99999965,  950.99999965,\n",
       "        951.99999965,  952.99999965,  953.99999965,  954.99999965,\n",
       "        955.99999965,  956.99999965,  957.99999965,  958.99999965,\n",
       "        959.99999965,  960.99999965,  961.99999965,  962.99999965,\n",
       "        963.99999965,  964.99999965,  965.99999965,  966.99999965,\n",
       "        967.99999965,  968.99999965,  969.99999965,  970.99999965,\n",
       "        971.99999965,  972.99999965,  973.99999965,  974.99999965,\n",
       "        975.99999965,  976.99999965,  977.99999965,  978.99999965,\n",
       "        979.99999965,  980.99999965,  981.99999965,  982.99999965,\n",
       "        983.99999965,  984.99999965,  985.99999965,  986.99999965,\n",
       "        987.99999965,  988.99999965,  989.99999965,  990.99999965,\n",
       "        991.99999965,  992.99999965,  993.99999965,  994.99999965,\n",
       "        995.99999965,  996.99999965,  997.99999965,  998.99999965,\n",
       "        999.99999965, 1000.99999965, 1001.99999965, 1002.99999965,\n",
       "       1003.99999965, 1004.99999965, 1005.99999965, 1006.99999965,\n",
       "       1007.99999965, 1008.99999965, 1009.99999965, 1010.99999965,\n",
       "       1011.99999965, 1012.99999965, 1013.99999965, 1014.99999965,\n",
       "       1015.99999965, 1016.99999965, 1017.99999965, 1018.99999965])"
      ]
     },
     "execution_count": 59,
     "metadata": {},
     "output_type": "execute_result"
    }
   ],
   "source": [
    "ts_new.time"
   ]
  },
  {
   "cell_type": "code",
   "execution_count": 60,
   "metadata": {},
   "outputs": [
    {
     "data": {
      "text/plain": [
       "array([[  19.49999965, 1019.49999965]])"
      ]
     },
     "execution_count": 60,
     "metadata": {},
     "output_type": "execute_result"
    }
   ],
   "source": [
    "ts_new.gti"
   ]
  },
  {
   "cell_type": "markdown",
   "metadata": {},
   "source": [
    "This changes the reference time and all the times referred to it. It's very useful when manipulating time series from different missions. Alternatively, one can shift the times (by a value in seconds) without modifying the MJDREF"
   ]
  },
  {
   "cell_type": "code",
   "execution_count": 61,
   "metadata": {},
   "outputs": [],
   "source": [
    "gti = [(0,500), (600, 1000)]\n",
    "ts.gti = gti"
   ]
  },
  {
   "cell_type": "code",
   "execution_count": 62,
   "metadata": {},
   "outputs": [
    {
     "name": "stdout",
     "output_type": "stream",
     "text": [
      "first three time bins: [0 1 2]\n",
      "GTIs: [[   0  500]\n",
      " [ 600 1000]]\n"
     ]
    }
   ],
   "source": [
    "print(\"first three time bins: \" + str(ts.time[:3]))\n",
    "print(\"GTIs: \" + str(ts.gti))"
   ]
  },
  {
   "cell_type": "code",
   "execution_count": 63,
   "metadata": {},
   "outputs": [],
   "source": [
    "time_shift = 10.0\n",
    "ts_shifted = ts.shift(time_shift)"
   ]
  },
  {
   "cell_type": "code",
   "execution_count": 64,
   "metadata": {},
   "outputs": [
    {
     "name": "stdout",
     "output_type": "stream",
     "text": [
      "Shifted first three time bins: [10. 11. 12.]\n",
      "Shifted GTIs: [[  10.  510.]\n",
      " [ 610. 1010.]]\n"
     ]
    }
   ],
   "source": [
    "print(\"Shifted first three time bins: \" + str(ts_shifted.time[:3]))\n",
    "print(\"Shifted GTIs: \" + str(ts_shifted.gti))"
   ]
  },
  {
   "cell_type": "markdown",
   "metadata": {},
   "source": [
    "### Splitting by GTI\n",
    "\n",
    "A special case of splitting your light curve object is to split by GTIs. This can be helpful if you want to look at individual contiguous segments separately:"
   ]
  },
  {
   "cell_type": "code",
   "execution_count": 65,
   "metadata": {},
   "outputs": [],
   "source": [
    "# make a time array with a big gap and a small gap\n",
    "time = np.arange(20)\n",
    "counts = np.random.poisson(100, size=len(time))\n",
    "gti = [(0,8), (12,20)]\n",
    "\n",
    "\n",
    "ts = StingrayTimeseries(time, array_attrs={\"blabla\": counts}, dt=1, gti=gti)"
   ]
  },
  {
   "cell_type": "code",
   "execution_count": 66,
   "metadata": {},
   "outputs": [],
   "source": [
    "ts_split = ts.split_by_gti()"
   ]
  },
  {
   "cell_type": "code",
   "execution_count": 67,
   "metadata": {},
   "outputs": [
    {
     "name": "stdout",
     "output_type": "stream",
     "text": [
      "[ 0  1  2  3  4  5  6  7  8  9 10 11 12 13 14 15 16 17 18 19] [ 99  80 121  86 113 108  86 118 119  98  98 116 110  94  85 109 105 122\n",
      " 102 108]\n",
      "[1 2 3 4 5 6 7] [ 80 121  86 113 108  86 118]\n",
      "[13 14 15 16 17 18 19] [ 94  85 109 105 122 102 108]\n"
     ]
    }
   ],
   "source": [
    "print(ts.time, ts.blabla)\n",
    "for ts_tmp in ts_split:\n",
    "    print(ts_tmp.time, ts_tmp.blabla)"
   ]
  },
  {
   "cell_type": "markdown",
   "metadata": {},
   "source": [
    "Because I'd passed in GTIs that define the range from 0-8 and from 12-20 as good time intervals, the light curve will be split into two individual ones containing all data points falling within these ranges.\n",
    "\n",
    "You can also apply the GTIs *directly* to the original light curve, which will filter `time`, `counts`, `countrate`, `counts_err` and `countrate_err` to only fall within the bounds of the GTIs:"
   ]
  },
  {
   "cell_type": "code",
   "execution_count": 68,
   "metadata": {},
   "outputs": [],
   "source": [
    "# make a time array with a big gap and a small gap\n",
    "time = np.arange(20)\n",
    "counts = np.random.poisson(100, size=len(time))\n",
    "gti = [(0,8), (12,20)]\n",
    "\n",
    "\n",
    "ts = StingrayTimeseries(time, array_attrs={\"blabla\": counts}, dt=1, gti=gti)"
   ]
  },
  {
   "cell_type": "markdown",
   "metadata": {},
   "source": [
    "**Caution**: This is one of the few methods that change the original state of the object, rather than returning a new copy of it with the changes applied! So any events falling outside of the range of the GTIs will be lost:"
   ]
  },
  {
   "cell_type": "code",
   "execution_count": 69,
   "metadata": {},
   "outputs": [
    {
     "data": {
      "text/plain": [
       "array([ 0,  1,  2,  3,  4,  5,  6,  7,  8,  9, 10, 11, 12, 13, 14, 15, 16,\n",
       "       17, 18, 19])"
      ]
     },
     "execution_count": 69,
     "metadata": {},
     "output_type": "execute_result"
    }
   ],
   "source": [
    "# time array before applying GTIs:\n",
    "ts.time"
   ]
  },
  {
   "cell_type": "code",
   "execution_count": 70,
   "metadata": {},
   "outputs": [
    {
     "data": {
      "text/plain": [
       "<stingray.base.StingrayTimeseries at 0x7b3f76fa40b0>"
      ]
     },
     "execution_count": 70,
     "metadata": {},
     "output_type": "execute_result"
    }
   ],
   "source": [
    "ts.apply_gtis()"
   ]
  },
  {
   "cell_type": "code",
   "execution_count": 71,
   "metadata": {},
   "outputs": [
    {
     "data": {
      "text/plain": [
       "array([ 1,  2,  3,  4,  5,  6,  7, 13, 14, 15, 16, 17, 18, 19])"
      ]
     },
     "execution_count": 71,
     "metadata": {},
     "output_type": "execute_result"
    }
   ],
   "source": [
    "# time array after applying GTIs\n",
    "ts.time"
   ]
  },
  {
   "cell_type": "markdown",
   "metadata": {},
   "source": [
    "As you can see, the time bins 8-12 have been dropped, since they fall outside of the GTIs. \n"
   ]
  },
  {
   "cell_type": "markdown",
   "metadata": {},
   "source": [
    "## Reading/Writing Stingray Timeseries to/from files\n",
    "\n",
    "The `StingrayTimeseries` class has roundtrip reading/writing capabilities via the `read` and `write` methods. Most of the I/O is managed by the `astropy.io` infrastructure. We regularly test the roundtrip to Enhanced CSV (`.ecsv`) and Hierarchical Data Format v.5 (`.hdf5`) formats. \n"
   ]
  },
  {
   "cell_type": "markdown",
   "metadata": {},
   "source": [
    "## Converting StingrayTimeseries to pandas, xarray and Astropy Table/Timeseries\n",
    "\n",
    "`StingrayTimeseries` can be converted back and forth to `xarray`, `pandas`, `astropy.table.Table` and `astropy.timeseries.TimeSeries` objects through the relevant `to_FORMAT` and `from_FORMAT`, e.g. Refer to the methods' documentation for more information on how data are stored in each case.\n"
   ]
  },
  {
   "cell_type": "code",
   "execution_count": 70,
   "metadata": {},
   "outputs": [
    {
     "data": {
      "text/plain": [
       "pandas.core.frame.DataFrame"
      ]
     },
     "execution_count": 70,
     "metadata": {},
     "output_type": "execute_result"
    }
   ],
   "source": [
    "type(ts.to_pandas())"
   ]
  },
  {
   "cell_type": "code",
   "execution_count": 71,
   "metadata": {},
   "outputs": [
    {
     "data": {
      "text/plain": [
       "xarray.core.dataset.Dataset"
      ]
     },
     "execution_count": 71,
     "metadata": {},
     "output_type": "execute_result"
    }
   ],
   "source": [
    "type(ts.to_xarray())"
   ]
  },
  {
   "cell_type": "code",
   "execution_count": 72,
   "metadata": {},
   "outputs": [
    {
     "data": {
      "text/plain": [
       "astropy.table.table.Table"
      ]
     },
     "execution_count": 72,
     "metadata": {},
     "output_type": "execute_result"
    }
   ],
   "source": [
    "type(ts.to_astropy_table())"
   ]
  },
  {
   "cell_type": "code",
   "execution_count": 73,
   "metadata": {},
   "outputs": [
    {
     "data": {
      "text/plain": [
       "astropy.timeseries.sampled.TimeSeries"
      ]
     },
     "execution_count": 73,
     "metadata": {},
     "output_type": "execute_result"
    }
   ],
   "source": [
    "type(ts.to_astropy_timeseries())"
   ]
  },
  {
   "cell_type": "code",
   "execution_count": null,
   "metadata": {},
   "outputs": [],
   "source": []
  }
 ],
 "metadata": {
  "celltoolbar": "Tags",
  "kernelspec": {
   "display_name": "Python 3",
   "language": "python",
   "name": "python3"
  },
  "language_info": {
   "codemirror_mode": {
    "name": "ipython",
    "version": 3
   },
   "file_extension": ".py",
   "mimetype": "text/x-python",
   "name": "python",
   "nbconvert_exporter": "python",
   "pygments_lexer": "ipython3",
   "version": "3.12.3"
  }
 },
 "nbformat": 4,
 "nbformat_minor": 1
}
