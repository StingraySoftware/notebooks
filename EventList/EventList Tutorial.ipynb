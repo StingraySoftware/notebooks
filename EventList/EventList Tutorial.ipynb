{
 "cells": [
  {
   "cell_type": "markdown",
   "metadata": {},
   "source": [
    "## Contents"
   ]
  },
  {
   "cell_type": "markdown",
   "metadata": {},
   "source": [
    "This notebook covers the basics of creating an event list object and carrying out various operations such as simulating time and energies, joining, storing and retrieving event lists."
   ]
  },
  {
   "cell_type": "markdown",
   "metadata": {},
   "source": [
    "## Setup"
   ]
  },
  {
   "cell_type": "markdown",
   "metadata": {},
   "source": [
    "Import some useful libraries."
   ]
  },
  {
   "cell_type": "code",
   "execution_count": 1,
   "metadata": {},
   "outputs": [],
   "source": [
    "import numpy as np\n",
    "\n",
    "from matplotlib import pyplot as plt\n",
    "%matplotlib inline"
   ]
  },
  {
   "cell_type": "markdown",
   "metadata": {},
   "source": [
    "Import some relevant stingray classes."
   ]
  },
  {
   "cell_type": "code",
   "execution_count": 2,
   "metadata": {},
   "outputs": [],
   "source": [
    "from stingray import EventList, Lightcurve"
   ]
  },
  {
   "cell_type": "markdown",
   "metadata": {},
   "source": [
    "# Creating EventList from Photon Arrival Times"
   ]
  },
  {
   "cell_type": "markdown",
   "metadata": {},
   "source": [
    "Given photon arrival times, an eventlist object can be created. Times are assumed to be seconds from a reference MJD, that can optionally be specified with the `mjdref` keyword and attribute."
   ]
  },
  {
   "cell_type": "code",
   "execution_count": 3,
   "metadata": {},
   "outputs": [],
   "source": [
    "times = [0.5, 1.1, 2.2, 3.7]\n",
    "mjdref=58000."
   ]
  },
  {
   "cell_type": "markdown",
   "metadata": {},
   "source": [
    "Create event list object by passing arrival times as argument."
   ]
  },
  {
   "cell_type": "code",
   "execution_count": 4,
   "metadata": {},
   "outputs": [
    {
     "data": {
      "text/plain": [
       "array([0.5, 1.1, 2.2, 3.7])"
      ]
     },
     "execution_count": 4,
     "metadata": {},
     "output_type": "execute_result"
    }
   ],
   "source": [
    "ev = EventList(times, mjdref=mjdref)\n",
    "ev.time"
   ]
  },
  {
   "cell_type": "markdown",
   "metadata": {},
   "source": [
    "One can add all sorts of data to the `EventList` object, it is very flexible. In general, we suggest to stick with easily interpretable attributes, like `energy` or `pi`.\n",
    "\n",
    "```\n",
    "ev.energy = [0., 3., 4., 20.]\n",
    "```\n",
    "\n",
    "is the same as "
   ]
  },
  {
   "cell_type": "code",
   "execution_count": 5,
   "metadata": {},
   "outputs": [],
   "source": [
    "energy = [0., 3., 4., 20.]\n",
    "ev = EventList(times, energy=energy, mjdref=mjdref)"
   ]
  },
  {
   "cell_type": "markdown",
   "metadata": {},
   "source": [
    "It is always recommended to specify the good time intervals (GTIs) of the event list, as the time intervals where the instrument was fully operational. If not specified, GTIs are defined automatically as the first and the last event time."
   ]
  },
  {
   "cell_type": "code",
   "execution_count": 6,
   "metadata": {},
   "outputs": [],
   "source": [
    "gti = [[0, 4]]\n",
    "ev = EventList(times, gti=gti, energy=energy, mjdref=mjdref)"
   ]
  },
  {
   "cell_type": "markdown",
   "metadata": {},
   "source": [
    "## Roundtrip to Astropy-compatible formats\n",
    "\n",
    "`EventList` has the following methods that allow an easy roundtrip to Astropy objects: `to_astropy_table`, `to_astropy_timeseries`, `from_astropy_table`, `from_astropy_timeseries`\n",
    "\n",
    "This allows a better interoperability with the Astropy ecosystem. \n",
    "\n",
    "In this roundtrip, a `Table` or `Timeseries` object is created, having as columns `time` and all other attributes of the same size (e.g. `pi`, `energy`), and the rest of the attributes (e.g. `gti`, `mjdref`) in the table's metadata."
   ]
  },
  {
   "cell_type": "code",
   "execution_count": 7,
   "metadata": {},
   "outputs": [
    {
     "data": {
      "text/html": [
       "<div><i>Table length=4</i>\n",
       "<table id=\"table125296217852960\" class=\"table-striped table-bordered table-condensed\">\n",
       "<thead><tr><th>energy</th><th>time</th></tr></thead>\n",
       "<thead><tr><th>float64</th><th>float64</th></tr></thead>\n",
       "<tr><td>0.0</td><td>0.5</td></tr>\n",
       "<tr><td>3.0</td><td>1.1</td></tr>\n",
       "<tr><td>4.0</td><td>2.2</td></tr>\n",
       "<tr><td>20.0</td><td>3.7</td></tr>\n",
       "</table></div>"
      ],
      "text/plain": [
       "<Table length=4>\n",
       " energy   time \n",
       "float64 float64\n",
       "------- -------\n",
       "    0.0     0.5\n",
       "    3.0     1.1\n",
       "    4.0     2.2\n",
       "   20.0     3.7"
      ]
     },
     "execution_count": 7,
     "metadata": {},
     "output_type": "execute_result"
    }
   ],
   "source": [
    "table = ev.to_astropy_table()\n",
    "table"
   ]
  },
  {
   "cell_type": "markdown",
   "metadata": {},
   "source": [
    "When converting to `Timeseries`, times are transformed into `astropy.time.TimeDelta` objects."
   ]
  },
  {
   "cell_type": "code",
   "execution_count": 8,
   "metadata": {},
   "outputs": [
    {
     "data": {
      "text/html": [
       "<div><i>TimeSeries length=4</i>\n",
       "<table id=\"table125296214945680\" class=\"table-striped table-bordered table-condensed\">\n",
       "<thead><tr><th>time</th><th>energy</th></tr></thead>\n",
       "<thead><tr><th>TimeDelta</th><th>float64</th></tr></thead>\n",
       "<tr><td>5.787037037037037e-06</td><td>0.0</td></tr>\n",
       "<tr><td>1.2731481481481482e-05</td><td>3.0</td></tr>\n",
       "<tr><td>2.5462962962962965e-05</td><td>4.0</td></tr>\n",
       "<tr><td>4.282407407407408e-05</td><td>20.0</td></tr>\n",
       "</table></div>"
      ],
      "text/plain": [
       "<TimeSeries length=4>\n",
       "         time           energy\n",
       "      TimeDelta        float64\n",
       "---------------------- -------\n",
       " 5.787037037037037e-06     0.0\n",
       "1.2731481481481482e-05     3.0\n",
       "2.5462962962962965e-05     4.0\n",
       " 4.282407407407408e-05    20.0"
      ]
     },
     "execution_count": 8,
     "metadata": {},
     "output_type": "execute_result"
    }
   ],
   "source": [
    "timeseries = ev.to_astropy_timeseries()\n",
    "timeseries"
   ]
  },
  {
   "cell_type": "code",
   "execution_count": 9,
   "metadata": {},
   "outputs": [
    {
     "data": {
      "text/plain": [
       "{'dt': 0,\n",
       " 'high_precision': False,\n",
       " 'mjdref': 58000.0,\n",
       " 'notes': '',\n",
       " 'gti': array([[0, 4]])}"
      ]
     },
     "execution_count": 9,
     "metadata": {},
     "output_type": "execute_result"
    }
   ],
   "source": [
    "table.meta"
   ]
  },
  {
   "cell_type": "markdown",
   "metadata": {},
   "source": [
    "Of course, these objects can be converted back to event lists. The user should be careful in defining the proper column names and metadata so that the final object is a valid `EventList`"
   ]
  },
  {
   "cell_type": "code",
   "execution_count": 10,
   "metadata": {},
   "outputs": [],
   "source": [
    "table_ev = EventList.from_astropy_table(table)\n",
    "table_ts = EventList.from_astropy_timeseries(timeseries)\n"
   ]
  },
  {
   "cell_type": "code",
   "execution_count": 11,
   "metadata": {},
   "outputs": [
    {
     "data": {
      "text/plain": [
       "(array([0.5, 1.1, 2.2, 3.7]), array([0.5, 1.1, 2.2, 3.7]))"
      ]
     },
     "execution_count": 11,
     "metadata": {},
     "output_type": "execute_result"
    }
   ],
   "source": [
    "table_ev.time, table_ts.time"
   ]
  },
  {
   "cell_type": "markdown",
   "metadata": {},
   "source": [
    "# Loading and writing EventList objects\n",
    "\n",
    "We made it possible to save and load data in a number of different formats.\n",
    "\n",
    "The general syntax is\n",
    "\n",
    "```\n",
    "ev = EventList.read(filename, format)\n",
    "\n",
    "ev.write(filename, format)\n",
    "\n",
    "```\n",
    "\n",
    "There are three main blocks of formats that might be useful:\n",
    "\n",
    "1. (read-only) HEASoft-compatible formats -> read event data from HEASOFT-supported missions\n",
    "\n",
    "2. `pickle`: reading and saving EventLists from/to Python pickle objects\n",
    "\n",
    "3. Any format compatible with `astropy.table.Table` objects."
   ]
  },
  {
   "cell_type": "markdown",
   "metadata": {},
   "source": [
    "## Loading an EventList from an X-ray observation in HEASoft-compatible format\n",
    "\n",
    "Loading event data from HEASoft-supported missions in FITS format is easy. It's sufficient to use the `read` method with `hea` or, equivalently, `ogip`, as format. \n",
    "\n",
    "Beware: please use `hea` or `ogip`, not `fits`! It would make the roundrip to Astropy tables more complicated, as Astropy supports a generic FITS writer which is not necessarily compatible with HEASoft."
   ]
  },
  {
   "cell_type": "code",
   "execution_count": 12,
   "metadata": {},
   "outputs": [],
   "source": [
    "ev = EventList.read('events.fits', 'ogip')"
   ]
  },
  {
   "cell_type": "markdown",
   "metadata": {},
   "source": [
    "Times are saved to the `time` attribute, GTIs to the `gti` attribute, MJDREF to the `mjdref` attribute, etc. "
   ]
  },
  {
   "cell_type": "code",
   "execution_count": 13,
   "metadata": {},
   "outputs": [
    {
     "data": {
      "text/plain": [
       "array([80000617.17802332, 80000353.19656566, 80000056.48970987,\n",
       "       80000067.34170531, 80000637.37147714, 80000777.77507702,\n",
       "       80000158.56582601, 80000630.68285809, 80000562.67902566,\n",
       "       80000816.81600319], dtype=float128)"
      ]
     },
     "execution_count": 13,
     "metadata": {},
     "output_type": "execute_result"
    }
   ],
   "source": [
    "ev.time[:10]"
   ]
  },
  {
   "cell_type": "code",
   "execution_count": 14,
   "metadata": {},
   "outputs": [
    {
     "data": {
      "text/plain": [
       "np.longdouble('55197.00076601852')"
      ]
     },
     "execution_count": 14,
     "metadata": {},
     "output_type": "execute_result"
    }
   ],
   "source": [
    "ev.mjdref"
   ]
  },
  {
   "cell_type": "code",
   "execution_count": 15,
   "metadata": {},
   "outputs": [
    {
     "data": {
      "text/plain": [
       "array([[80000000., 80001025.]], dtype=float128)"
      ]
     },
     "execution_count": 15,
     "metadata": {},
     "output_type": "execute_result"
    }
   ],
   "source": [
    "ev.gti"
   ]
  },
  {
   "cell_type": "markdown",
   "metadata": {},
   "source": [
    "## Roundtrip to pickle objects\n",
    "\n",
    "It is possible to save and load eventlist objects using `pickle`."
   ]
  },
  {
   "cell_type": "code",
   "execution_count": 16,
   "metadata": {},
   "outputs": [
    {
     "data": {
      "text/plain": [
       "(True, True)"
      ]
     },
     "execution_count": 16,
     "metadata": {},
     "output_type": "execute_result"
    }
   ],
   "source": [
    "ev.write(\"events.p\", \"pickle\")\n",
    "ev2 = EventList.read(\"events.p\", \"pickle\")\n",
    "\n",
    "np.allclose(ev2.time, ev.time), np.allclose(ev2.gti, ev.gti)"
   ]
  },
  {
   "cell_type": "markdown",
   "metadata": {},
   "source": [
    "## Roundtrip to Astropy-compatible formats\n",
    "\n",
    "If the `read` and `write` methods receive a format which is not `hea`, `ogip`, or `pickle`, the event list is transformed into an `Astropy` `Table` object with the methods described above, and the readers and writers from the `Table` class are used instead. This allows to extend the save/load operations to a large number of formats, including `hdf5` and enhanced CSV (`ascii.ecsv`).\n",
    "\n",
    "Note that columns coming from the `EVENTS` (or equivalent) fits extension, those having the same length as `time`, when converting to `astropy` tables they become columns of the table. All the others, including `gti`, are treated as metadata.\n",
    "\n",
    "Care should be used in selecting formats that preserve metadata. For example, simple CSV format loses all metadata, including MJDREF, GTIs etc."
   ]
  },
  {
   "cell_type": "code",
   "execution_count": 18,
   "metadata": {},
   "outputs": [
    {
     "name": "stderr",
     "output_type": "stream",
     "text": [
      "/home/saurav/.local/lib/python3.12/site-packages/astropy/io/misc/hdf5.py:282: UserWarning: table path was not set via the path= argument; using default path __astropy_table__\n",
      "  warnings.warn(\n"
     ]
    },
    {
     "data": {
      "text/plain": [
       "array([80000617.17802332, 80000353.19656566, 80000056.48970987,\n",
       "       80000067.34170531, 80000637.37147714, 80000777.77507702,\n",
       "       80000158.56582601, 80000630.68285809, 80000562.67902566,\n",
       "       80000816.81600319], dtype=float128)"
      ]
     },
     "execution_count": 18,
     "metadata": {},
     "output_type": "execute_result"
    }
   ],
   "source": [
    "ev.write(\"events.hdf5\", \"hdf5\")\n",
    "ev3 = EventList.read(\"events.hdf5\", \"hdf5\")\n",
    "ev3.time[:10]"
   ]
  },
  {
   "cell_type": "code",
   "execution_count": 19,
   "metadata": {},
   "outputs": [
    {
     "name": "stdout",
     "output_type": "stream",
     "text": [
      "# %ECSV 1.0\n",
      "# ---\n",
      "# datatype:\n",
      "# - {name: energy, datatype: float64}\n",
      "# - {name: pi, datatype: int32}\n",
      "# - {name: time, datatype: float128}\n",
      "# meta: !!omap\n",
      "# - {detector_key: NONE}\n",
      "# - {dt: 0}\n",
      "# - {gtistring: GTI}\n",
      "# - {hduname: EVENTS}\n",
      "# - {header: 'XTENSION= ''BINTABLE''           / binary table extension                         BITPIX  =                    8 / array\n",
      "#     data type                                NAXIS   =                    2 / number of array dimensions                     NAXIS1  =                   12\n",
      "#     / length of dimension 1                          NAXIS2  =                 1000 / length of dimension 2                          PCOUNT  =                    0\n",
      "#     / number of group parameters                     GCOUNT  =                    1 / number of groups                               TFIELDS\n",
      "#     =                    2 / number of table fields                         TTYPE1  = ''TIME    ''                                                            TFORM1  =\n",
      "#     ''1D      ''                                                            TTYPE2  = ''PI      ''                                                            TFORM2  =\n",
      "#     ''1J      ''                                                            EXTNAME = ''EVENTS  ''           / extension name                                 OBSERVER=\n",
      "#     ''Edwige Bubble''                                                       TELESCOP= ''NuSTAR  ''           / Telescope (mission) name                       INSTRUME=\n",
      "#     ''FPMA    ''           / Instrument name                                OBS_ID  = ''00000000001''        / Observation ID                                 TARG_ID\n",
      "#     =                    0 / Target ID                                      OBJECT  = ''Fake X-1''           / Name of observed object                        RA_OBJ  =                  0.0\n",
      "#     / [deg] R.A. Object                              DEC_OBJ =                  0.0 / [deg] Dec Object                               RA_NOM  =                  0.0\n",
      "#     / Right Ascension used for barycenter correctionsDEC_NOM =                  0.0 / Declination used for barycenter corrections    RA_PNT  =                  0.0\n",
      "#     / [deg] RA pointing                              DEC_PNT =                  0.0 / [deg] Dec pointing                             PA_PNT  =                  0.0\n",
      "#     / [deg] Position angle (roll)                    EQUINOX =               2000.0 / Equinox of celestial coord system              RADECSYS=\n",
      "#     ''FK5     ''           / Coordinate Reference System                    TASSIGN = ''SATELLITE''          / Time assigned by onboard\n",
      "#     clock                 TIMESYS = ''TDB     ''           / All times in this file are TDB                 MJDREFI =                55197\n",
      "#     / TDB time reference; Modified Julian Day (int)  MJDREFF =        0.00076601852 / TDB time reference; Modified Julian Day (frac)\n",
      "#     TIMEREF = ''SOLARSYSTEM''        / Times are pathlength-corrected to barycenter   CLOCKAPP=                    F / TRUE if timestamps\n",
      "#     corrected by gnd sware      TIMEUNIT= ''s       ''           / unit for time keywords                         TSTART  =           80000000.0\n",
      "#     / Elapsed seconds since MJDREF at start of file  TSTOP   =           80001025.0 / Elapsed seconds since MJDREF at end of file    LIVETIME=               1025.0\n",
      "#     / On-source time                                 TIMEZERO=                  0.0 / Time Zero                                      COMMENT\n",
      "#     FITS (Flexible Image Transport System) format is defined in ''Astronomy aCOMMENT nd Astrophysics'', volume 376, page 359; bibcode:\n",
      "#     2001A&A...376..359H    COMMENT MJDREFI+MJDREFF = epoch of Jan 1, 2010, in TT time system.              HISTORY File modified by\n",
      "#     user ''meo'' with fv  on 2015-08-17T14:10:02             HISTORY File modified by user ''meo'' with fv  on 2015-08-17T14:48:52             END                                                                                                                                                                                                                                                                                                                                                                                                                                                                                                                                                                                                                                                                                                                                                                                                                                                                                                                                                                                                                                                                                                                                                                                                                                                                                                                                                                                                                                                                                                                                                                                                                                                                                                                                                                                                                                                                                                                                                                                                                                                                                                                                                                                                                                                                                                                             '}\n",
      "# - {high_precision: false}\n",
      "# - {instr: FPMA}\n",
      "# - {mission: nustar}\n",
      "# - {mjdref: 55197.00076601852}\n",
      "# - {notes: ''}\n",
      "# - {nphot: 1000}\n",
      "# - {obsid: '00000000001'}\n",
      "# - {pi_column: PI}\n",
      "# - {t_start: 80000000.0}\n",
      "# - {t_stop: 80001025.0}\n",
      "# - {time_column: TIME}\n",
      "# - {timeref: solarsystem}\n",
      "# - {timesys: tdb}\n",
      "# - {timezero: 0.0}\n",
      "# - gti: !numpy.ndarray\n",
      "#     buffer: !!binary |\n",
      "#       QUFBQUFBQ0FscGdaUUJZUzlYRUFBQUFBQUFBZ0FKZVlHVUFBQUFBQUFBQT0=\n",
      "#     dtype: float128\n",
      "#     order: C\n",
      "#     shape: !!python/tuple [1, 2]\n",
      "# schema: astropy-2.0\n",
      "energy pi time\n",
      "23.220000000000002 540 80000617.17802332342\n",
      "36.78 879 80000353.196565657854\n",
      "14.34 318 80000056.48970986903\n",
      "35.339999999999996 843 80000067.341705307364\n",
      "8.58 174 80000637.371477141976\n",
      "12.5 272 80000777.77507701516\n",
      "2.9800000000000004 34 80000158.565826013684\n",
      "39.339999999999996 943 80000630.68285809457\n",
      "17.900000000000002 407 80000562.679025664926\n",
      "6.7 127 80000816.81600318849\n",
      "30.42 720 80000208.40996426344\n",
      "22.3 517 80000452.064453706145\n",
      "15.420000000000002 345 80000968.338882282376\n",
      "12.66 276 80000083.704568862915\n",
      "11.379999999999999 244 80000344.206543818116\n",
      "8.34 168 80000959.38979135454\n",
      "20.82 480 80000362.92154058814\n",
      "30.94 733 80000318.496204048395\n",
      "30.82 730 80000990.79127365351\n",
      "2.2600000000000002 16 80000354.17744512856\n",
      "18.94 433 80000243.34091578424\n",
      "41.86 1006 80000851.28334981203\n",
      "7.74 153 80000671.198174357414\n",
      "3.18 39 80000980.572394132614\n",
      "37.94 908 80000399.54459910095\n",
      "13.780000000000001 304 80000831.20006233454\n",
      "5.86 106 80000278.78952820599\n",
      "29.020000000000003 685 80000550.60222132504\n",
      "3.38 44 80000664.552283763885\n",
      "12.66 276 80000907.07798694074\n",
      "13.219999999999999 290 80000905.648124307394\n",
      "39.82 955 80001003.1178855896\n",
      "10.7 227 80000014.26073910296\n",
      "2.46 21 80000195.17524069548\n",
      "29.3 692 80000780.933462917805\n",
      "7.0200000000000005 135 80000428.54412809014\n",
      "16.78 379 80000905.63441582024\n",
      "6.220000000000001 115 80000939.08911083639\n",
      "4.42 70 80000148.20213320851\n",
      "1.98 9 80000738.45621095598\n",
      "41.54 998 80000025.95996727049\n",
      "29.180000000000003 689 80000486.771085351706\n",
      "33.26 791 80000520.51779472828\n",
      "33.1 787 80000956.38345962763\n",
      "17.78 404 80000021.14855520427\n",
      "34.019999999999996 810 80000881.185400635004\n",
      "20.740000000000002 478 80000404.22769507766\n",
      "9.86 206 80000191.63218219578\n",
      "15.620000000000001 350 80000882.22257082164\n",
      "35.26 841 80000996.557712092996\n",
      "41.42 995 80000028.596908301115\n",
      "30.62 725 80000429.38063727319\n",
      "2.9800000000000004 34 80000375.620239943266\n",
      "37.46 896 80000164.03886182606\n",
      "11.34 243 80000630.789920687675\n",
      "3.38 44 80000038.39090189338\n",
      "9.06 186 80000326.018922537565\n",
      "31.740000000000002 753 80000777.79259891808\n",
      "2.66 26 80000646.53795617819\n",
      "7.78 154 80000084.73323458433\n",
      "6.58 124 80001023.587887212634\n",
      "8.02 160 80000001.78458866477\n",
      "38.339999999999996 918 80000020.76013682783\n",
      "40.54 973 80000224.71057784557\n",
      "14.620000000000001 325 80000446.023702159524\n",
      "11.82 255 80000702.62369687855\n",
      "26.700000000000003 627 80000657.258827999234\n",
      "5.66 101 80000085.518022567034\n",
      "11.219999999999999 240 80000854.87065626681\n",
      "33.739999999999995 803 80000426.62731541693\n",
      "22.020000000000003 510 80000217.02722400427\n",
      "4.140000000000001 63 80000359.16175606847\n",
      "2.18 14 80000911.29370170832\n",
      "22.1 512 80000076.15446573496\n",
      "33.06 786 80000001.47479322553\n",
      "11.66 251 80000964.24332383275\n",
      "33.42 795 80000176.43801294267\n",
      "11.899999999999999 257 80000808.28512185812\n",
      "41.86 1006 80000613.84575891495\n",
      "35.5 847 80000893.56059738994\n",
      "28.180000000000003 664 80000393.17818275094\n",
      "17.18 389 80000762.42036630213\n",
      "11.46 246 80000705.599841311574\n",
      "37.66 901 80000623.85770910978\n",
      "8.58 174 80000000.23635569215\n",
      "40.94 983 80000805.29773187637\n",
      "29.26 691 80000531.12523216009\n",
      "23.66 551 80000437.577606111765\n",
      "18.3 417 80000534.83431440592\n",
      "36.78 879 80000316.52630840242\n",
      "40.98 984 80000264.96524555981\n",
      "27.020000000000003 635 80000277.24329108\n",
      "32.78 779 80000275.81958813965\n",
      "33.62 800 80000866.084478631616\n",
      "41.739999999999995 1003 80000255.60727831721\n",
      "14.18 314 80000283.60641156137\n",
      "18.02 410 80000743.84713715315\n",
      "31.900000000000002 757 80000567.06900238991\n",
      "40.5 972 80000988.17710210383\n",
      "34.46 821 80000870.65760450065\n",
      "39.82 955 80000484.80663745105\n",
      "10.3 217 80000645.594902947545\n",
      "18.900000000000002 432 80000922.45012420416\n",
      "40.46 971 80000697.02309130132\n",
      "7.98 159 80000722.478862181306\n",
      "4.42 70 80000731.42920610309\n",
      "37.3 892 80000174.15144339204\n",
      "29.3 692 80000373.8585408777\n",
      "36.379999999999995 869 80000985.01507012546\n",
      "33.34 793 80000122.93073017895\n",
      "24.66 576 80000792.274298503995\n",
      "35.339999999999996 843 80000481.06054444611\n",
      "14.100000000000001 312 80000182.2385392189\n",
      "22.020000000000003 510 80000686.74407067895\n",
      "36.78 879 80000033.85146795213\n",
      "3.1 37 80000434.64868846536\n",
      "34.1 812 80000821.329228281975\n",
      "10.54 223 80000997.22821688652\n",
      "4.34 68 80000546.84028501809\n",
      "34.22 815 80000674.87888632715\n",
      "4.42 70 80000310.67230030894\n",
      "13.219999999999999 290 80000345.654379203916\n",
      "3.0200000000000005 35 80000251.49163559079\n",
      "6.58 124 80000011.8733625412\n",
      "2.58 24 80000189.59268042445\n",
      "34.339999999999996 818 80000078.37191092968\n",
      "18.700000000000003 427 80000278.52543953061\n",
      "2.1 12 80000534.87653042376\n",
      "20.82 480 80000742.58448088169\n",
      "4.300000000000001 67 80000086.06328216195\n",
      "34.3 817 80000204.7061804533\n",
      "16.46 371 80000646.383003011346\n",
      "32.82 780 80000866.850857138634\n",
      "8.5 172 80000925.23763982952\n",
      "17.22 390 80000099.199268594384\n",
      "42.339999999999996 1018 80000688.81981065869\n",
      "29.66 701 80000136.81391918659\n",
      "41.26 991 80000867.7263391763\n",
      "34.58 824 80000617.35718101263\n",
      "21.380000000000003 494 80000808.454649567604\n",
      "41.26 991 80000722.03180555999\n",
      "4.7 77 80000316.991498693824\n",
      "10.780000000000001 229 80000150.13331639767\n",
      "4.46 71 80000318.759574487805\n",
      "14.5 322 80000443.238895997405\n",
      "40.82 980 80000533.20108996332\n",
      "23.66 551 80000902.81782488525\n",
      "25.860000000000003 606 80000382.22792515159\n",
      "11.5 247 80000938.685712620616\n",
      "36.339999999999996 868 80000305.32900521159\n",
      "13.34 293 80000893.43082770705\n",
      "35.66 851 80000751.55830208957\n",
      "14.420000000000002 320 80000899.37754881382\n",
      "35.3 842 80000753.76198838651\n",
      "8.940000000000001 183 80000381.10625052452\n",
      "15.420000000000002 345 80000197.01553657651\n",
      "17.34 393 80000720.5562723279\n",
      "39.42 945 80000213.37501113117\n",
      "38.66 926 80000785.342386975884\n",
      "36.5 872 80000716.780457377434\n",
      "17.42 395 80000851.654990166426\n",
      "29.34 693 80000948.85667587817\n",
      "2.7 27 80000324.23196092248\n",
      "8.82 180 80000821.52698163688\n",
      "21.3 492 80000248.63243843615\n",
      "7.220000000000001 140 80000285.59601339698\n",
      "22.860000000000003 531 80000648.47574129701\n",
      "1.78 4 80000236.03008031845\n",
      "40.14 963 80000355.82318587601\n",
      "9.34 193 80000347.35750260949\n",
      "33.1 787 80000890.74508482218\n",
      "11.14 238 80000519.38823206723\n",
      "22.540000000000003 523 80000469.8745007813\n",
      "8.54 173 80000190.39239893854\n",
      "30.5 722 80000632.821838498116\n",
      "39.66 951 80000897.77023650706\n",
      "14.379999999999999 319 80000130.30537183583\n",
      "6.34 118 80000581.21821717918\n",
      "28.220000000000002 665 80000916.50571863353\n",
      "37.58 899 80000288.457227408886\n",
      "36.5 872 80000761.603752076626\n",
      "37.22 890 80000392.62231977284\n",
      "11.219999999999999 240 80000709.846471622586\n",
      "31.900000000000002 757 80000828.63124883175\n",
      "33.02 785 80000233.858214601874\n",
      "6.78 129 80000758.372802481055\n",
      "24.020000000000003 560 80000829.2215629518\n",
      "11.899999999999999 257 80000831.21613633633\n",
      "1.9400000000000002 8 80000713.0795609951\n",
      "40.9 982 80000482.9210729748\n",
      "22.46 521 80000246.23444570601\n",
      "25.700000000000003 602 80000936.549025550485\n",
      "24.380000000000003 569 80000481.933602169156\n",
      "23.98 559 80000705.433091163635\n",
      "7.140000000000001 138 80000606.650620505214\n",
      "11.54 248 80000393.43643279374\n",
      "1.9400000000000002 8 80000412.81054663658\n",
      "29.62 700 80000107.40127386153\n",
      "2.66 26 80000950.1588781476\n",
      "6.58 124 80000181.358734831214\n",
      "13.14 288 80000102.76762147248\n",
      "36.46 871 80000064.78927731514\n",
      "3.3 42 80000577.082364201546\n",
      "3.54 48 80000733.991308033466\n",
      "3.18 39 80000819.00975045562\n",
      "33.38 794 80000516.99862577021\n",
      "28.78 679 80000974.80595380068\n",
      "28.14 663 80000509.95569059253\n",
      "7.7 152 80000359.8546615839\n",
      "33.34 793 80000662.64840815961\n",
      "4.7 77 80000790.072870031\n",
      "17.22 390 80000216.721879810095\n",
      "10.740000000000002 228 80000469.84887549281\n",
      "26.1 612 80000068.267971634865\n",
      "3.2600000000000002 41 80000306.89711469412\n",
      "40.339999999999996 968 80000425.867245197296\n",
      "32.1 762 80000933.627166330814\n",
      "41.66 1001 80000663.12676268816\n",
      "7.3 142 80000856.83493223786\n",
      "31.78 754 80000843.41804847121\n",
      "39.18 939 80000705.296378955245\n",
      "2.62 25 80000395.12563699484\n",
      "35.66 851 80000658.74945259094\n",
      "39.059999999999995 936 80000087.00356020033\n",
      "13.580000000000002 299 80000242.91226673126\n",
      "40.339999999999996 968 80000468.7550342083\n",
      "8.34 168 80000945.91892364621\n",
      "18.380000000000003 419 80000311.17736788094\n",
      "39.66 951 80000323.76615965366\n",
      "12.86 281 80001018.01935687661\n",
      "1.82 5 80000233.628895014524\n",
      "26.62 625 80000146.93531550467\n",
      "27.42 645 80000666.08528217673\n",
      "37.9 907 80000351.124539494514\n",
      "42.339999999999996 1018 80000865.72700405121\n",
      "5.34 93 80000830.33870181441\n",
      "6.46 121 80000127.45361994207\n",
      "4.220000000000001 65 80000980.43536031246\n",
      "7.86 156 80000424.81564453244\n",
      "25.220000000000002 590 80000494.31928488612\n",
      "19.82 455 80000258.60432396829\n",
      "25.46 596 80000251.50295473635\n",
      "5.54 98 80000724.7961999625\n",
      "4.78 79 80000782.172751545906\n",
      "10.379999999999999 219 80000357.642409190536\n",
      "40.379999999999995 969 80000203.48255087435\n",
      "12.379999999999999 269 80000779.33480271697\n",
      "24.860000000000003 581 80000634.78217072785\n",
      "21.98 509 80000414.8682410419\n",
      "20.18 464 80000200.066078454256\n",
      "9.06 186 80000079.364117503166\n",
      "37.1 887 80000127.336458325386\n",
      "39.339999999999996 943 80000558.947059229016\n",
      "9.54 198 80000586.03360375762\n",
      "15.580000000000002 349 80000611.37006236613\n",
      "40.54 973 80001015.44013249874\n",
      "10.940000000000001 233 80000448.83636845648\n",
      "2.7 27 80000335.46171656251\n",
      "31.580000000000002 749 80000509.140583753586\n",
      "3.1 37 80000549.5327937603\n",
      "22.14 513 80000583.46193483472\n",
      "5.18 89 80000496.85824956\n",
      "3.42 45 80000579.63681046665\n",
      "14.5 322 80000869.2763479501\n",
      "22.66 526 80000779.554390221834\n",
      "32.74 778 80000147.86272408068\n",
      "32.98 784 80000345.00482337177\n",
      "27.78 654 80000701.87561401725\n",
      "21.580000000000002 499 80000884.97935457528\n",
      "34.059999999999995 811 80000438.70308248699\n",
      "2.54 23 80000302.07161732018\n",
      "17.46 396 80000660.63745248318\n",
      "7.1000000000000005 137 80000177.71353569627\n",
      "2.38 19 80000442.052734196186\n",
      "15.379999999999999 344 80000751.06558699906\n",
      "9.7 202 80001007.618157073855\n",
      "32.42 770 80000111.27798360586\n",
      "18.540000000000003 423 80000803.731096595526\n",
      "18.580000000000002 424 80000558.82404534519\n",
      "16.38 369 80000732.61377693713\n",
      "21.380000000000003 494 80000059.284333616495\n",
      "4.46 71 80000268.235334053636\n",
      "2.58 24 80000302.72473844886\n",
      "24.700000000000003 577 80000828.5048404783\n",
      "10.780000000000001 229 80000464.33307418227\n",
      "14.059999999999999 311 80000148.998638793826\n",
      "5.78 104 80000339.16872346401\n",
      "25.020000000000003 585 80000827.12451052666\n",
      "20.34 468 80000901.48123975098\n",
      "14.18 314 80000487.990593642\n",
      "24.62 575 80000532.10568276048\n",
      "25.220000000000002 590 80000901.972453475\n",
      "23.540000000000003 548 80000176.110384613276\n",
      "15.580000000000002 349 80000428.88726851344\n",
      "42.46 1021 80000701.39014860988\n",
      "34.46 821 80000374.64683301747\n",
      "19.860000000000003 456 80000537.48509004712\n",
      "5.300000000000001 92 80000841.037233412266\n",
      "26.180000000000003 614 80000481.98567260802\n",
      "31.220000000000002 740 80000686.81872756779\n",
      "27.900000000000002 657 80000702.988359063864\n",
      "11.740000000000002 253 80000886.4507638216\n",
      "18.380000000000003 419 80001000.09518702328\n",
      "14.46 321 80000162.67192919552\n",
      "20.580000000000002 474 80000786.1086602211\n",
      "22.900000000000002 532 80000655.68533721566\n",
      "2.54 23 80000345.26880034804\n",
      "9.46 196 80000792.443054273725\n",
      "12.780000000000001 279 80000445.098355308175\n",
      "6.74 128 80000279.47431126237\n",
      "25.46 596 80000169.68685694039\n",
      "22.5 522 80000572.77767854929\n",
      "24.94 583 80000566.29958720505\n",
      "20.220000000000002 465 80000112.93057106435\n",
      "14.620000000000001 325 80000495.4605127275\n",
      "8.06 161 80000191.39765946567\n",
      "12.059999999999999 261 80000202.814891934395\n",
      "38.9 932 80000095.04941494763\n",
      "18.02 410 80000805.306009307504\n",
      "36.58 874 80000031.10555113852\n",
      "31.220000000000002 740 80000845.57550364733\n",
      "33.86 806 80000261.36898006499\n",
      "24.34 568 80000117.5390470773\n",
      "12.620000000000001 275 80000523.057834371924\n",
      "31.860000000000003 756 80000473.21885484457\n",
      "31.82 755 80000412.219870209694\n",
      "34.739999999999995 828 80000229.982017084956\n",
      "16.42 370 80000356.5162641108\n",
      "10.260000000000002 216 80000561.323437169194\n",
      "29.740000000000002 703 80000560.70387540758\n",
      "30.66 726 80001023.69297429919\n",
      "11.86 256 80000487.217004179955\n",
      "38.94 933 80000339.03143580258\n",
      "11.82 255 80000680.48982979357\n",
      "35.18 839 80000781.15924490988\n",
      "35.82 855 80000422.02582614124\n",
      "29.34 693 80000098.92884159088\n",
      "41.3 992 80000765.93857854605\n",
      "5.86 106 80000340.41478018463\n",
      "27.62 650 80000920.63476088643\n",
      "2.18 14 80000608.090855017304\n",
      "8.379999999999999 169 80000525.05073848367\n",
      "17.02 385 80000534.29738210142\n",
      "34.1 812 80000382.22633959353\n",
      "34.019999999999996 810 80000661.82945792377\n",
      "17.22 390 80000363.773983463645\n",
      "33.62 800 80000787.553292140365\n",
      "34.419999999999995 820 80000373.43823419511\n",
      "13.5 297 80000904.27971172333\n",
      "5.46 96 80000797.14426906407\n",
      "20.34 468 80000952.52954874933\n",
      "2.42 20 80000435.51728320122\n",
      "31.180000000000003 739 80000599.64194495976\n",
      "20.18 464 80000691.197261437774\n",
      "31.060000000000002 736 80000803.51909430325\n",
      "5.98 109 80000420.942480519414\n",
      "29.62 700 80000190.987773641944\n",
      "31.1 737 80000225.81306296587\n",
      "32.06 761 80001001.49414373934\n",
      "11.780000000000001 254 80000904.998699590564\n",
      "37.059999999999995 886 80000418.38563929498\n",
      "31.82 755 80000866.50517678261\n",
      "19.82 455 80000657.33367057145\n",
      "25.62 600 80000966.99032564461\n",
      "37.94 908 80000565.78528097272\n",
      "27.42 645 80000472.30986727774\n",
      "21.46 496 80000859.509354412556\n",
      "36.3 867 80000994.527631640434\n",
      "21.380000000000003 494 80000858.589912459254\n",
      "32.5 772 80000289.74665103853\n",
      "36.22 865 80000275.30799421668\n",
      "8.14 163 80000836.71061439812\n",
      "3.2600000000000002 41 80000054.28180256486\n",
      "19.580000000000002 449 80000837.03853216767\n",
      "1.98 9 80000420.47344271839\n",
      "20.98 484 80000944.63000917435\n",
      "42.3 1017 80000090.20357654989\n",
      "21.740000000000002 503 80000991.06344228983\n",
      "25.900000000000002 607 80000230.13939705491\n",
      "14.5 322 80000792.808876529336\n",
      "24.900000000000002 582 80000344.78012427688\n",
      "34.1 812 80000466.34134361148\n",
      "42.379999999999995 1019 80000569.15245625377\n",
      "10.260000000000002 216 80000214.76189556718\n",
      "20.66 476 80000618.9578525275\n",
      "27.26 641 80000910.33445057273\n",
      "13.940000000000001 308 80000004.079430028796\n",
      "21.020000000000003 485 80000228.288003221154\n",
      "10.940000000000001 233 80000863.23499922454\n",
      "18.580000000000002 424 80000547.30754908919\n",
      "21.3 492 80000013.92633379996\n",
      "18.220000000000002 415 80000262.99845524132\n",
      "29.78 704 80000023.50157275796\n",
      "41.62 1000 80000158.27798460424\n",
      "24.3 567 80000032.808356150985\n",
      "29.380000000000003 694 80000742.26487219334\n",
      "2.06 11 80000906.234885290265\n",
      "6.9 132 80000673.345912232995\n",
      "22.380000000000003 519 80000113.545409321785\n",
      "21.82 505 80000132.877141192555\n",
      "26.34 618 80000452.9472001791\n",
      "2.8200000000000003 30 80000383.94620233774\n",
      "21.860000000000003 506 80000291.23198154569\n",
      "35.86 856 80000073.4422865361\n",
      "34.58 824 80000136.59682570398\n",
      "12.219999999999999 265 80000914.1802495867\n",
      "41.26 991 80000464.06256014109\n",
      "29.540000000000003 698 80000753.15865902603\n",
      "12.18 264 80000495.14925374091\n",
      "27.3 642 80000941.77238176763\n",
      "29.46 696 80000144.258596763015\n",
      "9.14 188 80000752.72337460518\n",
      "27.860000000000003 656 80000885.29664757848\n",
      "13.580000000000002 299 80001015.068401411176\n",
      "19.740000000000002 453 80000871.05340576172\n",
      "16.98 384 80000990.097374781966\n",
      "11.7 252 80000570.583770141006\n",
      "39.1 937 80000670.71755500138\n",
      "40.66 976 80000325.76096495986\n",
      "19.3 442 80000682.686058193445\n",
      "10.54 223 80000824.66023361683\n",
      "35.58 849 80000578.60487310588\n",
      "29.180000000000003 689 80000759.892510056496\n",
      "7.34 143 80000218.21801964939\n",
      "8.46 171 80000950.502268999815\n",
      "40.82 980 80000749.36030867696\n",
      "13.780000000000001 304 80000123.276563555\n",
      "39.14 938 80000178.329968214035\n",
      "30.580000000000002 724 80000125.6568851918\n",
      "32.74 778 80000795.91278010607\n",
      "4.42 70 80000481.37218731642\n",
      "42.22 1015 80000088.44739763439\n",
      "29.34 693 80000722.03699606657\n",
      "8.9 182 80000107.33343601227\n",
      "4.54 73 80000305.93047915399\n",
      "10.100000000000001 212 80000452.13652163744\n",
      "41.059999999999995 986 80000172.42077590525\n",
      "16.66 376 80000408.95574080944\n",
      "34.26 816 80000131.993975520134\n",
      "37.739999999999995 903 80000540.1134250015\n",
      "25.78 604 80000120.67677563429\n",
      "36.059999999999995 861 80000874.73376466334\n",
      "30.580000000000002 724 80000252.272911697626\n",
      "4.26 66 80000045.52997684479\n",
      "38.42 920 80000903.59163464606\n",
      "30.78 729 80000174.80246704817\n",
      "38.3 917 80000734.417156770825\n",
      "24.66 576 80000781.26206161082\n",
      "37.86 906 80000006.09310323\n",
      "22.78 529 80000271.489329367876\n",
      "42.42 1020 80000080.12182110548\n",
      "38.5 922 80000698.11148573458\n",
      "37.5 897 80000262.92271217704\n",
      "36.019999999999996 860 80000378.97707155347\n",
      "27.900000000000002 657 80000550.56298401952\n",
      "39.26 941 80000621.2265856415\n",
      "41.94 1008 80000534.895185917616\n",
      "25.900000000000002 607 80001017.91779854894\n",
      "10.02 210 80000118.64352825284\n",
      "28.94 683 80000491.276099190116\n",
      "41.339999999999996 993 80000996.40901064873\n",
      "9.5 197 80000438.05216662586\n",
      "32.86 781 80000476.96122226119\n",
      "30.98 734 80000928.05741724372\n",
      "15.580000000000002 349 80000594.91821274161\n",
      "23.98 559 80000271.64101035893\n",
      "36.22 865 80000635.88681785762\n",
      "34.419999999999995 820 80000458.18602730334\n",
      "37.14 888 80000384.37110866606\n",
      "33.699999999999996 802 80000816.80518731475\n",
      "38.82 930 80000253.836741268635\n",
      "2.18 14 80000174.10814335942\n",
      "13.620000000000001 300 80000833.69929590821\n",
      "7.0200000000000005 135 80000745.445721656084\n",
      "32.22 765 80000096.56686630845\n",
      "17.22 390 80000300.818491622806\n",
      "7.0600000000000005 136 80000865.590956673026\n",
      "14.3 317 80000960.34404800832\n",
      "29.740000000000002 703 80000988.92275629938\n",
      "33.98 809 80000187.16848820448\n",
      "29.580000000000002 699 80000815.974775359035\n",
      "26.860000000000003 631 80000728.90236452222\n",
      "15.46 346 80000214.94751133025\n",
      "24.66 576 80000574.140301436186\n",
      "21.66 501 80000063.666031733155\n",
      "38.019999999999996 910 80000491.747016862035\n",
      "6.220000000000001 115 80000332.54631538689\n",
      "4.220000000000001 65 80000730.81428743899\n",
      "23.26 541 80000565.76752875745\n",
      "24.060000000000002 561 80000850.423752725124\n",
      "3.98 59 80000999.59336720407\n",
      "40.019999999999996 960 80000365.48620200157\n",
      "25.3 592 80000860.59416265786\n",
      "32.38 769 80000378.87894229591\n",
      "17.26 391 80000603.4955958724\n",
      "40.26 966 80000983.25735516846\n",
      "4.58 74 80000508.07841642201\n",
      "34.62 825 80000785.92007930577\n",
      "32.18 764 80000803.883781552315\n",
      "27.66 651 80000142.301297202706\n",
      "37.18 889 80000595.397889867425\n",
      "11.66 251 80000676.64919489622\n",
      "11.3 242 80000825.05113039911\n",
      "39.82 955 80000951.22832208872\n",
      "8.260000000000002 166 80000107.56737007201\n",
      "2.9000000000000004 32 80000748.3739194572\n",
      "24.42 570 80000995.25695282221\n",
      "39.019999999999996 935 80000851.67317868769\n",
      "19.42 445 80000712.899810910225\n",
      "20.46 471 80000387.87746040523\n",
      "9.66 201 80000945.404179006815\n",
      "23.5 547 80000534.340845018625\n",
      "25.540000000000003 598 80000909.368400886655\n",
      "24.94 583 80000650.1061706841\n",
      "41.739999999999995 1003 80000420.863403081894\n",
      "2.62 25 80000626.21549396217\n",
      "28.42 670 80000074.7710172981\n",
      "37.86 906 80000379.917373120785\n",
      "32.14 763 80000330.33366891742\n",
      "35.78 854 80000755.37613813579\n",
      "33.66 801 80000009.69214613736\n",
      "32.26 766 80000092.89413803816\n",
      "41.18 989 80000836.12533031404\n",
      "10.620000000000001 225 80000034.861510172486\n",
      "19.740000000000002 453 80000031.065731182694\n",
      "6.5 122 80000661.90170559287\n",
      "2.18 14 80000172.43760578334\n",
      "7.86 156 80000602.55246156454\n",
      "4.66 76 80000484.32165810466\n",
      "30.82 730 80000325.30946139991\n",
      "42.379999999999995 1019 80000346.41354955733\n",
      "23.34 543 80000027.089139238\n",
      "35.9 857 80000271.98798702657\n",
      "2.34 18 80000949.93122699857\n",
      "29.66 701 80000076.61943152547\n",
      "35.739999999999995 853 80000098.67825654149\n",
      "17.3 392 80000786.253573834896\n",
      "16.14 363 80000467.884447038174\n",
      "37.5 897 80000194.591946706176\n",
      "7.98 159 80000058.55781446397\n",
      "2.8600000000000003 31 80000709.3684746474\n",
      "39.3 942 80000480.92292739451\n",
      "41.699999999999996 1002 80000370.6534255296\n",
      "18.18 414 80000621.38765838742\n",
      "38.3 917 80000986.77888666093\n",
      "27.020000000000003 635 80000711.9785169363\n",
      "27.94 658 80000416.70795631409\n",
      "28.14 663 80000574.51526069641\n",
      "35.5 847 80000844.98050430417\n",
      "42.379999999999995 1019 80000260.50080451369\n",
      "28.42 670 80000836.78514607251\n",
      "9.22 190 80000645.93502403796\n",
      "7.46 146 80000855.74864292145\n",
      "10.82 230 80000593.13316428661\n",
      "39.46 946 80000933.76277536154\n",
      "5.140000000000001 88 80000122.545517489314\n",
      "5.74 103 80000579.25371134281\n",
      "8.260000000000002 166 80000311.37703952193\n",
      "37.18 889 80000125.506356075406\n",
      "12.3 267 80000926.283655911684\n",
      "26.180000000000003 614 80000730.33039654791\n",
      "8.02 160 80000621.735619053245\n",
      "34.14 813 80001017.49642172456\n",
      "35.94 858 80000502.43506611884\n",
      "30.900000000000002 732 80000355.20202793181\n",
      "36.9 882 80000235.58721217513\n",
      "24.1 562 80000023.61806283891\n",
      "37.58 899 80000598.901824980974\n",
      "24.3 567 80000249.259784281254\n",
      "41.26 991 80000008.204034894705\n",
      "17.26 391 80000165.17495532334\n",
      "15.46 346 80000473.694500654936\n",
      "21.1 487 80000951.838016077876\n",
      "10.86 231 80000901.414481043816\n",
      "23.66 551 80000214.05003093183\n",
      "40.14 963 80000427.133511930704\n",
      "24.18 564 80000323.19316992164\n",
      "6.86 131 80000596.830532982945\n",
      "19.34 443 80000291.225027650595\n",
      "9.14 188 80000450.52947856486\n",
      "11.260000000000002 241 80000087.3983823657\n",
      "31.020000000000003 735 80000141.585879951715\n",
      "40.3 967 80000699.06620439887\n",
      "28.900000000000002 682 80000600.793473765254\n",
      "6.34 118 80000223.690936505795\n",
      "7.42 145 80000771.69804634154\n",
      "42.26 1016 80000239.206377997994\n",
      "27.860000000000003 656 80000002.789436236024\n",
      "17.5 397 80000340.533760264516\n",
      "16.740000000000002 378 80000969.143758147955\n",
      "38.82 930 80000332.161390304565\n",
      "12.5 272 80000506.024649724364\n",
      "14.5 322 80000563.95132599771\n",
      "42.1 1012 80000649.114930674434\n",
      "34.739999999999995 828 80000798.51847578585\n",
      "30.62 725 80000103.05724072456\n",
      "30.26 716 80000934.16055440903\n",
      "10.620000000000001 225 80000224.88408643007\n",
      "7.34 143 80001017.95813263953\n",
      "8.22 165 80000140.02283409238\n",
      "8.9 182 80000403.54358610511\n",
      "26.3 617 80000859.1553748399\n",
      "19.98 459 80000611.8572294265\n",
      "26.580000000000002 624 80000756.66476659477\n",
      "31.580000000000002 749 80000602.10744164884\n",
      "21.860000000000003 506 80000832.423598602414\n",
      "14.3 317 80000379.42757484317\n",
      "3.66 51 80000316.576121881604\n",
      "19.1 437 80000170.805011570454\n",
      "7.54 148 80001005.884933292866\n",
      "20.66 476 80000496.37845928967\n",
      "37.54 898 80000287.934347867966\n",
      "19.42 445 80000861.96652762592\n",
      "25.14 588 80000388.37795352936\n",
      "19.46 446 80000352.37143753469\n",
      "15.18 339 80000832.059845909476\n",
      "13.379999999999999 294 80000119.64161340892\n",
      "21.14 488 80000084.49645087123\n",
      "11.420000000000002 245 80000072.99266758561\n",
      "18.740000000000002 428 80001003.56476637721\n",
      "5.02 85 80000519.58020955324\n",
      "28.380000000000003 669 80000967.36089865863\n",
      "1.6600000000000001 1 80000290.879882499576\n",
      "1.9400000000000002 8 80000121.80093438923\n",
      "21.94 508 80000506.17142087221\n",
      "37.46 896 80000726.34677195549\n",
      "29.94 708 80000962.452562466264\n",
      "12.66 276 80000022.02460347116\n",
      "11.059999999999999 236 80000797.26987493038\n",
      "19.34 443 80000819.48453132808\n",
      "11.54 248 80000995.99297225475\n",
      "20.14 463 80000313.92710117996\n",
      "33.98 809 80000952.626723498106\n",
      "24.98 584 80000861.303189352155\n",
      "24.580000000000002 574 80000417.1444568038\n",
      "31.060000000000002 736 80000382.17598539591\n",
      "7.46 146 80000057.49698485434\n",
      "2.8200000000000003 30 80000685.43452076614\n",
      "2.7 27 80000389.268874913454\n",
      "11.98 259 80000997.93263950944\n",
      "14.100000000000001 312 80000129.43040788174\n",
      "40.62 975 80000975.95903091133\n",
      "11.740000000000002 253 80000163.52692268789\n",
      "42.379999999999995 1019 80000901.93236474693\n",
      "21.580000000000002 499 80000698.516439035535\n",
      "2.9400000000000004 33 80000122.09129279852\n",
      "41.66 1001 80000256.902037888765\n",
      "37.18 889 80000298.52665117383\n",
      "27.220000000000002 640 80000632.881889894605\n",
      "10.420000000000002 220 80000024.97833034396\n",
      "5.7 102 80000119.87085522711\n",
      "41.42 995 80000109.51361806691\n",
      "6.78 129 80000935.81169986725\n",
      "19.46 446 80000816.16485761106\n",
      "7.82 155 80000450.061449572444\n",
      "20.26 466 80000864.197188302875\n",
      "27.46 646 80000563.71705073118\n",
      "5.42 95 80000404.47602318227\n",
      "4.300000000000001 67 80000459.4572635144\n",
      "36.18 864 80000504.42526854575\n",
      "17.1 387 80000733.79874679446\n",
      "41.94 1008 80000729.3514444083\n",
      "42.5 1022 80000404.67004515231\n",
      "17.14 388 80000502.80815401673\n",
      "21.900000000000002 507 80000052.78282105923\n",
      "31.46 746 80000678.275382354856\n",
      "25.46 596 80000644.600917607546\n",
      "28.180000000000003 664 80000387.30780394375\n",
      "5.54 98 80000555.44246518612\n",
      "21.78 504 80000995.29652753472\n",
      "40.3 967 80000727.47035036981\n",
      "38.26 916 80000874.297571882606\n",
      "28.180000000000003 664 80000088.72279639542\n",
      "40.5 972 80000483.857440814376\n",
      "13.7 302 80000325.49627235532\n",
      "33.699999999999996 802 80000635.41563603282\n",
      "4.140000000000001 63 80000362.5537327677\n",
      "8.54 173 80000412.09823872149\n",
      "4.26 66 80000026.16019311547\n",
      "4.98 84 80000746.49740232527\n",
      "8.54 173 80000535.94042633474\n",
      "3.34 43 80000773.945546999574\n",
      "8.9 182 80000420.53409618139\n",
      "35.419999999999995 845 80000453.03071194887\n",
      "14.900000000000002 332 80000087.108956605196\n",
      "37.46 896 80000859.18091611564\n",
      "24.98 584 80000182.17984089255\n",
      "37.42 895 80000191.7998701334\n",
      "8.46 171 80000422.79813404381\n",
      "36.82 880 80000694.962600558996\n",
      "5.34 93 80000090.7642698288\n",
      "37.42 895 80000774.221253693104\n",
      "2.22 15 80000799.48481544852\n",
      "5.18 89 80000517.344923987985\n",
      "11.580000000000002 249 80000459.0324331224\n",
      "23.78 554 80000957.466738790274\n",
      "12.780000000000001 279 80000424.42955330014\n",
      "20.66 476 80000403.17735889554\n",
      "6.34 118 80000582.04014620185\n",
      "39.78 954 80000436.24377171695\n",
      "16.02 360 80000349.31582227349\n",
      "39.94 958 80000472.20344258845\n",
      "22.740000000000002 528 80000284.771769434214\n",
      "21.98 509 80000713.76596863568\n",
      "11.580000000000002 249 80000571.260604158044\n",
      "34.66 826 80000207.248482748866\n",
      "4.7 77 80000894.35489681363\n",
      "13.620000000000001 300 80000137.111403808\n",
      "23.580000000000002 549 80000328.51117782295\n",
      "27.3 642 80000510.86728909612\n",
      "37.339999999999996 893 80000333.515790537\n",
      "10.379999999999999 219 80000694.3066085726\n",
      "9.3 192 80000265.84508921206\n",
      "40.78 979 80000749.18420062959\n",
      "30.42 720 80000096.91533789039\n",
      "28.180000000000003 664 80000617.732587218285\n",
      "12.219999999999999 265 80000709.77955941856\n",
      "15.46 346 80000998.813208565116\n",
      "29.94 708 80000183.21093174815\n",
      "38.42 920 80000032.516511276364\n",
      "5.140000000000001 88 80000649.00771085918\n",
      "23.380000000000003 544 80000263.33590015769\n",
      "19.62 450 80000432.95051422715\n",
      "28.220000000000002 665 80000815.07969661057\n",
      "13.14 288 80000810.86777666211\n",
      "5.0600000000000005 86 80000250.17666938901\n",
      "35.18 839 80000552.734096348286\n",
      "24.62 575 80000777.312041819096\n",
      "41.339999999999996 993 80000811.438306853175\n",
      "12.82 280 80000199.30817961693\n",
      "29.98 709 80000723.87889204919\n",
      "39.58 949 80000749.238480210304\n",
      "32.06 761 80000399.1847140342\n",
      "17.54 398 80000792.46565423906\n",
      "3.5 47 80000589.798507750034\n",
      "30.66 726 80000521.42145887017\n",
      "25.62 600 80000260.75552198291\n",
      "35.18 839 80000060.359298199415\n",
      "17.34 393 80000807.21232941747\n",
      "17.580000000000002 399 80000216.67295819521\n",
      "12.940000000000001 283 80000942.38229085505\n",
      "27.94 658 80000693.03427194059\n",
      "19.62 450 80000369.631684705615\n",
      "6.42 120 80000520.546872377396\n",
      "15.620000000000001 350 80000395.77989049256\n",
      "12.5 272 80000284.68940325081\n",
      "24.46 571 80000664.475006356835\n",
      "16.740000000000002 378 80000410.75551979244\n",
      "28.34 668 80000451.879113674164\n",
      "28.26 666 80000174.83830589056\n",
      "32.54 773 80000297.10793355107\n",
      "20.3 467 80000783.125701248646\n",
      "8.86 181 80000003.428599357605\n",
      "14.780000000000001 329 80000971.409240707755\n",
      "40.58 974 80000007.180418133736\n",
      "2.1 12 80000660.18671748042\n",
      "2.5 22 80000089.15565529466\n",
      "38.379999999999995 919 80000975.64050154388\n",
      "39.62 950 80000347.32460169494\n",
      "19.62 450 80000974.77004908025\n",
      "12.7 277 80000720.58715964854\n",
      "5.9 107 80000008.176021426916\n",
      "3.7 52 80001009.596397176385\n",
      "30.220000000000002 715 80000903.92151616514\n",
      "33.02 785 80000560.58969677985\n",
      "39.82 955 80000355.60426925123\n",
      "9.940000000000001 208 80000146.431891173124\n",
      "37.82 905 80000888.94126729667\n",
      "12.059999999999999 261 80000512.479585409164\n",
      "38.14 913 80000252.985514968634\n",
      "17.26 391 80000665.17621576786\n",
      "28.180000000000003 664 80000595.763835296035\n",
      "14.620000000000001 325 80000936.44196587801\n",
      "3.34 43 80000816.704811513424\n",
      "33.34 793 80000341.72407652438\n",
      "6.5 122 80000396.31284117699\n",
      "25.26 591 80000279.13904826343\n",
      "39.94 958 80000810.001270249486\n",
      "36.26 866 80000940.29467050731\n",
      "39.5 947 80000752.70824530721\n",
      "8.54 173 80000183.68284714222\n",
      "33.14 788 80000628.88948699832\n",
      "25.14 588 80000781.72611118853\n",
      "6.7 127 80000073.81521306932\n",
      "4.94 83 80000785.36341136694\n",
      "34.66 826 80000611.95349282026\n",
      "18.42 420 80000900.8128515929\n",
      "3.98 59 80000827.4073446542\n",
      "38.46 921 80000136.491618439555\n",
      "18.46 421 80000092.158643990755\n",
      "35.46 846 80000765.4667224288\n",
      "4.34 68 80000146.35952179134\n",
      "11.379999999999999 244 80000277.80254943669\n",
      "20.62 475 80000829.66059269011\n",
      "25.740000000000002 603 80000318.99812464416\n",
      "16.54 373 80000230.207446575165\n",
      "36.339999999999996 868 80000368.489620789886\n",
      "12.34 268 80000852.59776712954\n",
      "39.339999999999996 943 80000739.904296547174\n",
      "26.180000000000003 614 80000084.38392549753\n",
      "31.740000000000002 753 80000799.881970733404\n",
      "27.94 658 80000754.23456764221\n",
      "5.140000000000001 88 80000116.62624913454\n",
      "11.02 235 80000765.06811144948\n",
      "33.1 787 80000623.792137786746\n",
      "22.020000000000003 510 80000868.06848114729\n",
      "23.3 542 80000873.14886234701\n",
      "17.26 391 80000476.0327218622\n",
      "1.98 9 80000100.935947969556\n",
      "22.060000000000002 511 80000717.29924210906\n",
      "18.14 413 80000985.20637777448\n",
      "15.100000000000001 337 80000042.41919325292\n",
      "33.34 793 80000745.704266637564\n",
      "12.899999999999999 282 80000839.699784219265\n",
      "31.14 738 80000240.66440632939\n",
      "9.18 189 80000908.87027671933\n",
      "32.38 769 80000459.920432657\n",
      "14.219999999999999 315 80000281.66787202656\n",
      "6.46 121 80000493.35879443586\n",
      "42.42 1020 80000916.718121901155\n",
      "11.7 252 80000644.882760211825\n",
      "37.26 891 80000382.077453806996\n",
      "40.339999999999996 968 80000091.500082850456\n",
      "13.02 285 80000188.89809964597\n",
      "32.339999999999996 768 80000787.658161982894\n",
      "28.78 679 80000850.37028862536\n",
      "7.0600000000000005 136 80000994.441833391786\n",
      "42.3 1017 80000948.791864678264\n",
      "30.5 722 80000611.83906060457\n",
      "31.060000000000002 736 80000627.16449086368\n",
      "18.1 412 80000754.3275937736\n",
      "3.74 53 80000709.794584959745\n",
      "34.379999999999995 819 80000345.975308820605\n",
      "37.059999999999995 886 80000767.26963350177\n",
      "29.94 708 80000132.51598034799\n",
      "23.060000000000002 536 80000899.03790041804\n",
      "37.46 896 80000919.645673155785\n",
      "20.3 467 80000770.32975102961\n",
      "2.8200000000000003 30 80000293.356203347445\n",
      "20.66 476 80000752.881983697414\n",
      "38.54 923 80000553.922179594636\n",
      "33.06 786 80000195.60482543707\n",
      "35.54 848 80000642.38429802656\n",
      "3.98 59 80000018.08373501897\n",
      "34.18 814 80000241.05537928641\n",
      "14.580000000000002 324 80000663.227578774095\n",
      "30.860000000000003 731 80000688.30932036042\n",
      "2.9000000000000004 32 80000591.97941620648\n",
      "21.98 509 80000521.63308496773\n",
      "4.42 70 80000094.805209457874\n",
      "34.26 816 80000104.193173110485\n",
      "4.5 72 80000119.70217871666\n",
      "4.58 74 80000909.811767444015\n",
      "37.94 908 80000100.14995288849\n",
      "25.82 605 80000502.71769653261\n",
      "14.3 317 80000090.80305439234\n",
      "17.46 396 80000981.74807231128\n",
      "11.5 247 80000118.313546299934\n",
      "21.700000000000003 502 80000956.18126910925\n",
      "13.98 309 80000018.83911728859\n",
      "30.42 720 80000643.78843893111\n",
      "17.22 390 80000910.60975474119\n",
      "26.26 616 80000684.38221885264\n",
      "30.220000000000002 715 80000516.56570722163\n",
      "17.34 393 80000010.78324916959\n",
      "41.78 1004 80000809.73774009943\n",
      "7.9 157 80000346.86677853763\n",
      "31.98 759 80000150.51030369103\n",
      "14.780000000000001 329 80000855.829678565264\n",
      "6.180000000000001 114 80000812.21489995718\n",
      "38.18 914 80000828.622610628605\n",
      "4.300000000000001 67 80000942.128024578094\n",
      "14.100000000000001 312 80000080.4114151746\n",
      "37.019999999999996 885 80000780.81437155604\n",
      "1.7000000000000002 2 80000201.68090777099\n",
      "24.5 572 80000936.16736589372\n",
      "11.18 239 80000273.71523039043\n",
      "41.699999999999996 1002 80000981.61112074554\n",
      "25.78 604 80000168.38902553916\n",
      "26.860000000000003 631 80000467.24169912934\n",
      "14.059999999999999 311 80000733.754086226225\n",
      "28.26 666 80000993.049590453506\n",
      "9.46 196 80000180.91684667766\n",
      "16.86 381 80000400.72491231561\n",
      "34.54 823 80000913.69095006585\n",
      "10.940000000000001 233 80000775.89942243695\n",
      "24.700000000000003 577 80000657.16480255127\n",
      "25.26 591 80000564.861919119954\n",
      "3.46 46 80000166.38718263805\n",
      "15.02 335 80000137.99286413193\n",
      "34.22 815 80000824.46000294387\n",
      "35.3 842 80000676.18293096125\n",
      "16.42 370 80000692.15807239711\n",
      "29.5 697 80000033.18797942996\n",
      "5.58 99 80000859.44560496509\n",
      "7.46 146 80000299.927507817745\n",
      "11.100000000000001 237 80000739.78259626031\n",
      "35.019999999999996 835 80000834.46965831518\n",
      "25.5 597 80000968.875151097775\n",
      "26.5 622 80000420.80564555526\n",
      "28.34 668 80000926.6409278512\n",
      "2.58 24 80000316.61531569064\n",
      "40.82 980 80000246.39591316879\n",
      "32.42 770 80000559.282619684935\n",
      "39.78 954 80000109.40503971279\n",
      "30.78 729 80000255.06581965089\n",
      "10.260000000000002 216 80000014.204483643174\n",
      "24.020000000000003 560 80001017.39824913442\n",
      "28.78 679 80000208.54558329284\n",
      "23.94 558 80000540.002261936665\n",
      "32.74 778 80000893.32567283511\n",
      "20.020000000000003 460 80000038.22435864806\n",
      "26.700000000000003 627 80000015.256171390414\n",
      "36.78 879 80000851.615449771285\n",
      "11.34 243 80000519.57560668886\n",
      "42.3 1017 80000991.80377283692\n",
      "34.66 826 80000647.63100332022\n",
      "2.5 22 80000808.523783952\n",
      "10.86 231 80000134.958766937256\n",
      "10.420000000000002 220 80000538.26394830644\n",
      "25.740000000000002 603 80000767.7786257714\n",
      "31.78 754 80000765.382397055626\n",
      "27.380000000000003 644 80000442.764658123255\n",
      "14.54 323 80000427.36044855416\n",
      "31.740000000000002 753 80000591.46542161703\n",
      "11.420000000000002 245 80000279.32166413963\n",
      "20.580000000000002 474 80000198.18857589364\n",
      "22.3 517 80000879.41517931223\n",
      "17.580000000000002 399 80000617.24794691801\n",
      "13.86 306 80000546.718622386456\n",
      "3.1 37 80000278.42643971741\n",
      "9.5 197 80000454.07206726074\n",
      "39.18 939 80000371.82940942049\n",
      "8.14 163 80000150.40001221001\n",
      "28.34 668 80000019.98157013953\n",
      "37.9 907 80000609.993093535304\n",
      "18.34 418 80000340.030776798725\n",
      "37.059999999999995 886 80000289.283936053514\n",
      "27.34 643 80000276.46777294576\n",
      "34.62 825 80000281.05502511561\n",
      "32.1 762 80000450.55909974873\n",
      "17.18 389 80000662.26141363382\n",
      "2.9000000000000004 32 80000215.606552898884\n",
      "24.42 570 80000252.06601053476\n",
      "10.86 231 80000266.91673760116\n",
      "10.580000000000002 224 80000527.819232299924\n",
      "30.94 733 80000999.3882278502\n",
      "36.66 876 80000115.363516911864\n",
      "15.86 356 80000594.042805209756\n",
      "33.9 807 80000795.87703709304\n",
      "7.5 147 80000425.28199738264\n",
      "4.82 80 80000610.186307400465\n",
      "3.62 50 80000212.2733836025\n",
      "12.14 263 80000070.24889309704\n",
      "27.82 655 80000336.63410934806\n",
      "19.78 454 80000160.18738743663\n",
      "12.66 276 80000298.93143287301\n",
      "7.180000000000001 139 80000410.03962627053\n",
      "33.98 809 80000997.405183792114\n",
      "23.3 542 80000889.59991361201\n",
      "36.339999999999996 868 80000822.00912617147\n",
      "18.34 418 80000203.25650832057\n",
      "21.380000000000003 494 80000290.772457659245\n",
      "21.42 495 80000505.48890078068\n",
      "33.86 806 80000215.30322690308\n",
      "11.98 259 80000128.36573840678\n",
      "32.9 782 80000446.16962249577\n",
      "41.58 999 80000113.71510283649\n",
      "9.740000000000002 203 80000521.153368234634\n",
      "23.5 547 80000759.07206888497\n",
      "22.740000000000002 528 80000195.27073279023\n",
      "20.3 467 80000635.002951964736\n",
      "22.5 522 80000043.69195660949\n",
      "11.580000000000002 249 80000260.88460493088\n",
      "15.66 351 80000229.47965101898\n",
      "28.860000000000003 681 80000619.30346444249\n",
      "15.740000000000002 353 80000136.26415735483\n",
      "9.34 193 80000136.271308645606\n",
      "14.34 318 80000945.718157589436\n",
      "32.86 781 80000164.495729878545\n",
      "18.14 413 80000141.88128243387\n",
      "31.94 758 80000296.29710520804\n",
      "8.74 178 80000010.36281684041\n",
      "4.74 78 80000508.71263246238\n",
      "21.18 489 80000331.37347571552\n",
      "39.62 950 80000052.919592529535\n",
      "16.66 376 80000309.568026304245\n",
      "24.46 571 80000415.37962676585\n",
      "28.5 672 80001002.54425382614\n",
      "18.1 412 80000281.735276550055\n",
      "26.900000000000002 632 80000914.66017211974\n",
      "9.58 199 80000249.85402186215\n",
      "3.34 43 80000456.48143340647\n",
      "23.580000000000002 549 80000169.713349059224\n",
      "23.94 558 80000184.32184153795\n",
      "39.059999999999995 936 80000374.209455892444\n",
      "25.380000000000003 594 80000288.84559759498\n",
      "27.62 650 80000382.55412106216\n",
      "40.379999999999995 969 80000676.80372226238\n",
      "19.900000000000002 457 80000497.20662690699\n"
     ]
    },
    {
     "name": "stderr",
     "output_type": "stream",
     "text": [
      "/home/saurav/.local/lib/python3.12/site-packages/stingray/io.py:1531: UserWarning: ascii.ecsv output does not serialize the metadata at the moment. Some attributes will be lost.\n",
      "  warnings.warn(\n"
     ]
    },
    {
     "data": {
      "text/plain": [
       "array([80000617.17802332, 80000353.19656566, 80000056.48970987,\n",
       "       80000067.34170531, 80000637.37147714, 80000777.77507702,\n",
       "       80000158.56582601, 80000630.68285809, 80000562.67902566,\n",
       "       80000816.81600319], dtype=float128)"
      ]
     },
     "execution_count": 19,
     "metadata": {},
     "output_type": "execute_result"
    }
   ],
   "source": [
    "# Try the round trip again to verify that everything works\n",
    "\n",
    "ev.write(\"events.ecsv\", \"ascii.ecsv\")\n",
    "ev4 = EventList.read(\"events.ecsv\", \"ascii.ecsv\")\n",
    "!cat events.ecsv\n",
    "ev4.time[:10]"
   ]
  },
  {
   "cell_type": "markdown",
   "metadata": {},
   "source": [
    "# Transforming a Lightcurve into an EventList."
   ]
  },
  {
   "cell_type": "markdown",
   "metadata": {},
   "source": [
    "Event lists can be obtained from light curves, where the standard followed is as follows: as many events are created as the counts in the lightcurve at the time specified by time bins.\n",
    "\n",
    "To demonstrate this, let us define a light curve."
   ]
  },
  {
   "cell_type": "code",
   "execution_count": 20,
   "metadata": {},
   "outputs": [],
   "source": [
    "times = np.arange(3)\n",
    "counts = np.floor(np.random.rand(3)*5)\n",
    "lc = Lightcurve(times, counts, skip_checks=True, dt=1.)"
   ]
  },
  {
   "cell_type": "code",
   "execution_count": 21,
   "metadata": {},
   "outputs": [
    {
     "data": {
      "text/plain": [
       "(array([0, 1, 2]), array([0., 3., 4.]))"
      ]
     },
     "execution_count": 21,
     "metadata": {},
     "output_type": "execute_result"
    }
   ],
   "source": [
    "lc.time, lc.counts"
   ]
  },
  {
   "cell_type": "markdown",
   "metadata": {},
   "source": [
    "Now, eventlist can be loaded by calling static `from_lc()` method."
   ]
  },
  {
   "cell_type": "code",
   "execution_count": 22,
   "metadata": {},
   "outputs": [
    {
     "data": {
      "text/plain": [
       "array([1., 1., 1., 2., 2., 2., 2.])"
      ]
     },
     "execution_count": 22,
     "metadata": {},
     "output_type": "execute_result"
    }
   ],
   "source": [
    "ev = EventList.from_lc(lc)\n",
    "ev.time"
   ]
  },
  {
   "cell_type": "markdown",
   "metadata": {},
   "source": [
    "# Simulating EventList from Lightcurve"
   ]
  },
  {
   "attachments": {},
   "cell_type": "markdown",
   "metadata": {},
   "source": [
    "An arguably better way is having proper random events, reproducing the initial light curve within the errors. Stingray does this by using the inverse CDF method, using the light curve as a binned probability distribution.\n",
    "Please note that in this case we will have to create the EventList object before (in technical terms, `simulate_times` is not a static method.). See simulation tutorial for more details.\n"
   ]
  },
  {
   "cell_type": "code",
   "execution_count": 23,
   "metadata": {},
   "outputs": [
    {
     "data": {
      "text/plain": [
       "array([0.67094954, 1.08799918, 1.1467428 , 1.63753589, 1.95852219,\n",
       "       2.01219721, 2.05959715, 2.25531298, 2.26764884, 2.4567578 ])"
      ]
     },
     "execution_count": 23,
     "metadata": {},
     "output_type": "execute_result"
    }
   ],
   "source": [
    "ev = EventList()\n",
    "ev.simulate_times(lc)\n",
    "ev.time"
   ]
  },
  {
   "cell_type": "markdown",
   "metadata": {},
   "source": [
    "# Creating a light curve from an EventList object"
   ]
  },
  {
   "cell_type": "markdown",
   "metadata": {},
   "source": [
    "After simulating event list, the original light curve can be recovered. Let's demonstrate by creating a light curve."
   ]
  },
  {
   "cell_type": "code",
   "execution_count": 24,
   "metadata": {},
   "outputs": [],
   "source": [
    "dt = 1.\n",
    "times = np.arange(50)\n",
    "counts = np.floor(np.random.rand(50)*50000)\n",
    "lc = Lightcurve(times, counts, skip_checks=True, dt=1.)"
   ]
  },
  {
   "cell_type": "markdown",
   "metadata": {},
   "source": [
    "Simulate an event list."
   ]
  },
  {
   "cell_type": "code",
   "execution_count": 25,
   "metadata": {},
   "outputs": [],
   "source": [
    "ev = EventList()\n",
    "ev = ev.from_lc(lc)"
   ]
  },
  {
   "cell_type": "code",
   "execution_count": 26,
   "metadata": {},
   "outputs": [
    {
     "data": {
      "text/plain": [
       "array([[-0.5, 49.5]])"
      ]
     },
     "execution_count": 26,
     "metadata": {},
     "output_type": "execute_result"
    }
   ],
   "source": [
    "ev.gti"
   ]
  },
  {
   "cell_type": "markdown",
   "metadata": {},
   "source": [
    "Recover original light curve curve using `to_lc()` method. Here, `dt` defines time resolution, `tstart` the starting time, and `tseg` the total time duration."
   ]
  },
  {
   "cell_type": "code",
   "execution_count": 27,
   "metadata": {},
   "outputs": [],
   "source": [
    "lc_new = ev.to_lc(dt=1)"
   ]
  },
  {
   "cell_type": "markdown",
   "metadata": {},
   "source": [
    "Let us verify that this has worked properly, by comparing the input and output light curves"
   ]
  },
  {
   "cell_type": "code",
   "execution_count": 28,
   "metadata": {},
   "outputs": [
    {
     "data": {
      "text/plain": [
       "Text(0, 0.5, 'Counts')"
      ]
     },
     "execution_count": 28,
     "metadata": {},
     "output_type": "execute_result"
    },
    {
     "data": {
      "image/png": "[encoded data removed]",
      "text/plain": [
       "<Figure size 640x480 with 1 Axes>"
      ]
     },
     "metadata": {},
     "output_type": "display_data"
    }
   ],
   "source": [
    "plt.plot(lc.time, lc.counts,'r-', lc_new.counts, 'g-', drawstyle=\"steps-mid\")\n",
    "plt.xlabel('Times')\n",
    "plt.ylabel('Counts')"
   ]
  },
  {
   "cell_type": "markdown",
   "metadata": {},
   "source": [
    "... and their difference"
   ]
  },
  {
   "cell_type": "code",
   "execution_count": 29,
   "metadata": {},
   "outputs": [
    {
     "data": {
      "text/plain": [
       "Text(0, 0.5, 'Counts')"
      ]
     },
     "execution_count": 29,
     "metadata": {},
     "output_type": "execute_result"
    },
    {
     "data": {
      "image/png": "[encoded data removed]",
      "text/plain": [
       "<Figure size 640x480 with 1 Axes>"
      ]
     },
     "metadata": {},
     "output_type": "display_data"
    }
   ],
   "source": [
    "plt.plot(lc.time, lc.counts - lc_new.counts, 'g-', drawstyle=\"steps-mid\")\n",
    "plt.xlabel('Times')\n",
    "plt.ylabel('Counts')"
   ]
  },
  {
   "cell_type": "markdown",
   "metadata": {},
   "source": [
    "As can be seen from the figure above, the recovered light curve is aligned with the original light curve."
   ]
  },
  {
   "cell_type": "markdown",
   "metadata": {},
   "source": [
    "# Simulating Energies"
   ]
  },
  {
   "cell_type": "markdown",
   "metadata": {},
   "source": [
    "In order to simulate photon energies, a spectral distribution needs to be passed.\n",
    "The `spectrum` input is a two-dimensional array, with the energies in keV in the first dimension and the number of counts in the second. The count array will be normalized before the simulation: the raw counts do not matter, but only the ratio of the counts in each bin to the total.\n",
    "Again, the energies are simulated using an inverse CDF method."
   ]
  },
  {
   "cell_type": "code",
   "execution_count": 30,
   "metadata": {},
   "outputs": [],
   "source": [
    "spectrum = [[1, 2, 3, 4, 5, 6],[1000, 2040, 1000, 3000, 4020, 2070]]"
   ]
  },
  {
   "cell_type": "code",
   "execution_count": 31,
   "metadata": {},
   "outputs": [],
   "source": [
    "ev = EventList(time=np.sort(np.random.uniform(0, 1000, 12)))\n",
    "ev.simulate_energies(spectrum)"
   ]
  },
  {
   "cell_type": "code",
   "execution_count": 32,
   "metadata": {},
   "outputs": [
    {
     "data": {
      "text/plain": [
       "array([4.80014625, 4.81786938, 4.72005565, 3.24424225, 3.4734844 ,\n",
       "       5.4380219 , 5.9303155 , 4.15807266, 2.60749098, 4.84672757,\n",
       "       6.37017303, 6.11577598])"
      ]
     },
     "execution_count": 32,
     "metadata": {},
     "output_type": "execute_result"
    }
   ],
   "source": [
    "ev.energy"
   ]
  },
  {
   "cell_type": "markdown",
   "metadata": {},
   "source": [
    "# Joining EventLists"
   ]
  },
  {
   "cell_type": "markdown",
   "metadata": {},
   "source": [
    "Two event lists can also be joined together. If the GTI do not overlap, the event times and GTIs are appended. Otherwise, the GTIs are crossed (i.e., only the overlapping parts are saved) and the events merged together."
   ]
  },
  {
   "cell_type": "code",
   "execution_count": 33,
   "metadata": {},
   "outputs": [
    {
     "data": {
      "text/plain": [
       "(array([1, 2, 3, 4, 5]), array([[0.5, 5.5]]))"
      ]
     },
     "execution_count": 33,
     "metadata": {},
     "output_type": "execute_result"
    }
   ],
   "source": [
    "ev1 = EventList(time=[1,2,3], gti=[[0.5, 3.5]])\n",
    "ev2 = EventList(time=[4,5], gti=[[3.5, 5.5]])\n",
    "ev = ev1.join(ev2)\n",
    "ev.time, ev.gti"
   ]
  },
  {
   "cell_type": "code",
   "execution_count": 34,
   "metadata": {},
   "outputs": [
    {
     "data": {
      "text/plain": [
       "(array([1. , 1.2, 2. , 3. , 3.3, 5.6]), array([[0.6, 3.5]]))"
      ]
     },
     "execution_count": 34,
     "metadata": {},
     "output_type": "execute_result"
    }
   ],
   "source": [
    "ev1 = EventList(time=[1,2,3], gti=[[0.5, 3.5]])\n",
    "ev2 = EventList(time=[1.2, 3.3, 5.6], gti=[[0.6, 7.8]])\n",
    "ev = ev1.join(ev2)\n",
    "ev.time, ev.gti"
   ]
  },
  {
   "cell_type": "code",
   "execution_count": null,
   "metadata": {},
   "outputs": [],
   "source": []
  }
 ],
 "metadata": {
  "kernelspec": {
   "display_name": "Python 3",
   "language": "python",
   "name": "python3"
  },
  "language_info": {
   "codemirror_mode": {
    "name": "ipython",
    "version": 3
   },
   "file_extension": ".py",
   "mimetype": "text/x-python",
   "name": "python",
   "nbconvert_exporter": "python",
   "pygments_lexer": "ipython3",
   "version": "3.12.3"
  }
 },
 "nbformat": 4,
 "nbformat_minor": 1
}
